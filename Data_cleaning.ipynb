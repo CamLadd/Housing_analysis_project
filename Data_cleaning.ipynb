{
 "cells": [
  {
   "cell_type": "markdown",
   "metadata": {},
   "source": [
    "## Import libraries and modules"
   ]
  },
  {
   "cell_type": "code",
   "execution_count": 1,
   "metadata": {},
   "outputs": [],
   "source": [
    "import pandas as pd\r\n",
    "import matplotlib.pyplot as plt\r\n",
    "from scipy import stats\r\n",
    "import numpy as np\r\n",
    "import statsmodels\r\n",
    "from statsmodels.formula.api import ols\r\n",
    "import seaborn as sns\r\n",
    "import statsmodels.api as sm\r\n",
    "import sklearn as sk\r\n",
    "\r\n",
    "from warnings import simplefilter\r\n",
    "# ignore all future warnings\r\n",
    "simplefilter(action='ignore', category=FutureWarning)"
   ]
  },
  {
   "cell_type": "markdown",
   "metadata": {},
   "source": [
    "## Data Summary and Goal"
   ]
  },
  {
   "cell_type": "markdown",
   "metadata": {},
   "source": [
    "The data provided is a collection of records of successful house sales and those homes' living attributes, such as:\r\n",
    "\r\n",
    "1. Number of Floors\r\n",
    "2. Amount of living space\r\n",
    "3. Price\r\n",
    "4. Number of assorted rooms (bathrooms, bedrooms)\r\n",
    "5. Location\r\n",
    "6. ETC.\r\n",
    "\r\n",
    "\r\n",
    "The goal of this project is to create a relatively accurate prediction model for the prices that future houses sell for. We will explore how different factors affect the pricing the homes, given the data, and compile the most important features into a compatible regression model.\r\n",
    "\r\n",
    "The final result will be a flexible prediciton model(s) that allow for easy prediction of future price sales given certain criteria!"
   ]
  },
  {
   "cell_type": "markdown",
   "metadata": {},
   "source": [
    "## Data Inspection and Cleaning"
   ]
  },
  {
   "cell_type": "code",
   "execution_count": 2,
   "metadata": {},
   "outputs": [
    {
     "name": "stdout",
     "output_type": "stream",
     "text": [
      "(21597, 21)\n"
     ]
    },
    {
     "data": {
      "text/html": "<div>\n<style scoped>\n    .dataframe tbody tr th:only-of-type {\n        vertical-align: middle;\n    }\n\n    .dataframe tbody tr th {\n        vertical-align: top;\n    }\n\n    .dataframe thead th {\n        text-align: right;\n    }\n</style>\n<table border=\"1\" class=\"dataframe\">\n  <thead>\n    <tr style=\"text-align: right;\">\n      <th></th>\n      <th>id</th>\n      <th>date</th>\n      <th>price</th>\n      <th>bedrooms</th>\n      <th>bathrooms</th>\n      <th>sqft_living</th>\n      <th>sqft_lot</th>\n      <th>floors</th>\n      <th>waterfront</th>\n      <th>view</th>\n      <th>...</th>\n      <th>grade</th>\n      <th>sqft_above</th>\n      <th>sqft_basement</th>\n      <th>yr_built</th>\n      <th>yr_renovated</th>\n      <th>zipcode</th>\n      <th>lat</th>\n      <th>long</th>\n      <th>sqft_living15</th>\n      <th>sqft_lot15</th>\n    </tr>\n  </thead>\n  <tbody>\n    <tr>\n      <th>0</th>\n      <td>7129300520</td>\n      <td>10/13/2014</td>\n      <td>221900.0</td>\n      <td>3</td>\n      <td>1.00</td>\n      <td>1180</td>\n      <td>5650</td>\n      <td>1.0</td>\n      <td>NaN</td>\n      <td>0.0</td>\n      <td>...</td>\n      <td>7</td>\n      <td>1180</td>\n      <td>0.0</td>\n      <td>1955</td>\n      <td>0.0</td>\n      <td>98178</td>\n      <td>47.5112</td>\n      <td>-122.257</td>\n      <td>1340</td>\n      <td>5650</td>\n    </tr>\n    <tr>\n      <th>1</th>\n      <td>6414100192</td>\n      <td>12/9/2014</td>\n      <td>538000.0</td>\n      <td>3</td>\n      <td>2.25</td>\n      <td>2570</td>\n      <td>7242</td>\n      <td>2.0</td>\n      <td>0.0</td>\n      <td>0.0</td>\n      <td>...</td>\n      <td>7</td>\n      <td>2170</td>\n      <td>400.0</td>\n      <td>1951</td>\n      <td>1991.0</td>\n      <td>98125</td>\n      <td>47.7210</td>\n      <td>-122.319</td>\n      <td>1690</td>\n      <td>7639</td>\n    </tr>\n    <tr>\n      <th>2</th>\n      <td>5631500400</td>\n      <td>2/25/2015</td>\n      <td>180000.0</td>\n      <td>2</td>\n      <td>1.00</td>\n      <td>770</td>\n      <td>10000</td>\n      <td>1.0</td>\n      <td>0.0</td>\n      <td>0.0</td>\n      <td>...</td>\n      <td>6</td>\n      <td>770</td>\n      <td>0.0</td>\n      <td>1933</td>\n      <td>NaN</td>\n      <td>98028</td>\n      <td>47.7379</td>\n      <td>-122.233</td>\n      <td>2720</td>\n      <td>8062</td>\n    </tr>\n    <tr>\n      <th>3</th>\n      <td>2487200875</td>\n      <td>12/9/2014</td>\n      <td>604000.0</td>\n      <td>4</td>\n      <td>3.00</td>\n      <td>1960</td>\n      <td>5000</td>\n      <td>1.0</td>\n      <td>0.0</td>\n      <td>0.0</td>\n      <td>...</td>\n      <td>7</td>\n      <td>1050</td>\n      <td>910.0</td>\n      <td>1965</td>\n      <td>0.0</td>\n      <td>98136</td>\n      <td>47.5208</td>\n      <td>-122.393</td>\n      <td>1360</td>\n      <td>5000</td>\n    </tr>\n    <tr>\n      <th>4</th>\n      <td>1954400510</td>\n      <td>2/18/2015</td>\n      <td>510000.0</td>\n      <td>3</td>\n      <td>2.00</td>\n      <td>1680</td>\n      <td>8080</td>\n      <td>1.0</td>\n      <td>0.0</td>\n      <td>0.0</td>\n      <td>...</td>\n      <td>8</td>\n      <td>1680</td>\n      <td>0.0</td>\n      <td>1987</td>\n      <td>0.0</td>\n      <td>98074</td>\n      <td>47.6168</td>\n      <td>-122.045</td>\n      <td>1800</td>\n      <td>7503</td>\n    </tr>\n  </tbody>\n</table>\n<p>5 rows × 21 columns</p>\n</div>",
      "text/plain": "           id        date     price  bedrooms  bathrooms  sqft_living  \\\n0  7129300520  10/13/2014  221900.0         3       1.00         1180   \n1  6414100192   12/9/2014  538000.0         3       2.25         2570   \n2  5631500400   2/25/2015  180000.0         2       1.00          770   \n3  2487200875   12/9/2014  604000.0         4       3.00         1960   \n4  1954400510   2/18/2015  510000.0         3       2.00         1680   \n\n   sqft_lot  floors  waterfront  view  ...  grade  sqft_above  sqft_basement  \\\n0      5650     1.0         NaN   0.0  ...      7        1180            0.0   \n1      7242     2.0         0.0   0.0  ...      7        2170          400.0   \n2     10000     1.0         0.0   0.0  ...      6         770            0.0   \n3      5000     1.0         0.0   0.0  ...      7        1050          910.0   \n4      8080     1.0         0.0   0.0  ...      8        1680            0.0   \n\n  yr_built  yr_renovated  zipcode      lat     long  sqft_living15  sqft_lot15  \n0     1955           0.0    98178  47.5112 -122.257           1340        5650  \n1     1951        1991.0    98125  47.7210 -122.319           1690        7639  \n2     1933           NaN    98028  47.7379 -122.233           2720        8062  \n3     1965           0.0    98136  47.5208 -122.393           1360        5000  \n4     1987           0.0    98074  47.6168 -122.045           1800        7503  \n\n[5 rows x 21 columns]"
     },
     "execution_count": 2,
     "metadata": {},
     "output_type": "execute_result"
    }
   ],
   "source": [
    "# Import data\r\n",
    "df = pd.read_csv('../my_project_workspace_repo/data/kc_house_data.csv')\r\n",
    "\r\n",
    "# Display shape and .head()\r\n",
    "print(df.shape)\r\n",
    "df.head()"
   ]
  },
  {
   "cell_type": "code",
   "execution_count": 3,
   "metadata": {},
   "outputs": [
    {
     "name": "stdout",
     "output_type": "stream",
     "text": [
      "<class 'pandas.core.frame.DataFrame'>\n",
      "RangeIndex: 21597 entries, 0 to 21596\n",
      "Data columns (total 21 columns):\n",
      " #   Column         Non-Null Count  Dtype  \n",
      "---  ------         --------------  -----  \n",
      " 0   id             21597 non-null  int64  \n",
      " 1   date           21597 non-null  object \n",
      " 2   price          21597 non-null  float64\n",
      " 3   bedrooms       21597 non-null  int64  \n",
      " 4   bathrooms      21597 non-null  float64\n",
      " 5   sqft_living    21597 non-null  int64  \n",
      " 6   sqft_lot       21597 non-null  int64  \n",
      " 7   floors         21597 non-null  float64\n",
      " 8   waterfront     19221 non-null  float64\n",
      " 9   view           21534 non-null  float64\n",
      " 10  condition      21597 non-null  int64  \n",
      " 11  grade          21597 non-null  int64  \n",
      " 12  sqft_above     21597 non-null  int64  \n",
      " 13  sqft_basement  21597 non-null  object \n",
      " 14  yr_built       21597 non-null  int64  \n",
      " 15  yr_renovated   17755 non-null  float64\n",
      " 16  zipcode        21597 non-null  int64  \n",
      " 17  lat            21597 non-null  float64\n",
      " 18  long           21597 non-null  float64\n",
      " 19  sqft_living15  21597 non-null  int64  \n",
      " 20  sqft_lot15     21597 non-null  int64  \n",
      "dtypes: float64(8), int64(11), object(2)\n",
      "memory usage: 3.5+ MB\n",
      "id                  0\n",
      "date                0\n",
      "price               0\n",
      "bedrooms            0\n",
      "bathrooms           0\n",
      "sqft_living         0\n",
      "sqft_lot            0\n",
      "floors              0\n",
      "waterfront       2376\n",
      "view               63\n",
      "condition           0\n",
      "grade               0\n",
      "sqft_above          0\n",
      "sqft_basement       0\n",
      "yr_built            0\n",
      "yr_renovated     3842\n",
      "zipcode             0\n",
      "lat                 0\n",
      "long                0\n",
      "sqft_living15       0\n",
      "sqft_lot15          0\n",
      "dtype: int64\n"
     ]
    }
   ],
   "source": [
    "# Check data types and missing values\r\n",
    "df.info()\r\n",
    "print(df.isna().sum())"
   ]
  },
  {
   "cell_type": "code",
   "execution_count": 4,
   "metadata": {},
   "outputs": [
    {
     "name": "stdout",
     "output_type": "stream",
     "text": [
      "(15762, 21)\n",
      "id               0\n",
      "date             0\n",
      "price            0\n",
      "bedrooms         0\n",
      "bathrooms        0\n",
      "sqft_living      0\n",
      "sqft_lot         0\n",
      "floors           0\n",
      "waterfront       0\n",
      "view             0\n",
      "condition        0\n",
      "grade            0\n",
      "sqft_above       0\n",
      "sqft_basement    0\n",
      "yr_built         0\n",
      "yr_renovated     0\n",
      "zipcode          0\n",
      "lat              0\n",
      "long             0\n",
      "sqft_living15    0\n",
      "sqft_lot15       0\n",
      "dtype: int64\n"
     ]
    },
    {
     "data": {
      "text/html": "<div>\n<style scoped>\n    .dataframe tbody tr th:only-of-type {\n        vertical-align: middle;\n    }\n\n    .dataframe tbody tr th {\n        vertical-align: top;\n    }\n\n    .dataframe thead th {\n        text-align: right;\n    }\n</style>\n<table border=\"1\" class=\"dataframe\">\n  <thead>\n    <tr style=\"text-align: right;\">\n      <th></th>\n      <th>id</th>\n      <th>price</th>\n      <th>bedrooms</th>\n      <th>bathrooms</th>\n      <th>sqft_living</th>\n      <th>sqft_lot</th>\n      <th>floors</th>\n      <th>waterfront</th>\n      <th>view</th>\n      <th>condition</th>\n      <th>grade</th>\n      <th>sqft_above</th>\n      <th>yr_built</th>\n      <th>yr_renovated</th>\n      <th>zipcode</th>\n      <th>lat</th>\n      <th>long</th>\n      <th>sqft_living15</th>\n      <th>sqft_lot15</th>\n    </tr>\n  </thead>\n  <tbody>\n    <tr>\n      <th>count</th>\n      <td>1.576200e+04</td>\n      <td>1.576200e+04</td>\n      <td>15762.000000</td>\n      <td>15762.000000</td>\n      <td>15762.000000</td>\n      <td>1.576200e+04</td>\n      <td>15762.000000</td>\n      <td>15762.000000</td>\n      <td>15762.000000</td>\n      <td>15762.000000</td>\n      <td>15762.000000</td>\n      <td>15762.000000</td>\n      <td>15762.000000</td>\n      <td>15762.000000</td>\n      <td>15762.000000</td>\n      <td>15762.000000</td>\n      <td>15762.000000</td>\n      <td>15762.000000</td>\n      <td>15762.000000</td>\n    </tr>\n    <tr>\n      <th>mean</th>\n      <td>4.593364e+09</td>\n      <td>5.413172e+05</td>\n      <td>3.378949</td>\n      <td>2.120797</td>\n      <td>2084.512372</td>\n      <td>1.528082e+04</td>\n      <td>1.495147</td>\n      <td>0.007613</td>\n      <td>0.229984</td>\n      <td>3.410862</td>\n      <td>7.663748</td>\n      <td>1792.775473</td>\n      <td>1971.111217</td>\n      <td>82.440236</td>\n      <td>98077.558241</td>\n      <td>47.559177</td>\n      <td>-122.213520</td>\n      <td>1990.219579</td>\n      <td>12900.415556</td>\n    </tr>\n    <tr>\n      <th>std</th>\n      <td>2.876078e+09</td>\n      <td>3.722258e+05</td>\n      <td>0.935301</td>\n      <td>0.766772</td>\n      <td>918.617686</td>\n      <td>4.182288e+04</td>\n      <td>0.539352</td>\n      <td>0.086924</td>\n      <td>0.761324</td>\n      <td>0.651961</td>\n      <td>1.172238</td>\n      <td>828.403502</td>\n      <td>29.336823</td>\n      <td>397.212626</td>\n      <td>53.414906</td>\n      <td>0.138629</td>\n      <td>0.140706</td>\n      <td>684.142495</td>\n      <td>27977.230059</td>\n    </tr>\n    <tr>\n      <th>min</th>\n      <td>1.000102e+06</td>\n      <td>8.200000e+04</td>\n      <td>1.000000</td>\n      <td>0.500000</td>\n      <td>370.000000</td>\n      <td>5.200000e+02</td>\n      <td>1.000000</td>\n      <td>0.000000</td>\n      <td>0.000000</td>\n      <td>1.000000</td>\n      <td>3.000000</td>\n      <td>370.000000</td>\n      <td>1900.000000</td>\n      <td>0.000000</td>\n      <td>98001.000000</td>\n      <td>47.155900</td>\n      <td>-122.519000</td>\n      <td>399.000000</td>\n      <td>659.000000</td>\n    </tr>\n    <tr>\n      <th>25%</th>\n      <td>2.125159e+09</td>\n      <td>3.210000e+05</td>\n      <td>3.000000</td>\n      <td>1.750000</td>\n      <td>1430.000000</td>\n      <td>5.048500e+03</td>\n      <td>1.000000</td>\n      <td>0.000000</td>\n      <td>0.000000</td>\n      <td>3.000000</td>\n      <td>7.000000</td>\n      <td>1200.000000</td>\n      <td>1952.000000</td>\n      <td>0.000000</td>\n      <td>98033.000000</td>\n      <td>47.469200</td>\n      <td>-122.328000</td>\n      <td>1490.000000</td>\n      <td>5100.000000</td>\n    </tr>\n    <tr>\n      <th>50%</th>\n      <td>3.905081e+09</td>\n      <td>4.500000e+05</td>\n      <td>3.000000</td>\n      <td>2.250000</td>\n      <td>1920.000000</td>\n      <td>7.602000e+03</td>\n      <td>1.500000</td>\n      <td>0.000000</td>\n      <td>0.000000</td>\n      <td>3.000000</td>\n      <td>7.000000</td>\n      <td>1570.000000</td>\n      <td>1975.000000</td>\n      <td>0.000000</td>\n      <td>98065.000000</td>\n      <td>47.571000</td>\n      <td>-122.229000</td>\n      <td>1846.000000</td>\n      <td>7620.000000</td>\n    </tr>\n    <tr>\n      <th>75%</th>\n      <td>7.334501e+09</td>\n      <td>6.448750e+05</td>\n      <td>4.000000</td>\n      <td>2.500000</td>\n      <td>2550.000000</td>\n      <td>1.072000e+04</td>\n      <td>2.000000</td>\n      <td>0.000000</td>\n      <td>0.000000</td>\n      <td>4.000000</td>\n      <td>8.000000</td>\n      <td>2220.000000</td>\n      <td>1997.000000</td>\n      <td>0.000000</td>\n      <td>98117.000000</td>\n      <td>47.677400</td>\n      <td>-122.124000</td>\n      <td>2370.000000</td>\n      <td>10107.500000</td>\n    </tr>\n    <tr>\n      <th>max</th>\n      <td>9.895000e+09</td>\n      <td>7.700000e+06</td>\n      <td>33.000000</td>\n      <td>8.000000</td>\n      <td>13540.000000</td>\n      <td>1.651359e+06</td>\n      <td>3.500000</td>\n      <td>1.000000</td>\n      <td>4.000000</td>\n      <td>5.000000</td>\n      <td>13.000000</td>\n      <td>9410.000000</td>\n      <td>2015.000000</td>\n      <td>2015.000000</td>\n      <td>98199.000000</td>\n      <td>47.777600</td>\n      <td>-121.315000</td>\n      <td>6210.000000</td>\n      <td>871200.000000</td>\n    </tr>\n  </tbody>\n</table>\n</div>",
      "text/plain": "                 id         price      bedrooms     bathrooms   sqft_living  \\\ncount  1.576200e+04  1.576200e+04  15762.000000  15762.000000  15762.000000   \nmean   4.593364e+09  5.413172e+05      3.378949      2.120797   2084.512372   \nstd    2.876078e+09  3.722258e+05      0.935301      0.766772    918.617686   \nmin    1.000102e+06  8.200000e+04      1.000000      0.500000    370.000000   \n25%    2.125159e+09  3.210000e+05      3.000000      1.750000   1430.000000   \n50%    3.905081e+09  4.500000e+05      3.000000      2.250000   1920.000000   \n75%    7.334501e+09  6.448750e+05      4.000000      2.500000   2550.000000   \nmax    9.895000e+09  7.700000e+06     33.000000      8.000000  13540.000000   \n\n           sqft_lot        floors    waterfront          view     condition  \\\ncount  1.576200e+04  15762.000000  15762.000000  15762.000000  15762.000000   \nmean   1.528082e+04      1.495147      0.007613      0.229984      3.410862   \nstd    4.182288e+04      0.539352      0.086924      0.761324      0.651961   \nmin    5.200000e+02      1.000000      0.000000      0.000000      1.000000   \n25%    5.048500e+03      1.000000      0.000000      0.000000      3.000000   \n50%    7.602000e+03      1.500000      0.000000      0.000000      3.000000   \n75%    1.072000e+04      2.000000      0.000000      0.000000      4.000000   \nmax    1.651359e+06      3.500000      1.000000      4.000000      5.000000   \n\n              grade    sqft_above      yr_built  yr_renovated       zipcode  \\\ncount  15762.000000  15762.000000  15762.000000  15762.000000  15762.000000   \nmean       7.663748   1792.775473   1971.111217     82.440236  98077.558241   \nstd        1.172238    828.403502     29.336823    397.212626     53.414906   \nmin        3.000000    370.000000   1900.000000      0.000000  98001.000000   \n25%        7.000000   1200.000000   1952.000000      0.000000  98033.000000   \n50%        7.000000   1570.000000   1975.000000      0.000000  98065.000000   \n75%        8.000000   2220.000000   1997.000000      0.000000  98117.000000   \nmax       13.000000   9410.000000   2015.000000   2015.000000  98199.000000   \n\n                lat          long  sqft_living15     sqft_lot15  \ncount  15762.000000  15762.000000   15762.000000   15762.000000  \nmean      47.559177   -122.213520    1990.219579   12900.415556  \nstd        0.138629      0.140706     684.142495   27977.230059  \nmin       47.155900   -122.519000     399.000000     659.000000  \n25%       47.469200   -122.328000    1490.000000    5100.000000  \n50%       47.571000   -122.229000    1846.000000    7620.000000  \n75%       47.677400   -122.124000    2370.000000   10107.500000  \nmax       47.777600   -121.315000    6210.000000  871200.000000  "
     },
     "execution_count": 4,
     "metadata": {},
     "output_type": "execute_result"
    }
   ],
   "source": [
    "df.dropna(inplace=True)\r\n",
    "\r\n",
    "# Confirm NaN values have been dropped and check descriptive statistics. \r\n",
    "print(df.shape)\r\n",
    "print(df.isna().sum())\r\n",
    "df.describe()"
   ]
  },
  {
   "cell_type": "code",
   "execution_count": 7,
   "metadata": {},
   "outputs": [],
   "source": [
    "# Dealing with the 'sqft_basement' column. \r\n",
    "\r\n",
    "# Checking to see if my guess that all of the elements in the series are str types is true\r\n",
    "for x in df['sqft_basement']:\r\n",
    "    not_str_sqft = 0\r\n",
    "    if type(x) != str:\r\n",
    "        not_str_sqft += 1\r\n",
    "        \r\n",
    "\r\n",
    "# All of the elements in this series are of type str\r\n",
    "if not_str_sqft == 0:\r\n",
    "    # Replacing original series\r\n",
    "    converted_to_str = pd.to_numeric(df['sqft_basement'], errors='coerce')\r\n",
    "    df['sqft_basement'] = converted_to_str\r\n",
    "    # Confirm that the series has been converted successfully\r\n",
    "    if df['sqft_basement'].dtype == np.float64:\r\n",
    "        pass\r\n",
    "    \r\n",
    "\r\n"
   ]
  },
  {
   "cell_type": "code",
   "execution_count": 18,
   "metadata": {},
   "outputs": [
    {
     "ename": "ValueError",
     "evalue": "unconverted data remains: 14",
     "output_type": "error",
     "traceback": [
      "\u001b[1;31m---------------------------------------------------------------------------\u001b[0m",
      "\u001b[1;31mValueError\u001b[0m                                Traceback (most recent call last)",
      "\u001b[1;32m<ipython-input-18-f39d6d463cef>\u001b[0m in \u001b[0;36m<module>\u001b[1;34m\u001b[0m\n\u001b[0;32m     10\u001b[0m \u001b[1;32mif\u001b[0m \u001b[0mnot_str_date\u001b[0m \u001b[1;33m==\u001b[0m \u001b[1;36m0\u001b[0m\u001b[1;33m:\u001b[0m\u001b[1;33m\u001b[0m\u001b[1;33m\u001b[0m\u001b[0m\n\u001b[0;32m     11\u001b[0m     \u001b[1;32mfor\u001b[0m \u001b[0mstring\u001b[0m \u001b[1;32min\u001b[0m \u001b[0mdf\u001b[0m\u001b[1;33m[\u001b[0m\u001b[1;34m'date'\u001b[0m\u001b[1;33m]\u001b[0m\u001b[1;33m:\u001b[0m\u001b[1;33m\u001b[0m\u001b[1;33m\u001b[0m\u001b[0m\n\u001b[1;32m---> 12\u001b[1;33m         \u001b[0mdate_time_object\u001b[0m \u001b[1;33m=\u001b[0m \u001b[0mdatetime\u001b[0m\u001b[1;33m.\u001b[0m\u001b[0mstrptime\u001b[0m\u001b[1;33m(\u001b[0m\u001b[0mstring\u001b[0m\u001b[1;33m,\u001b[0m\u001b[1;34m'%y/%m/%d'\u001b[0m\u001b[1;33m)\u001b[0m\u001b[1;33m\u001b[0m\u001b[1;33m\u001b[0m\u001b[0m\n\u001b[0m\u001b[0;32m     13\u001b[0m         \u001b[0mstring\u001b[0m \u001b[1;33m=\u001b[0m \u001b[0mdate_time_object\u001b[0m\u001b[1;33m\u001b[0m\u001b[1;33m\u001b[0m\u001b[0m\n",
      "\u001b[1;32m~\\anaconda3\\envs\\learn-env\\lib\\_strptime.py\u001b[0m in \u001b[0;36m_strptime_datetime\u001b[1;34m(cls, data_string, format)\u001b[0m\n\u001b[0;32m    566\u001b[0m     \"\"\"Return a class cls instance based on the input string and the\n\u001b[0;32m    567\u001b[0m     format string.\"\"\"\n\u001b[1;32m--> 568\u001b[1;33m     \u001b[0mtt\u001b[0m\u001b[1;33m,\u001b[0m \u001b[0mfraction\u001b[0m\u001b[1;33m,\u001b[0m \u001b[0mgmtoff_fraction\u001b[0m \u001b[1;33m=\u001b[0m \u001b[0m_strptime\u001b[0m\u001b[1;33m(\u001b[0m\u001b[0mdata_string\u001b[0m\u001b[1;33m,\u001b[0m \u001b[0mformat\u001b[0m\u001b[1;33m)\u001b[0m\u001b[1;33m\u001b[0m\u001b[1;33m\u001b[0m\u001b[0m\n\u001b[0m\u001b[0;32m    569\u001b[0m     \u001b[0mtzname\u001b[0m\u001b[1;33m,\u001b[0m \u001b[0mgmtoff\u001b[0m \u001b[1;33m=\u001b[0m \u001b[0mtt\u001b[0m\u001b[1;33m[\u001b[0m\u001b[1;33m-\u001b[0m\u001b[1;36m2\u001b[0m\u001b[1;33m:\u001b[0m\u001b[1;33m]\u001b[0m\u001b[1;33m\u001b[0m\u001b[1;33m\u001b[0m\u001b[0m\n\u001b[0;32m    570\u001b[0m     \u001b[0margs\u001b[0m \u001b[1;33m=\u001b[0m \u001b[0mtt\u001b[0m\u001b[1;33m[\u001b[0m\u001b[1;33m:\u001b[0m\u001b[1;36m6\u001b[0m\u001b[1;33m]\u001b[0m \u001b[1;33m+\u001b[0m \u001b[1;33m(\u001b[0m\u001b[0mfraction\u001b[0m\u001b[1;33m,\u001b[0m\u001b[1;33m)\u001b[0m\u001b[1;33m\u001b[0m\u001b[1;33m\u001b[0m\u001b[0m\n",
      "\u001b[1;32m~\\anaconda3\\envs\\learn-env\\lib\\_strptime.py\u001b[0m in \u001b[0;36m_strptime\u001b[1;34m(data_string, format)\u001b[0m\n\u001b[0;32m    350\u001b[0m                          (data_string, format))\n\u001b[0;32m    351\u001b[0m     \u001b[1;32mif\u001b[0m \u001b[0mlen\u001b[0m\u001b[1;33m(\u001b[0m\u001b[0mdata_string\u001b[0m\u001b[1;33m)\u001b[0m \u001b[1;33m!=\u001b[0m \u001b[0mfound\u001b[0m\u001b[1;33m.\u001b[0m\u001b[0mend\u001b[0m\u001b[1;33m(\u001b[0m\u001b[1;33m)\u001b[0m\u001b[1;33m:\u001b[0m\u001b[1;33m\u001b[0m\u001b[1;33m\u001b[0m\u001b[0m\n\u001b[1;32m--> 352\u001b[1;33m         raise ValueError(\"unconverted data remains: %s\" %\n\u001b[0m\u001b[0;32m    353\u001b[0m                           data_string[found.end():])\n\u001b[0;32m    354\u001b[0m \u001b[1;33m\u001b[0m\u001b[0m\n",
      "\u001b[1;31mValueError\u001b[0m: unconverted data remains: 14"
     ]
    }
   ],
   "source": [
    "# Now have to convert all of the dates in the 'date' column to something I can work with (a datetime object)\r\n",
    "from datetime import datetime\r\n",
    "\r\n",
    "for x in df['date']:\r\n",
    "    not_str_date = 0\r\n",
    "    if type(x) != str:\r\n",
    "        not_str += 1\r\n",
    "        \r\n",
    "        \r\n",
    "if not_str_date == 0:\r\n",
    "    for string in df['date']:\r\n",
    "        date_time_object = datetime.strptime(string,'%y/%m/%d')\r\n",
    "        string = date_time_object\r\n",
    "\r\n"
   ]
  },
  {
   "cell_type": "code",
   "execution_count": 24,
   "metadata": {},
   "outputs": [
    {
     "data": {
      "text/plain": "str"
     },
     "execution_count": 24,
     "metadata": {},
     "output_type": "execute_result"
    }
   ],
   "source": []
  },
  {
   "cell_type": "markdown",
   "metadata": {},
   "source": [
    "## Target and Features"
   ]
  },
  {
   "cell_type": "code",
   "execution_count": null,
   "metadata": {},
   "outputs": [],
   "source": [
    "target = 'price'\r\n",
    "dense_factors = ['sqft_living', 'sqft_lot','sqft_above','sqft_basement','sqft_living15', 'sqft_lot15']\r\n",
    "sparse_factors = "
   ]
  },
  {
   "cell_type": "code",
   "execution_count": null,
   "metadata": {},
   "outputs": [],
   "source": [
    "target = "
   ]
  },
  {
   "cell_type": "markdown",
   "metadata": {},
   "source": [
    "## Preliminary regression and collinearity check"
   ]
  },
  {
   "cell_type": "code",
   "execution_count": null,
   "metadata": {},
   "outputs": [],
   "source": [
    "# Preliminary Regression Model (includes all independent variables)\r\n",
    "model1 = ols(formula='price~grade+bedrooms+bathrooms+sqft_living+sqft_lot+floors+sqft_above+sqft_basement+yr_built+yr_renovated+sqft_living15+sqft_lot15', data=df).fit()\r\n",
    "print(model1.summary())\r\n",
    "\r\n",
    "# Preliminary collinearity check\r\n",
    "fig, ax = plt.subplots(figsize=(12,12))\r\n",
    "print(sns.heatmap(df.corr(), ax=ax))"
   ]
  },
  {
   "cell_type": "markdown",
   "metadata": {},
   "source": [
    "## Price Distribution"
   ]
  },
  {
   "cell_type": "code",
   "execution_count": null,
   "metadata": {},
   "outputs": [],
   "source": [
    "price_mean = df['price'].mean()\r\n",
    "price_std = df['price'].std()\r\n",
    "price_mean, price_std"
   ]
  },
  {
   "cell_type": "code",
   "execution_count": null,
   "metadata": {},
   "outputs": [],
   "source": [
    "fig, ax = plt.subplots(figsize=(12,12))\r\n",
    "ax = sns.distplot(df['price'], label='Price Density')\r\n",
    "plt.axvline(price_mean, color='red', label='Mean Price')\r\n",
    "plt.legend()"
   ]
  },
  {
   "cell_type": "markdown",
   "metadata": {},
   "source": [
    "## Floors"
   ]
  },
  {
   "cell_type": "code",
   "execution_count": null,
   "metadata": {},
   "outputs": [],
   "source": [
    "df.boxplot('price', by='floors', figsize=(12,12))\r\n",
    "plt.tight_layout()\r\n",
    "plt.ylabel('Price')\r\n",
    "plt.xlabel('# of Floors')\r\n",
    "plt.title('Avg Prices per Floor #')"
   ]
  },
  {
   "cell_type": "code",
   "execution_count": null,
   "metadata": {},
   "outputs": [],
   "source": []
  },
  {
   "cell_type": "markdown",
   "metadata": {},
   "source": [
    "## Sqft_living"
   ]
  },
  {
   "cell_type": "code",
   "execution_count": null,
   "metadata": {},
   "outputs": [],
   "source": [
    "# Bar plot of sqft_living to price\r\n",
    "fig, axes = plt.subplots(1, 2, figsize=(12,12))\r\n",
    "sns.barplot(x='sqft_living', y='price', data=df, ci=None, ax = axes[0])\r\n",
    "sns.distplot(df['sqft_living'], ax=axes[1])\r\n",
    "# The average of the living square feet is displayed with a red line on the pdf graph\r\n",
    "\r\n",
    "\r\n",
    "# The results indicate a clear correlation between the living space size and the price. As living space size goes up, generally so does price.\r\n",
    "\r\n",
    "# The strong correlation coefficient between the two variables helps validate this claim\r\n",
    "df.corr()['price'][df.corr()['price'] >= .70]\r\n",
    "\r\n"
   ]
  },
  {
   "cell_type": "code",
   "execution_count": null,
   "metadata": {},
   "outputs": [],
   "source": [
    "model2 = ols(formula='price~sqft_living', data=df).fit()\r\n",
    "model2.summary()"
   ]
  },
  {
   "cell_type": "markdown",
   "metadata": {},
   "source": [
    "## Location"
   ]
  },
  {
   "cell_type": "code",
   "execution_count": null,
   "metadata": {},
   "outputs": [],
   "source": []
  }
 ],
 "metadata": {
  "kernelspec": {
   "display_name": "learn-env",
   "language": "python",
   "name": "learn-env"
  },
  "language_info": {
   "codemirror_mode": {
    "name": "ipython",
    "version": 3
   },
   "file_extension": ".py",
   "mimetype": "text/x-python",
   "name": "python",
   "nbconvert_exporter": "python",
   "pygments_lexer": "ipython3",
   "version": "3.8.5"
  },
  "orig_nbformat": 2
 },
 "nbformat": 4,
 "nbformat_minor": 2
}