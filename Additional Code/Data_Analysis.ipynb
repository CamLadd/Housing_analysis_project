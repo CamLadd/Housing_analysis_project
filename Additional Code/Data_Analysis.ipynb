{
 "cells": [
  {
   "cell_type": "code",
   "execution_count": 41,
   "metadata": {},
   "outputs": [],
   "source": [
    "import pandas as pd\n",
    "import numpy as np\n",
    "from scipy import stats as stats\n",
    "from scipy import interpolate\n",
    "import sklearn\n",
    "from matplotlib import pyplot as plt\n",
    "import regex\n",
    "import statsmodels.api as sm\n",
    "import pickle"
   ]
  },
  {
   "cell_type": "code",
   "execution_count": 42,
   "metadata": {},
   "outputs": [],
   "source": [
    "df=pd.read_pickle('Final_Train.pkl')\n",
    "with open('variable_org','rb') as f:\n",
    "    variable_org=pickle.load(f)\n",
    "    pass\n",
    "\n",
    "target=variable_org['target']\n",
    "dense_factors=variable_org['dense']\n",
    "sparse_factors=variable_org['sparse']\n",
    "category_factors=variable_org['categorical']\n",
    "ordinal_factors=variable_org['ordinal']\n",
    "other_factors=variable_org['other']"
   ]
  },
  {
   "cell_type": "code",
   "execution_count": 3,
   "metadata": {},
   "outputs": [
    {
     "data": {
      "text/plain": [
       "price             1.000000\n",
       "sqft_living       0.694384\n",
       "sqft_outside      0.076741\n",
       "percent_above    -0.138359\n",
       "sqft_living15     0.597030\n",
       "sqft_outside15    0.068597\n",
       "age              -0.053388\n",
       "Name: price, dtype: float64"
      ]
     },
     "execution_count": 3,
     "metadata": {},
     "output_type": "execute_result"
    }
   ],
   "source": [
    "df[target+dense_factors].corr()['price']"
   ]
  },
  {
   "cell_type": "markdown",
   "metadata": {},
   "source": [
    "How about the correlation matrix of all our dense factors."
   ]
  },
  {
   "cell_type": "code",
   "execution_count": 6,
   "metadata": {},
   "outputs": [
    {
     "data": {
      "text/html": [
       "<div>\n",
       "<style scoped>\n",
       "    .dataframe tbody tr th:only-of-type {\n",
       "        vertical-align: middle;\n",
       "    }\n",
       "\n",
       "    .dataframe tbody tr th {\n",
       "        vertical-align: top;\n",
       "    }\n",
       "\n",
       "    .dataframe thead th {\n",
       "        text-align: right;\n",
       "    }\n",
       "</style>\n",
       "<table border=\"1\" class=\"dataframe\">\n",
       "  <thead>\n",
       "    <tr style=\"text-align: right;\">\n",
       "      <th></th>\n",
       "      <th>sqft_living</th>\n",
       "      <th>sqft_outside</th>\n",
       "      <th>percent_above</th>\n",
       "      <th>sqft_living15</th>\n",
       "      <th>sqft_outside15</th>\n",
       "      <th>age</th>\n",
       "    </tr>\n",
       "  </thead>\n",
       "  <tbody>\n",
       "    <tr>\n",
       "      <th>sqft_living</th>\n",
       "      <td>1.000000</td>\n",
       "      <td>0.172987</td>\n",
       "      <td>-0.208717</td>\n",
       "      <td>0.760565</td>\n",
       "      <td>0.170093</td>\n",
       "      <td>-0.321947</td>\n",
       "    </tr>\n",
       "    <tr>\n",
       "      <th>sqft_outside</th>\n",
       "      <td>0.172987</td>\n",
       "      <td>1.000000</td>\n",
       "      <td>0.032826</td>\n",
       "      <td>0.170758</td>\n",
       "      <td>0.790179</td>\n",
       "      <td>-0.055836</td>\n",
       "    </tr>\n",
       "    <tr>\n",
       "      <th>percent_above</th>\n",
       "      <td>-0.208717</td>\n",
       "      <td>0.032826</td>\n",
       "      <td>1.000000</td>\n",
       "      <td>-0.035126</td>\n",
       "      <td>0.031297</td>\n",
       "      <td>-0.197491</td>\n",
       "    </tr>\n",
       "    <tr>\n",
       "      <th>sqft_living15</th>\n",
       "      <td>0.760565</td>\n",
       "      <td>0.170758</td>\n",
       "      <td>-0.035126</td>\n",
       "      <td>1.000000</td>\n",
       "      <td>0.187659</td>\n",
       "      <td>-0.327377</td>\n",
       "    </tr>\n",
       "    <tr>\n",
       "      <th>sqft_outside15</th>\n",
       "      <td>0.170093</td>\n",
       "      <td>0.790179</td>\n",
       "      <td>0.031297</td>\n",
       "      <td>0.187659</td>\n",
       "      <td>1.000000</td>\n",
       "      <td>-0.067725</td>\n",
       "    </tr>\n",
       "    <tr>\n",
       "      <th>age</th>\n",
       "      <td>-0.321947</td>\n",
       "      <td>-0.055836</td>\n",
       "      <td>-0.197491</td>\n",
       "      <td>-0.327377</td>\n",
       "      <td>-0.067725</td>\n",
       "      <td>1.000000</td>\n",
       "    </tr>\n",
       "  </tbody>\n",
       "</table>\n",
       "</div>"
      ],
      "text/plain": [
       "                sqft_living  sqft_outside  percent_above  sqft_living15  \\\n",
       "sqft_living        1.000000      0.172987      -0.208717       0.760565   \n",
       "sqft_outside       0.172987      1.000000       0.032826       0.170758   \n",
       "percent_above     -0.208717      0.032826       1.000000      -0.035126   \n",
       "sqft_living15      0.760565      0.170758      -0.035126       1.000000   \n",
       "sqft_outside15     0.170093      0.790179       0.031297       0.187659   \n",
       "age               -0.321947     -0.055836      -0.197491      -0.327377   \n",
       "\n",
       "                sqft_outside15       age  \n",
       "sqft_living           0.170093 -0.321947  \n",
       "sqft_outside          0.790179 -0.055836  \n",
       "percent_above         0.031297 -0.197491  \n",
       "sqft_living15         0.187659 -0.327377  \n",
       "sqft_outside15        1.000000 -0.067725  \n",
       "age                  -0.067725  1.000000  "
      ]
     },
     "execution_count": 6,
     "metadata": {},
     "output_type": "execute_result"
    }
   ],
   "source": [
    "corrs=df[dense_factors].corr()\n",
    "corrs"
   ]
  },
  {
   "cell_type": "code",
   "execution_count": 7,
   "metadata": {},
   "outputs": [
    {
     "name": "stderr",
     "output_type": "stream",
     "text": [
      "<ipython-input-7-6c2a641601de>:3: UserWarning: FixedFormatter should only be used together with FixedLocator\n",
      "  ax.set_xticklabels(dense_factors)\n"
     ]
    },
    {
     "data": {
      "text/plain": [
       "[Text(-1.0, 0, 'sqft_living'),\n",
       " Text(0.0, 0, 'sqft_outside'),\n",
       " Text(1.0, 0, 'percent_above'),\n",
       " Text(2.0, 0, 'sqft_living15'),\n",
       " Text(3.0, 0, 'sqft_outside15'),\n",
       " Text(4.0, 0, 'age'),\n",
       " Text(5.0, 0, ''),\n",
       " Text(6.0, 0, '')]"
      ]
     },
     "execution_count": 7,
     "metadata": {},
     "output_type": "execute_result"
    },
    {
     "data": {
      "image/png": "[encoded data removed]",
      "text/plain": [
       "<Figure size 720x720 with 1 Axes>"
      ]
     },
     "metadata": {
      "needs_background": "light"
     },
     "output_type": "display_data"
    }
   ],
   "source": [
    "fig,ax=plt.subplots(figsize=(10,10))\n",
    "im=ax.imshow(corrs,cmap='Reds')\n",
    "ax.set_xticklabels(dense_factors)"
   ]
  },
  {
   "cell_type": "markdown",
   "metadata": {},
   "source": [
    "Let's compare sale prices for the four seasons."
   ]
  },
  {
   "cell_type": "code",
   "execution_count": 8,
   "metadata": {},
   "outputs": [],
   "source": [
    "winter=df[df.season=='Winter'].price\n",
    "fall=df[df.season=='Fall'].price\n",
    "summer=df[df.season=='Summer'].price\n",
    "spring=df[df.season=='Spring'].price"
   ]
  },
  {
   "cell_type": "code",
   "execution_count": 9,
   "metadata": {},
   "outputs": [
    {
     "data": {
      "text/html": [
       "<div>\n",
       "<style scoped>\n",
       "    .dataframe tbody tr th:only-of-type {\n",
       "        vertical-align: middle;\n",
       "    }\n",
       "\n",
       "    .dataframe tbody tr th {\n",
       "        vertical-align: top;\n",
       "    }\n",
       "\n",
       "    .dataframe thead th {\n",
       "        text-align: right;\n",
       "    }\n",
       "</style>\n",
       "<table border=\"1\" class=\"dataframe\">\n",
       "  <thead>\n",
       "    <tr style=\"text-align: right;\">\n",
       "      <th></th>\n",
       "      <th>mean</th>\n",
       "      <th>std</th>\n",
       "      <th>count</th>\n",
       "    </tr>\n",
       "    <tr>\n",
       "      <th>season</th>\n",
       "      <th></th>\n",
       "      <th></th>\n",
       "      <th></th>\n",
       "    </tr>\n",
       "  </thead>\n",
       "  <tbody>\n",
       "    <tr>\n",
       "      <th>Fall</th>\n",
       "      <td>527.00</td>\n",
       "      <td>347.59</td>\n",
       "      <td>5026</td>\n",
       "    </tr>\n",
       "    <tr>\n",
       "      <th>Spring</th>\n",
       "      <td>550.07</td>\n",
       "      <td>353.72</td>\n",
       "      <td>6471</td>\n",
       "    </tr>\n",
       "    <tr>\n",
       "      <th>Summer</th>\n",
       "      <td>542.66</td>\n",
       "      <td>343.24</td>\n",
       "      <td>6303</td>\n",
       "    </tr>\n",
       "    <tr>\n",
       "      <th>Winter</th>\n",
       "      <td>519.28</td>\n",
       "      <td>348.32</td>\n",
       "      <td>3667</td>\n",
       "    </tr>\n",
       "  </tbody>\n",
       "</table>\n",
       "</div>"
      ],
      "text/plain": [
       "          mean     std  count\n",
       "season                       \n",
       "Fall    527.00  347.59   5026\n",
       "Spring  550.07  353.72   6471\n",
       "Summer  542.66  343.24   6303\n",
       "Winter  519.28  348.32   3667"
      ]
     },
     "execution_count": 9,
     "metadata": {},
     "output_type": "execute_result"
    }
   ],
   "source": [
    "df.groupby(['season']).price.agg(['mean','std','count']).round(2)"
   ]
  },
  {
   "cell_type": "code",
   "execution_count": 10,
   "metadata": {},
   "outputs": [
    {
     "data": {
      "text/plain": [
       "F_onewayResult(statistic=8.128692559355823, pvalue=2.0880396895263044e-05)"
      ]
     },
     "execution_count": 10,
     "metadata": {},
     "output_type": "execute_result"
    }
   ],
   "source": [
    "stats.f_oneway(winter,fall,summer,spring)"
   ]
  },
  {
   "cell_type": "markdown",
   "metadata": {},
   "source": [
    "At a significance level of 0.01, there is evidence to reject."
   ]
  },
  {
   "cell_type": "markdown",
   "metadata": {},
   "source": [
    "Next let's look at renovation status"
   ]
  },
  {
   "cell_type": "code",
   "execution_count": 11,
   "metadata": {},
   "outputs": [
    {
     "data": {
      "text/html": [
       "<div>\n",
       "<style scoped>\n",
       "    .dataframe tbody tr th:only-of-type {\n",
       "        vertical-align: middle;\n",
       "    }\n",
       "\n",
       "    .dataframe tbody tr th {\n",
       "        vertical-align: top;\n",
       "    }\n",
       "\n",
       "    .dataframe thead th {\n",
       "        text-align: right;\n",
       "    }\n",
       "</style>\n",
       "<table border=\"1\" class=\"dataframe\">\n",
       "  <thead>\n",
       "    <tr style=\"text-align: right;\">\n",
       "      <th></th>\n",
       "      <th>mean</th>\n",
       "      <th>std</th>\n",
       "      <th>count</th>\n",
       "    </tr>\n",
       "    <tr>\n",
       "      <th>renovation_status</th>\n",
       "      <th></th>\n",
       "      <th></th>\n",
       "      <th></th>\n",
       "    </tr>\n",
       "  </thead>\n",
       "  <tbody>\n",
       "    <tr>\n",
       "      <th>10-24</th>\n",
       "      <td>849.98</td>\n",
       "      <td>543.88</td>\n",
       "      <td>258</td>\n",
       "    </tr>\n",
       "    <tr>\n",
       "      <th>2-4</th>\n",
       "      <td>751.77</td>\n",
       "      <td>442.44</td>\n",
       "      <td>35</td>\n",
       "    </tr>\n",
       "    <tr>\n",
       "      <th>25+</th>\n",
       "      <td>604.22</td>\n",
       "      <td>447.88</td>\n",
       "      <td>226</td>\n",
       "    </tr>\n",
       "    <tr>\n",
       "      <th>5-9</th>\n",
       "      <td>878.50</td>\n",
       "      <td>608.00</td>\n",
       "      <td>107</td>\n",
       "    </tr>\n",
       "    <tr>\n",
       "      <th>Never</th>\n",
       "      <td>529.84</td>\n",
       "      <td>339.23</td>\n",
       "      <td>20730</td>\n",
       "    </tr>\n",
       "    <tr>\n",
       "      <th>Recent</th>\n",
       "      <td>658.79</td>\n",
       "      <td>320.32</td>\n",
       "      <td>111</td>\n",
       "    </tr>\n",
       "  </tbody>\n",
       "</table>\n",
       "</div>"
      ],
      "text/plain": [
       "                     mean     std  count\n",
       "renovation_status                       \n",
       "10-24              849.98  543.88    258\n",
       "2-4                751.77  442.44     35\n",
       "25+                604.22  447.88    226\n",
       "5-9                878.50  608.00    107\n",
       "Never              529.84  339.23  20730\n",
       "Recent             658.79  320.32    111"
      ]
     },
     "execution_count": 11,
     "metadata": {},
     "output_type": "execute_result"
    }
   ],
   "source": [
    "df.groupby(['renovation_status']).price.agg(['mean','std','count']).round(2)"
   ]
  },
  {
   "cell_type": "markdown",
   "metadata": {},
   "source": [
    "We will exclude the houses that were never renovated to avoid issues of homogeneity."
   ]
  },
  {
   "cell_type": "code",
   "execution_count": 12,
   "metadata": {},
   "outputs": [
    {
     "name": "stdout",
     "output_type": "stream",
     "text": [
      "5\n"
     ]
    }
   ],
   "source": [
    "frames=()\n",
    "for status in df.renovation_status.unique():\n",
    "    if(status!='Never'):\n",
    "        frames+=(df[df.renovation_status==status].price,)\n",
    "    else:\n",
    "        pass\n",
    "print(len(frames))"
   ]
  },
  {
   "cell_type": "code",
   "execution_count": 13,
   "metadata": {},
   "outputs": [
    {
     "data": {
      "text/plain": [
       "F_onewayResult(statistic=10.321693611985523, pvalue=3.899675814868449e-08)"
      ]
     },
     "execution_count": 13,
     "metadata": {},
     "output_type": "execute_result"
    }
   ],
   "source": [
    "stats.f_oneway(*frames)"
   ]
  },
  {
   "cell_type": "code",
   "execution_count": 15,
   "metadata": {},
   "outputs": [],
   "source": [
    "never=df[df.renovation_status=='Never'].price\n",
    "renovated=df[df.renovation_status!='Never'].price"
   ]
  },
  {
   "cell_type": "code",
   "execution_count": 16,
   "metadata": {},
   "outputs": [
    {
     "data": {
      "text/html": [
       "<div>\n",
       "<style scoped>\n",
       "    .dataframe tbody tr th:only-of-type {\n",
       "        vertical-align: middle;\n",
       "    }\n",
       "\n",
       "    .dataframe tbody tr th {\n",
       "        vertical-align: top;\n",
       "    }\n",
       "\n",
       "    .dataframe thead th {\n",
       "        text-align: right;\n",
       "    }\n",
       "</style>\n",
       "<table border=\"1\" class=\"dataframe\">\n",
       "  <thead>\n",
       "    <tr style=\"text-align: right;\">\n",
       "      <th></th>\n",
       "      <th>mean</th>\n",
       "      <th>std</th>\n",
       "      <th>count</th>\n",
       "    </tr>\n",
       "  </thead>\n",
       "  <tbody>\n",
       "    <tr>\n",
       "      <th>renovated</th>\n",
       "      <td>745.299943</td>\n",
       "      <td>505.858603</td>\n",
       "      <td>737.0</td>\n",
       "    </tr>\n",
       "    <tr>\n",
       "      <th>never</th>\n",
       "      <td>529.836053</td>\n",
       "      <td>339.232485</td>\n",
       "      <td>20730.0</td>\n",
       "    </tr>\n",
       "  </tbody>\n",
       "</table>\n",
       "</div>"
      ],
      "text/plain": [
       "                 mean         std    count\n",
       "renovated  745.299943  505.858603    737.0\n",
       "never      529.836053  339.232485  20730.0"
      ]
     },
     "execution_count": 16,
     "metadata": {},
     "output_type": "execute_result"
    }
   ],
   "source": [
    "two_way_comp=pd.DataFrame([renovated.agg(['mean','std','count']),never.agg(['mean','std','count'])])\n",
    "two_way_comp.index=['renovated','never']\n",
    "two_way_comp"
   ]
  },
  {
   "cell_type": "markdown",
   "metadata": {},
   "source": [
    "Let's look at the sale price organized by zip code."
   ]
  },
  {
   "cell_type": "code",
   "execution_count": 25,
   "metadata": {},
   "outputs": [
    {
     "data": {
      "text/html": [
       "<div>\n",
       "<style scoped>\n",
       "    .dataframe tbody tr th:only-of-type {\n",
       "        vertical-align: middle;\n",
       "    }\n",
       "\n",
       "    .dataframe tbody tr th {\n",
       "        vertical-align: top;\n",
       "    }\n",
       "\n",
       "    .dataframe thead th {\n",
       "        text-align: right;\n",
       "    }\n",
       "</style>\n",
       "<table border=\"1\" class=\"dataframe\">\n",
       "  <thead>\n",
       "    <tr style=\"text-align: right;\">\n",
       "      <th></th>\n",
       "      <th>count</th>\n",
       "      <th>mean</th>\n",
       "    </tr>\n",
       "    <tr>\n",
       "      <th>zipcode</th>\n",
       "      <th></th>\n",
       "      <th></th>\n",
       "    </tr>\n",
       "  </thead>\n",
       "  <tbody>\n",
       "    <tr>\n",
       "      <th>98001</th>\n",
       "      <td>359</td>\n",
       "      <td>280.881192</td>\n",
       "    </tr>\n",
       "    <tr>\n",
       "      <th>98002</th>\n",
       "      <td>199</td>\n",
       "      <td>234.284035</td>\n",
       "    </tr>\n",
       "    <tr>\n",
       "      <th>98003</th>\n",
       "      <td>280</td>\n",
       "      <td>294.111279</td>\n",
       "    </tr>\n",
       "    <tr>\n",
       "      <th>98004</th>\n",
       "      <td>313</td>\n",
       "      <td>1317.549856</td>\n",
       "    </tr>\n",
       "    <tr>\n",
       "      <th>98005</th>\n",
       "      <td>168</td>\n",
       "      <td>810.289696</td>\n",
       "    </tr>\n",
       "    <tr>\n",
       "      <th>...</th>\n",
       "      <td>...</td>\n",
       "      <td>...</td>\n",
       "    </tr>\n",
       "    <tr>\n",
       "      <th>98177</th>\n",
       "      <td>254</td>\n",
       "      <td>676.523406</td>\n",
       "    </tr>\n",
       "    <tr>\n",
       "      <th>98178</th>\n",
       "      <td>262</td>\n",
       "      <td>310.612756</td>\n",
       "    </tr>\n",
       "    <tr>\n",
       "      <th>98188</th>\n",
       "      <td>136</td>\n",
       "      <td>289.078346</td>\n",
       "    </tr>\n",
       "    <tr>\n",
       "      <th>98198</th>\n",
       "      <td>278</td>\n",
       "      <td>303.298694</td>\n",
       "    </tr>\n",
       "    <tr>\n",
       "      <th>98199</th>\n",
       "      <td>316</td>\n",
       "      <td>792.631506</td>\n",
       "    </tr>\n",
       "  </tbody>\n",
       "</table>\n",
       "<p>70 rows × 2 columns</p>\n",
       "</div>"
      ],
      "text/plain": [
       "         count         mean\n",
       "zipcode                    \n",
       "98001      359   280.881192\n",
       "98002      199   234.284035\n",
       "98003      280   294.111279\n",
       "98004      313  1317.549856\n",
       "98005      168   810.289696\n",
       "...        ...          ...\n",
       "98177      254   676.523406\n",
       "98178      262   310.612756\n",
       "98188      136   289.078346\n",
       "98198      278   303.298694\n",
       "98199      316   792.631506\n",
       "\n",
       "[70 rows x 2 columns]"
      ]
     },
     "execution_count": 25,
     "metadata": {},
     "output_type": "execute_result"
    }
   ],
   "source": [
    "zipcode_pricing=df.groupby(['zipcode']).price.agg(['count','mean'])\n",
    "zipcode_pricing"
   ]
  },
  {
   "cell_type": "code",
   "execution_count": 27,
   "metadata": {},
   "outputs": [
    {
     "data": {
      "text/html": [
       "<div>\n",
       "<style scoped>\n",
       "    .dataframe tbody tr th:only-of-type {\n",
       "        vertical-align: middle;\n",
       "    }\n",
       "\n",
       "    .dataframe tbody tr th {\n",
       "        vertical-align: top;\n",
       "    }\n",
       "\n",
       "    .dataframe thead th {\n",
       "        text-align: right;\n",
       "    }\n",
       "</style>\n",
       "<table border=\"1\" class=\"dataframe\">\n",
       "  <thead>\n",
       "    <tr style=\"text-align: right;\">\n",
       "      <th></th>\n",
       "      <th>count</th>\n",
       "      <th>mean</th>\n",
       "    </tr>\n",
       "    <tr>\n",
       "      <th>zipcode</th>\n",
       "      <th></th>\n",
       "      <th></th>\n",
       "    </tr>\n",
       "  </thead>\n",
       "  <tbody>\n",
       "    <tr>\n",
       "      <th>98039</th>\n",
       "      <td>48</td>\n",
       "      <td>1991.770833</td>\n",
       "    </tr>\n",
       "    <tr>\n",
       "      <th>98004</th>\n",
       "      <td>313</td>\n",
       "      <td>1317.549856</td>\n",
       "    </tr>\n",
       "    <tr>\n",
       "      <th>98040</th>\n",
       "      <td>278</td>\n",
       "      <td>1170.688367</td>\n",
       "    </tr>\n",
       "    <tr>\n",
       "      <th>98112</th>\n",
       "      <td>268</td>\n",
       "      <td>1094.695123</td>\n",
       "    </tr>\n",
       "    <tr>\n",
       "      <th>98109</th>\n",
       "      <td>109</td>\n",
       "      <td>880.077752</td>\n",
       "    </tr>\n",
       "    <tr>\n",
       "      <th>98105</th>\n",
       "      <td>229</td>\n",
       "      <td>863.228943</td>\n",
       "    </tr>\n",
       "    <tr>\n",
       "      <th>98006</th>\n",
       "      <td>496</td>\n",
       "      <td>853.385887</td>\n",
       "    </tr>\n",
       "    <tr>\n",
       "      <th>98119</th>\n",
       "      <td>184</td>\n",
       "      <td>849.714810</td>\n",
       "    </tr>\n",
       "    <tr>\n",
       "      <th>98102</th>\n",
       "      <td>103</td>\n",
       "      <td>833.584447</td>\n",
       "    </tr>\n",
       "    <tr>\n",
       "      <th>98005</th>\n",
       "      <td>168</td>\n",
       "      <td>810.289696</td>\n",
       "    </tr>\n",
       "  </tbody>\n",
       "</table>\n",
       "</div>"
      ],
      "text/plain": [
       "         count         mean\n",
       "zipcode                    \n",
       "98039       48  1991.770833\n",
       "98004      313  1317.549856\n",
       "98040      278  1170.688367\n",
       "98112      268  1094.695123\n",
       "98109      109   880.077752\n",
       "98105      229   863.228943\n",
       "98006      496   853.385887\n",
       "98119      184   849.714810\n",
       "98102      103   833.584447\n",
       "98005      168   810.289696"
      ]
     },
     "execution_count": 27,
     "metadata": {},
     "output_type": "execute_result"
    }
   ],
   "source": [
    "zipcode_pricing.nlargest(10,columns=['mean'])"
   ]
  },
  {
   "cell_type": "code",
   "execution_count": 31,
   "metadata": {},
   "outputs": [
    {
     "data": {
      "text/html": [
       "<div>\n",
       "<style scoped>\n",
       "    .dataframe tbody tr th:only-of-type {\n",
       "        vertical-align: middle;\n",
       "    }\n",
       "\n",
       "    .dataframe tbody tr th {\n",
       "        vertical-align: top;\n",
       "    }\n",
       "\n",
       "    .dataframe thead th {\n",
       "        text-align: right;\n",
       "    }\n",
       "</style>\n",
       "<table border=\"1\" class=\"dataframe\">\n",
       "  <thead>\n",
       "    <tr style=\"text-align: right;\">\n",
       "      <th></th>\n",
       "      <th>count</th>\n",
       "      <th>mean</th>\n",
       "    </tr>\n",
       "    <tr>\n",
       "      <th>zipcode</th>\n",
       "      <th></th>\n",
       "      <th></th>\n",
       "    </tr>\n",
       "  </thead>\n",
       "  <tbody>\n",
       "    <tr>\n",
       "      <th>98002</th>\n",
       "      <td>199</td>\n",
       "      <td>234.284035</td>\n",
       "    </tr>\n",
       "    <tr>\n",
       "      <th>98168</th>\n",
       "      <td>268</td>\n",
       "      <td>240.407955</td>\n",
       "    </tr>\n",
       "    <tr>\n",
       "      <th>98032</th>\n",
       "      <td>124</td>\n",
       "      <td>251.017177</td>\n",
       "    </tr>\n",
       "    <tr>\n",
       "      <th>98001</th>\n",
       "      <td>359</td>\n",
       "      <td>280.881192</td>\n",
       "    </tr>\n",
       "    <tr>\n",
       "      <th>98148</th>\n",
       "      <td>57</td>\n",
       "      <td>284.908596</td>\n",
       "    </tr>\n",
       "    <tr>\n",
       "      <th>98023</th>\n",
       "      <td>495</td>\n",
       "      <td>286.011440</td>\n",
       "    </tr>\n",
       "    <tr>\n",
       "      <th>98188</th>\n",
       "      <td>136</td>\n",
       "      <td>289.078346</td>\n",
       "    </tr>\n",
       "    <tr>\n",
       "      <th>98003</th>\n",
       "      <td>280</td>\n",
       "      <td>294.111279</td>\n",
       "    </tr>\n",
       "    <tr>\n",
       "      <th>98030</th>\n",
       "      <td>256</td>\n",
       "      <td>296.187980</td>\n",
       "    </tr>\n",
       "    <tr>\n",
       "      <th>98031</th>\n",
       "      <td>273</td>\n",
       "      <td>300.340403</td>\n",
       "    </tr>\n",
       "  </tbody>\n",
       "</table>\n",
       "</div>"
      ],
      "text/plain": [
       "         count        mean\n",
       "zipcode                   \n",
       "98002      199  234.284035\n",
       "98168      268  240.407955\n",
       "98032      124  251.017177\n",
       "98001      359  280.881192\n",
       "98148       57  284.908596\n",
       "98023      495  286.011440\n",
       "98188      136  289.078346\n",
       "98003      280  294.111279\n",
       "98030      256  296.187980\n",
       "98031      273  300.340403"
      ]
     },
     "execution_count": 31,
     "metadata": {},
     "output_type": "execute_result"
    }
   ],
   "source": [
    "zipcode_pricing.nsmallest(10,columns=['mean'])"
   ]
  },
  {
   "cell_type": "code",
   "execution_count": 33,
   "metadata": {},
   "outputs": [],
   "source": [
    "zipcode_pricing.sort_values(by='mean',inplace=True)"
   ]
  },
  {
   "cell_type": "code",
   "execution_count": 34,
   "metadata": {},
   "outputs": [
    {
     "data": {
      "text/plain": [
       "<AxesSubplot:title={'center':'Average Prices'}, xlabel='zipcode'>"
      ]
     },
     "execution_count": 34,
     "metadata": {},
     "output_type": "execute_result"
    },
    {
     "data": {
      "image/png": "[encoded data removed]",
      "text/plain": [
       "<Figure size 1440x720 with 1 Axes>"
      ]
     },
     "metadata": {
      "needs_background": "light"
     },
     "output_type": "display_data"
    }
   ],
   "source": [
    "fig,ax=plt.subplots(figsize=(20,10))\n",
    "ax.set_title('Average Prices by Zipcode')\n",
    "#pd.plotting.table(ax,zipcode_pricing[['count']],loc='upper left',colWidths=[0.2,0.2])\n",
    "zipcode_pricing['mean'].plot(kind='bar',ax=ax)"
   ]
  },
  {
   "cell_type": "markdown",
   "metadata": {},
   "source": [
    "We can clearly see that the zip code 98039 has significantly higher sale prices than the rest.  Looking at a [map](https://www.google.com/maps/place/Medina,+WA+98039/@47.6272552,-122.2778795,13z/data=!3m1!4b1!4m5!3m4!1s0x54906b5f7bfdac91:0x36cace7c29db7076!8m2!3d47.6258071!4d-122.2421963) of the area, one can see why for qualitative reasons:  the area covered is mostly Medina, a relatively-close suburb of Seattle alongside Puget Sound.  Taking a closer look at the price differences, we can conclude that it will be reasonable to include a dummy variable to control for sales in the 98039 zipcode (done elsewhere in our notebook.)"
   ]
  },
  {
   "cell_type": "code",
   "execution_count": 35,
   "metadata": {},
   "outputs": [],
   "source": [
    "Medina=df[df.zipcode==98039].price\n",
    "exMedina=df[df.zipcode!=98039].price"
   ]
  },
  {
   "cell_type": "code",
   "execution_count": 36,
   "metadata": {},
   "outputs": [
    {
     "data": {
      "text/html": [
       "<div>\n",
       "<style scoped>\n",
       "    .dataframe tbody tr th:only-of-type {\n",
       "        vertical-align: middle;\n",
       "    }\n",
       "\n",
       "    .dataframe tbody tr th {\n",
       "        vertical-align: top;\n",
       "    }\n",
       "\n",
       "    .dataframe thead th {\n",
       "        text-align: right;\n",
       "    }\n",
       "</style>\n",
       "<table border=\"1\" class=\"dataframe\">\n",
       "  <thead>\n",
       "    <tr style=\"text-align: right;\">\n",
       "      <th></th>\n",
       "      <th>mean</th>\n",
       "      <th>std</th>\n",
       "      <th>count</th>\n",
       "    </tr>\n",
       "  </thead>\n",
       "  <tbody>\n",
       "    <tr>\n",
       "      <th>Medina Zip</th>\n",
       "      <td>1991.770833</td>\n",
       "      <td>816.873411</td>\n",
       "      <td>48.0</td>\n",
       "    </tr>\n",
       "    <tr>\n",
       "      <th>Elsewhere</th>\n",
       "      <td>533.973688</td>\n",
       "      <td>339.847552</td>\n",
       "      <td>21419.0</td>\n",
       "    </tr>\n",
       "  </tbody>\n",
       "</table>\n",
       "</div>"
      ],
      "text/plain": [
       "                   mean         std    count\n",
       "Medina Zip  1991.770833  816.873411     48.0\n",
       "Elsewhere    533.973688  339.847552  21419.0"
      ]
     },
     "execution_count": 36,
     "metadata": {},
     "output_type": "execute_result"
    }
   ],
   "source": [
    "two_way_comp=pd.DataFrame([Medina.agg(['mean','std','count']),exMedina.agg(['mean','std','count'])])\n",
    "two_way_comp.index=['Medina Zip','Elsewhere']\n",
    "two_way_comp"
   ]
  },
  {
   "cell_type": "markdown",
   "metadata": {},
   "source": [
    "Given this disparity in prices, it seems important to check for any patterns in Medina.  Including waterfront properties."
   ]
  },
  {
   "cell_type": "code",
   "execution_count": 48,
   "metadata": {},
   "outputs": [
    {
     "data": {
      "text/plain": [
       "waterfront\n",
       "0.0    47\n",
       "1.0     1\n",
       "Name: price, dtype: int64"
      ]
     },
     "execution_count": 48,
     "metadata": {},
     "output_type": "execute_result"
    }
   ],
   "source": [
    "df[df.zipcode==98039].groupby('waterfront').price.count()"
   ]
  },
  {
   "cell_type": "code",
   "execution_count": 38,
   "metadata": {},
   "outputs": [
    {
     "data": {
      "text/html": [
       "<div>\n",
       "<style scoped>\n",
       "    .dataframe tbody tr th:only-of-type {\n",
       "        vertical-align: middle;\n",
       "    }\n",
       "\n",
       "    .dataframe tbody tr th {\n",
       "        vertical-align: top;\n",
       "    }\n",
       "\n",
       "    .dataframe thead th {\n",
       "        text-align: right;\n",
       "    }\n",
       "</style>\n",
       "<table border=\"1\" class=\"dataframe\">\n",
       "  <thead>\n",
       "    <tr style=\"text-align: right;\">\n",
       "      <th></th>\n",
       "      <th>count</th>\n",
       "      <th>mean</th>\n",
       "    </tr>\n",
       "    <tr>\n",
       "      <th>zipcode</th>\n",
       "      <th></th>\n",
       "      <th></th>\n",
       "    </tr>\n",
       "  </thead>\n",
       "  <tbody>\n",
       "    <tr>\n",
       "      <th>98001</th>\n",
       "      <td>359</td>\n",
       "      <td>1901.743733</td>\n",
       "    </tr>\n",
       "    <tr>\n",
       "      <th>98002</th>\n",
       "      <td>199</td>\n",
       "      <td>1627.743719</td>\n",
       "    </tr>\n",
       "    <tr>\n",
       "      <th>98003</th>\n",
       "      <td>280</td>\n",
       "      <td>1928.882143</td>\n",
       "    </tr>\n",
       "    <tr>\n",
       "      <th>98004</th>\n",
       "      <td>313</td>\n",
       "      <td>2862.811502</td>\n",
       "    </tr>\n",
       "    <tr>\n",
       "      <th>98005</th>\n",
       "      <td>168</td>\n",
       "      <td>2656.803571</td>\n",
       "    </tr>\n",
       "    <tr>\n",
       "      <th>...</th>\n",
       "      <td>...</td>\n",
       "      <td>...</td>\n",
       "    </tr>\n",
       "    <tr>\n",
       "      <th>98177</th>\n",
       "      <td>254</td>\n",
       "      <td>2323.307087</td>\n",
       "    </tr>\n",
       "    <tr>\n",
       "      <th>98178</th>\n",
       "      <td>262</td>\n",
       "      <td>1729.351145</td>\n",
       "    </tr>\n",
       "    <tr>\n",
       "      <th>98188</th>\n",
       "      <td>136</td>\n",
       "      <td>1802.772059</td>\n",
       "    </tr>\n",
       "    <tr>\n",
       "      <th>98198</th>\n",
       "      <td>278</td>\n",
       "      <td>1749.320144</td>\n",
       "    </tr>\n",
       "    <tr>\n",
       "      <th>98199</th>\n",
       "      <td>316</td>\n",
       "      <td>2163.987342</td>\n",
       "    </tr>\n",
       "  </tbody>\n",
       "</table>\n",
       "<p>70 rows × 2 columns</p>\n",
       "</div>"
      ],
      "text/plain": [
       "         count         mean\n",
       "zipcode                    \n",
       "98001      359  1901.743733\n",
       "98002      199  1627.743719\n",
       "98003      280  1928.882143\n",
       "98004      313  2862.811502\n",
       "98005      168  2656.803571\n",
       "...        ...          ...\n",
       "98177      254  2323.307087\n",
       "98178      262  1729.351145\n",
       "98188      136  1802.772059\n",
       "98198      278  1749.320144\n",
       "98199      316  2163.987342\n",
       "\n",
       "[70 rows x 2 columns]"
      ]
     },
     "execution_count": 38,
     "metadata": {},
     "output_type": "execute_result"
    }
   ],
   "source": [
    "zipcode_sqft=df.groupby(['zipcode']).sqft_living.agg(['count','mean'])\n",
    "zipcode_sqft"
   ]
  },
  {
   "cell_type": "code",
   "execution_count": 40,
   "metadata": {},
   "outputs": [
    {
     "data": {
      "text/plain": [
       "<AxesSubplot:title={'center':'Average Space by Zipcode'}, xlabel='zipcode'>"
      ]
     },
     "execution_count": 40,
     "metadata": {},
     "output_type": "execute_result"
    },
    {
     "data": {
      "image/png": "[encoded data removed]",
      "text/plain": [
       "<Figure size 1440x720 with 1 Axes>"
      ]
     },
     "metadata": {
      "needs_background": "light"
     },
     "output_type": "display_data"
    }
   ],
   "source": [
    "zipcode_sqft.sort_values(by='mean',inplace=True)\n",
    "fig,ax=plt.subplots(figsize=(20,10))\n",
    "ax.set_title('Average Space by Zipcode')\n",
    "#pd.plotting.table(ax,zipcode_pricing[['count']],loc='upper left',colWidths=[0.2,0.2])\n",
    "zipcode_sqft['mean'].plot(kind='bar',ax=ax)"
   ]
  },
  {
   "cell_type": "markdown",
   "metadata": {},
   "source": [
    "While houses sold in Medina have, on average, larger areas, the difference is not as egregious."
   ]
  },
  {
   "cell_type": "code",
   "execution_count": null,
   "metadata": {},
   "outputs": [],
   "source": []
  }
 ],
 "metadata": {
  "kernelspec": {
   "display_name": "Python 3",
   "language": "python",
   "name": "python3"
  },
  "language_info": {
   "codemirror_mode": {
    "name": "ipython",
    "version": 3
   },
   "file_extension": ".py",
   "mimetype": "text/x-python",
   "name": "python",
   "nbconvert_exporter": "python",
   "pygments_lexer": "ipython3",
   "version": "3.8.5"
  }
 },
 "nbformat": 4,
 "nbformat_minor": 4
}
