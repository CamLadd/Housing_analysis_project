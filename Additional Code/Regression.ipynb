{
 "cells": [
  {
   "cell_type": "code",
   "execution_count": 52,
   "metadata": {},
   "outputs": [],
   "source": [
    "import pandas as pd\n",
    "import numpy as np\n",
    "from scipy import stats as stats\n",
    "import sklearn\n",
    "from matplotlib import pyplot as plt\n",
    "import regex\n",
    "import statsmodels.api as sm\n",
    "from itertools import combinations\n",
    "from geopy.distance import geodesic\n",
    "from sklearn.preprocessing import OneHotEncoder, OrdinalEncoder, StandardScaler\n",
    "from sklearn.model_selection import cross_validate, KFold\n",
    "from sklearn.linear_model import LinearRegression\n",
    "from sklearn import metrics\n",
    "import random\n",
    "import pickle"
   ]
  },
  {
   "cell_type": "code",
   "execution_count": 74,
   "metadata": {},
   "outputs": [],
   "source": [
    "df=pd.read_pickle('Final_Train.pkl')\n",
    "\n",
    "with open('variable_org','rb') as f:\n",
    "    variable_org=pickle.load(f)\n",
    "    pass\n",
    "target=variable_org['target']\n",
    "dense_factors=variable_org['dense']\n",
    "sparse_factors=variable_org['sparse']\n",
    "category_factors=variable_org['categorical']\n",
    "ordinal_factors=variable_org['ordinal']\n",
    "other_factors=variable_org['other']\n",
    "dummies=variable_org['dummies']"
   ]
  },
  {
   "cell_type": "code",
   "execution_count": 64,
   "metadata": {},
   "outputs": [
    {
     "data": {
      "text/plain": [
       "['season_Spring',\n",
       " 'season_Summer',\n",
       " 'season_Winter',\n",
       " 'waterfront_1.0',\n",
       " 'Medina_True']"
      ]
     },
     "execution_count": 64,
     "metadata": {},
     "output_type": "execute_result"
    }
   ],
   "source": [
    "df.columns\n",
    "dummies"
   ]
  },
  {
   "cell_type": "markdown",
   "metadata": {},
   "source": [
    "Next, we need to encode our ordinal data in a similar fashion.  But we must provide some ordinal measures to the renovation variable."
   ]
  },
  {
   "cell_type": "code",
   "execution_count": 231,
   "metadata": {},
   "outputs": [],
   "source": [
    "######?????"
   ]
  },
  {
   "cell_type": "markdown",
   "metadata": {},
   "source": [
    "Before diving into the true model.  It may be helpful to look at some preliminary regressions"
   ]
  },
  {
   "cell_type": "code",
   "execution_count": 198,
   "metadata": {},
   "outputs": [
    {
     "name": "stdout",
     "output_type": "stream",
     "text": [
      "[[0.26870694]]\n"
     ]
    },
    {
     "data": {
      "text/plain": [
       "<matplotlib.collections.PathCollection at 0x7fe624c6da00>"
      ]
     },
     "execution_count": 198,
     "metadata": {},
     "output_type": "execute_result"
    },
    {
     "data": {
      "image/png": "[encoded data removed]",
      "text/plain": [
       "<Figure size 432x288 with 1 Axes>"
      ]
     },
     "metadata": {
      "needs_background": "light"
     },
     "output_type": "display_data"
    }
   ],
   "source": [
    "lr=LinearRegression()\n",
    "lr.fit(df[['sqft_living']],df[target])\n",
    "print(lr.coef_)\n",
    "lr.score(df[['sqft_living']],df[target])\n",
    "simple_test=[df[['sqft_living']].min(),df[['sqft_living']].max()]\n",
    "simple_pred=lr.predict(simple_test)\n",
    "fig,ax=plt.subplots()\n",
    "ax.plot(simple_test,simple_pred,color='red')\n",
    "ax.scatter(df['sqft_living'],df[target])"
   ]
  },
  {
   "cell_type": "code",
   "execution_count": 200,
   "metadata": {},
   "outputs": [
    {
     "data": {
      "text/plain": [
       "0.0011349020113433639"
      ]
     },
     "execution_count": 200,
     "metadata": {},
     "output_type": "execute_result"
    }
   ],
   "source": [
    "lr=LinearRegression()\n",
    "lr.fit(cats_df[['x0_Spring','x0_Summer','x0_Winter']],cats_df[target])\n",
    "lr.score(cats_df[['x0_Spring','x0_Summer','x0_Winter']],cats_df[target])"
   ]
  },
  {
   "cell_type": "code",
   "execution_count": 32,
   "metadata": {},
   "outputs": [],
   "source": [
    "def forward_steps(data,Y,X):\n",
    "    dependent=data[Y]\n",
    "    Models=[[]]\n",
    "    features=X.copy()\n",
    "    lr=LinearRegression()\n",
    "    def r_score_margin(original,new_f):\n",
    "        X_Y=(data[original+[new_f]],dependent)\n",
    "        lr.fit(*X_Y)\n",
    "        return lr.score(*X_Y)\n",
    "    while len(features)>0:\n",
    "        M=Models[-1]\n",
    "        new_f=max(features,key=lambda f: r_score_margin(M,f))\n",
    "        features.remove(new_f)\n",
    "        Models.append([new_f]+M)\n",
    "    Models.remove([])\n",
    "    return Models\n",
    "\n",
    "def backward_steps(data,Y,X):\n",
    "    dependent=data[Y]\n",
    "    steps=len(X)\n",
    "    Models=[X.copy()]\n",
    "    lr=LinearRegression()\n",
    "    def r_score_exmargin(original,new_f):\n",
    "        ins=original.copy()\n",
    "        ins.remove(new_f)\n",
    "        X_Y=(data[ins],dependent)\n",
    "        lr.fit(*X_Y)\n",
    "        return lr.score(*X_Y)\n",
    "    while steps>1:\n",
    "        M=Models[-1].copy()\n",
    "        worse_f=max(M,key=lambda f: r_score_exmargin(M,f))\n",
    "        M.remove(worse_f)\n",
    "        Models.append(M)\n",
    "        steps-=1\n",
    "    return Models\n",
    "\n",
    "def subset_steps(data,Y,X):\n",
    "    dimensions=X\n",
    "    M=[]\n",
    "    lr=LinearRegression()\n",
    "    dependent=data[Y]\n",
    "    def r_score_margin(inputs):\n",
    "        X_Y=(data[inputs],dependent)\n",
    "        lr.fit(*X_Y)\n",
    "        return lr.score(*X_Y)\n",
    "    for d in range(1,len(dimensions)+1):\n",
    "        combos=[list(c) for c in combinations(dimensions,d)]\n",
    "        top_model=max(combos,key=r_score_margin)\n",
    "        M.append(top_model)\n",
    "    return M\n",
    "\n",
    "def CV_compare(data,Y,models,folds=5):\n",
    "    scores={}\n",
    "    lr=LinearRegression()\n",
    "    state=random.randint(1,1000)\n",
    "    SPLIT=KFold(folds,random_state=state,shuffle=True)\n",
    "    for m in models:\n",
    "        k='+'.join(m)\n",
    "        scores[k]=cross_validate(lr,data[m],data[Y],cv=SPLIT)['test_score']\n",
    "    return scores"
   ]
  },
  {
   "cell_type": "code",
   "execution_count": 56,
   "metadata": {},
   "outputs": [
    {
     "data": {
      "text/plain": [
       "(42934, 38)"
      ]
     },
     "execution_count": 56,
     "metadata": {},
     "output_type": "execute_result"
    }
   ],
   "source": [
    "df.shape"
   ]
  },
  {
   "cell_type": "code",
   "execution_count": 83,
   "metadata": {},
   "outputs": [
    {
     "ename": "TypeError",
     "evalue": "forward_steps() got an unexpected keyword argument 'folds'",
     "output_type": "error",
     "traceback": [
      "\u001b[0;31m---------------------------------------------------------------------------\u001b[0m",
      "\u001b[0;31mTypeError\u001b[0m                                 Traceback (most recent call last)",
      "\u001b[0;32m<ipython-input-83-eb1f4034aa61>\u001b[0m in \u001b[0;36m<module>\u001b[0;34m\u001b[0m\n\u001b[0;32m----> 1\u001b[0;31m \u001b[0mfwd_models\u001b[0m\u001b[0;34m=\u001b[0m\u001b[0mforward_steps\u001b[0m\u001b[0;34m(\u001b[0m\u001b[0mdf\u001b[0m\u001b[0;34m,\u001b[0m\u001b[0mtarget\u001b[0m\u001b[0;34m,\u001b[0m\u001b[0mdense_factors\u001b[0m\u001b[0;34m+\u001b[0m\u001b[0msparse_factors\u001b[0m\u001b[0;34m+\u001b[0m\u001b[0mdummies\u001b[0m\u001b[0;34m,\u001b[0m\u001b[0mfolds\u001b[0m\u001b[0;34m=\u001b[0m\u001b[0;36m10\u001b[0m\u001b[0;34m)\u001b[0m\u001b[0;34m\u001b[0m\u001b[0;34m\u001b[0m\u001b[0m\n\u001b[0m\u001b[1;32m      2\u001b[0m \u001b[0mfwd_models\u001b[0m\u001b[0;34m\u001b[0m\u001b[0;34m\u001b[0m\u001b[0m\n",
      "\u001b[0;31mTypeError\u001b[0m: forward_steps() got an unexpected keyword argument 'folds'"
     ]
    }
   ],
   "source": [
    "fwd_models=forward_steps(df,target,dense_factors+sparse_factors+dummies)\n",
    "fwd_models"
   ]
  },
  {
   "cell_type": "code",
   "execution_count": 84,
   "metadata": {},
   "outputs": [],
   "source": [
    "models_cv_scores=CV_compare(df,target,fwd_models,folds=10)"
   ]
  },
  {
   "cell_type": "code",
   "execution_count": 85,
   "metadata": {},
   "outputs": [
    {
     "data": {
      "text/plain": [
       "{'sqft_living2': array([0.52717758, 0.4685471 , 0.51826665, 0.53652605, 0.47780014,\n",
       "        0.43970412, 0.51455795, 0.52677978, 0.50472268, 0.54542395]),\n",
       " 'grade+sqft_living2': array([0.57656819, 0.53772763, 0.57463395, 0.5875866 , 0.55287317,\n",
       "        0.51420074, 0.56340253, 0.57130436, 0.5608201 , 0.58258656]),\n",
       " 'age+grade+sqft_living2': array([0.63899832, 0.61299749, 0.64279628, 0.65470639, 0.61293806,\n",
       "        0.58438201, 0.63311059, 0.63610636, 0.62670159, 0.62616171]),\n",
       " 'waterfront_1.0+age+grade+sqft_living2': array([0.65315664, 0.64519564, 0.67876112, 0.6747832 , 0.63021324,\n",
       "        0.60405242, 0.65853083, 0.67384282, 0.63942986, 0.66041343]),\n",
       " 'Medina_True+waterfront_1.0+age+grade+sqft_living2': array([0.66648052, 0.65416809, 0.68126253, 0.70142702, 0.64678544,\n",
       "        0.63278882, 0.66712674, 0.67405227, 0.65645056, 0.69112374]),\n",
       " 'view+Medina_True+waterfront_1.0+age+grade+sqft_living2': array([0.67880768, 0.66781911, 0.68764032, 0.70419334, 0.66329128,\n",
       "        0.64083899, 0.67554066, 0.67784497, 0.66441427, 0.69989241]),\n",
       " 'bathrooms+view+Medina_True+waterfront_1.0+age+grade+sqft_living2': array([0.6773156 , 0.67412887, 0.69041231, 0.71110106, 0.66778973,\n",
       "        0.64820328, 0.67889523, 0.67968715, 0.66679193, 0.70379349]),\n",
       " 'bedrooms+bathrooms+view+Medina_True+waterfront_1.0+age+grade+sqft_living2': array([0.68011489, 0.67652877, 0.69388229, 0.71219474, 0.66959157,\n",
       "        0.64615526, 0.68095053, 0.68352571, 0.67027114, 0.70717764]),\n",
       " 'sqft_outside15+bedrooms+bathrooms+view+Medina_True+waterfront_1.0+age+grade+sqft_living2': array([0.68238132, 0.67683412, 0.69557139, 0.71505597, 0.67118699,\n",
       "        0.6465629 , 0.68200231, 0.68558612, 0.6738867 , 0.7089399 ]),\n",
       " 'sqft_living15+sqft_outside15+bedrooms+bathrooms+view+Medina_True+waterfront_1.0+age+grade+sqft_living2': array([0.68578846, 0.68132303, 0.69558603, 0.71475086, 0.6736919 ,\n",
       "        0.64751377, 0.68391164, 0.68768291, 0.67658673, 0.70894438]),\n",
       " 'floors+sqft_living15+sqft_outside15+bedrooms+bathrooms+view+Medina_True+waterfront_1.0+age+grade+sqft_living2': array([0.68686053, 0.68290371, 0.69626983, 0.71712662, 0.67368877,\n",
       "        0.64922091, 0.68510772, 0.68978903, 0.67921504, 0.71000286]),\n",
       " 'condition+floors+sqft_living15+sqft_outside15+bedrooms+bathrooms+view+Medina_True+waterfront_1.0+age+grade+sqft_living2': array([0.68701889, 0.6853781 , 0.69847766, 0.72026739, 0.67488629,\n",
       "        0.65102234, 0.68716532, 0.6913908 , 0.68017943, 0.71206771]),\n",
       " 'sqft_living+condition+floors+sqft_living15+sqft_outside15+bedrooms+bathrooms+view+Medina_True+waterfront_1.0+age+grade+sqft_living2': array([0.68842992, 0.68643254, 0.7014189 , 0.72313441, 0.67149991,\n",
       "        0.64979389, 0.68776886, 0.6922475 , 0.68306742, 0.71547318]),\n",
       " 'season_Spring+sqft_living+condition+floors+sqft_living15+sqft_outside15+bedrooms+bathrooms+view+Medina_True+waterfront_1.0+age+grade+sqft_living2': array([0.69039479, 0.68659929, 0.70115755, 0.72396817, 0.67288211,\n",
       "        0.65198593, 0.68850442, 0.69099119, 0.68583403, 0.71739325]),\n",
       " 'percent_above+season_Spring+sqft_living+condition+floors+sqft_living15+sqft_outside15+bedrooms+bathrooms+view+Medina_True+waterfront_1.0+age+grade+sqft_living2': array([0.69162273, 0.68747955, 0.70149984, 0.72417099, 0.6730463 ,\n",
       "        0.65081696, 0.68920851, 0.69184959, 0.68800213, 0.7181177 ]),\n",
       " 'sqft_outside+percent_above+season_Spring+sqft_living+condition+floors+sqft_living15+sqft_outside15+bedrooms+bathrooms+view+Medina_True+waterfront_1.0+age+grade+sqft_living2': array([0.69161354, 0.68761098, 0.70146351, 0.72407151, 0.67323033,\n",
       "        0.6506998 , 0.68925247, 0.69205917, 0.68779678, 0.71820824]),\n",
       " 'season_Summer+sqft_outside+percent_above+season_Spring+sqft_living+condition+floors+sqft_living15+sqft_outside15+bedrooms+bathrooms+view+Medina_True+waterfront_1.0+age+grade+sqft_living2': array([0.69167687, 0.68760255, 0.70143625, 0.72412564, 0.67319683,\n",
       "        0.65072304, 0.6892731 , 0.69179568, 0.68785328, 0.71828669]),\n",
       " 'season_Winter+season_Summer+sqft_outside+percent_above+season_Spring+sqft_living+condition+floors+sqft_living15+sqft_outside15+bedrooms+bathrooms+view+Medina_True+waterfront_1.0+age+grade+sqft_living2': array([0.69168086, 0.6875967 , 0.70143761, 0.72411963, 0.67317797,\n",
       "        0.65072571, 0.68927426, 0.69179625, 0.6878528 , 0.71816774])}"
      ]
     },
     "execution_count": 85,
     "metadata": {},
     "output_type": "execute_result"
    }
   ],
   "source": [
    "models_cv_scores"
   ]
  },
  {
   "cell_type": "code",
   "execution_count": 86,
   "metadata": {},
   "outputs": [
    {
     "data": {
      "text/plain": [
       "('sqft_outside+percent_above+season_Spring+sqft_living+condition+floors+sqft_living15+sqft_outside15+bedrooms+bathrooms+view+Medina_True+waterfront_1.0+age+grade+sqft_living2',\n",
       " array([0.69161354, 0.68761098, 0.70146351, 0.72407151, 0.67323033,\n",
       "        0.6506998 , 0.68925247, 0.69205917, 0.68779678, 0.71820824]))"
      ]
     },
     "execution_count": 86,
     "metadata": {},
     "output_type": "execute_result"
    }
   ],
   "source": [
    "top_model=max(models_cv_scores.items(),key=lambda i:i[1].mean())\n",
    "top_model"
   ]
  },
  {
   "cell_type": "code",
   "execution_count": 243,
   "metadata": {},
   "outputs": [
    {
     "data": {
      "text/plain": [
       "[['sqft_living',\n",
       "  'sqft_outside',\n",
       "  'percent_above',\n",
       "  'sqft_living15',\n",
       "  'sqft_outside15',\n",
       "  'age',\n",
       "  'sqft_living2',\n",
       "  'bedrooms',\n",
       "  'bathrooms',\n",
       "  'floors',\n",
       "  'view',\n",
       "  'grade',\n",
       "  'condition',\n",
       "  'x0_Spring',\n",
       "  'x0_Summer',\n",
       "  'x0_Winter',\n",
       "  'x0_1.0'],\n",
       " ['sqft_living',\n",
       "  'sqft_outside',\n",
       "  'percent_above',\n",
       "  'sqft_living15',\n",
       "  'sqft_outside15',\n",
       "  'age',\n",
       "  'sqft_living2',\n",
       "  'bedrooms',\n",
       "  'bathrooms',\n",
       "  'floors',\n",
       "  'view',\n",
       "  'grade',\n",
       "  'condition',\n",
       "  'x0_Spring',\n",
       "  'x0_Summer',\n",
       "  'x0_1.0'],\n",
       " ['sqft_living',\n",
       "  'sqft_outside',\n",
       "  'percent_above',\n",
       "  'sqft_living15',\n",
       "  'sqft_outside15',\n",
       "  'age',\n",
       "  'sqft_living2',\n",
       "  'bedrooms',\n",
       "  'bathrooms',\n",
       "  'floors',\n",
       "  'view',\n",
       "  'grade',\n",
       "  'condition',\n",
       "  'x0_Spring',\n",
       "  'x0_1.0'],\n",
       " ['sqft_living',\n",
       "  'percent_above',\n",
       "  'sqft_living15',\n",
       "  'sqft_outside15',\n",
       "  'age',\n",
       "  'sqft_living2',\n",
       "  'bedrooms',\n",
       "  'bathrooms',\n",
       "  'floors',\n",
       "  'view',\n",
       "  'grade',\n",
       "  'condition',\n",
       "  'x0_Spring',\n",
       "  'x0_1.0'],\n",
       " ['sqft_living',\n",
       "  'sqft_living15',\n",
       "  'sqft_outside15',\n",
       "  'age',\n",
       "  'sqft_living2',\n",
       "  'bedrooms',\n",
       "  'bathrooms',\n",
       "  'floors',\n",
       "  'view',\n",
       "  'grade',\n",
       "  'condition',\n",
       "  'x0_Spring',\n",
       "  'x0_1.0'],\n",
       " ['sqft_living',\n",
       "  'sqft_living15',\n",
       "  'sqft_outside15',\n",
       "  'age',\n",
       "  'sqft_living2',\n",
       "  'bedrooms',\n",
       "  'bathrooms',\n",
       "  'floors',\n",
       "  'view',\n",
       "  'grade',\n",
       "  'condition',\n",
       "  'x0_1.0'],\n",
       " ['sqft_living',\n",
       "  'sqft_living15',\n",
       "  'sqft_outside15',\n",
       "  'age',\n",
       "  'sqft_living2',\n",
       "  'bathrooms',\n",
       "  'floors',\n",
       "  'view',\n",
       "  'grade',\n",
       "  'condition',\n",
       "  'x0_1.0'],\n",
       " ['sqft_living',\n",
       "  'sqft_living15',\n",
       "  'age',\n",
       "  'sqft_living2',\n",
       "  'bathrooms',\n",
       "  'floors',\n",
       "  'view',\n",
       "  'grade',\n",
       "  'condition',\n",
       "  'x0_1.0'],\n",
       " ['sqft_living',\n",
       "  'sqft_living15',\n",
       "  'age',\n",
       "  'sqft_living2',\n",
       "  'bathrooms',\n",
       "  'floors',\n",
       "  'view',\n",
       "  'grade',\n",
       "  'x0_1.0'],\n",
       " ['sqft_living',\n",
       "  'sqft_living15',\n",
       "  'age',\n",
       "  'sqft_living2',\n",
       "  'bathrooms',\n",
       "  'view',\n",
       "  'grade',\n",
       "  'x0_1.0'],\n",
       " ['sqft_living',\n",
       "  'age',\n",
       "  'sqft_living2',\n",
       "  'bathrooms',\n",
       "  'view',\n",
       "  'grade',\n",
       "  'x0_1.0'],\n",
       " ['age', 'sqft_living2', 'bathrooms', 'view', 'grade', 'x0_1.0'],\n",
       " ['age', 'sqft_living2', 'view', 'grade', 'x0_1.0'],\n",
       " ['age', 'sqft_living2', 'grade', 'x0_1.0'],\n",
       " ['age', 'sqft_living2', 'grade'],\n",
       " ['sqft_living2', 'grade'],\n",
       " ['sqft_living2']]"
      ]
     },
     "execution_count": 243,
     "metadata": {},
     "output_type": "execute_result"
    }
   ],
   "source": [
    "back_models=backward_steps(df,target,dense_factors+sparse_factors+dummies)\n",
    "back_models"
   ]
  },
  {
   "cell_type": "code",
   "execution_count": 245,
   "metadata": {},
   "outputs": [
    {
     "data": {
      "text/plain": [
       "{'sqft_living+sqft_outside+percent_above+sqft_living15+sqft_outside15+age+sqft_living2+bedrooms+bathrooms+floors+view+grade+condition+x0_Spring+x0_Summer+x0_Winter+x0_1.0': array([0.69354155, 0.66660261, 0.66535827, 0.68151024, 0.67567623]),\n",
       " 'sqft_living+sqft_outside+percent_above+sqft_living15+sqft_outside15+age+sqft_living2+bedrooms+bathrooms+floors+view+grade+condition+x0_Spring+x0_Summer+x0_1.0': array([0.69354712, 0.66660004, 0.66544813, 0.68173626, 0.67571009]),\n",
       " 'sqft_living+sqft_outside+percent_above+sqft_living15+sqft_outside15+age+sqft_living2+bedrooms+bathrooms+floors+view+grade+condition+x0_Spring+x0_1.0': array([0.69350706, 0.66690401, 0.66544534, 0.68170319, 0.67569906]),\n",
       " 'sqft_living+percent_above+sqft_living15+sqft_outside15+age+sqft_living2+bedrooms+bathrooms+floors+view+grade+condition+x0_Spring+x0_1.0': array([0.69349928, 0.66672203, 0.66584568, 0.68163829, 0.67552339]),\n",
       " 'sqft_living+sqft_living15+sqft_outside15+age+sqft_living2+bedrooms+bathrooms+floors+view+grade+condition+x0_Spring+x0_1.0': array([0.69306815, 0.66646899, 0.66556439, 0.68096471, 0.67455922]),\n",
       " 'sqft_living+sqft_living15+sqft_outside15+age+sqft_living2+bedrooms+bathrooms+floors+view+grade+condition+x0_1.0': array([0.69256278, 0.66481473, 0.66416266, 0.6797689 , 0.67377674]),\n",
       " 'sqft_living+sqft_living15+sqft_outside15+age+sqft_living2+bathrooms+floors+view+grade+condition+x0_1.0': array([0.69291364, 0.661906  , 0.66329841, 0.67926029, 0.67196311]),\n",
       " 'sqft_living+sqft_living15+age+sqft_living2+bathrooms+floors+view+grade+condition+x0_1.0': array([0.69179306, 0.66100233, 0.66131252, 0.67708671, 0.66987962]),\n",
       " 'sqft_living+sqft_living15+age+sqft_living2+bathrooms+floors+view+grade+x0_1.0': array([0.69019581, 0.65907993, 0.65939199, 0.67515172, 0.66785571]),\n",
       " 'sqft_living+sqft_living15+age+sqft_living2+bathrooms+view+grade+x0_1.0': array([0.68776383, 0.65770313, 0.65729262, 0.6736296 , 0.66714143]),\n",
       " 'sqft_living+age+sqft_living2+bathrooms+view+grade+x0_1.0': array([0.68425317, 0.65568645, 0.65457914, 0.67089033, 0.66472862]),\n",
       " 'age+sqft_living2+bathrooms+view+grade+x0_1.0': array([0.68186249, 0.65422322, 0.65234115, 0.67015923, 0.66244127]),\n",
       " 'age+sqft_living2+view+grade+x0_1.0': array([0.67654963, 0.64866225, 0.65042294, 0.66475221, 0.66118212]),\n",
       " 'age+sqft_living2+grade+x0_1.0': array([0.66480355, 0.63986611, 0.64503945, 0.65355983, 0.65650056]),\n",
       " 'age+sqft_living2+grade': array([0.63714829, 0.61033385, 0.62642154, 0.62064445, 0.63861918]),\n",
       " 'sqft_living2+grade': array([0.56601937, 0.54881751, 0.56444763, 0.56202189, 0.57092487]),\n",
       " 'sqft_living2': array([0.50490089, 0.48933977, 0.51311282, 0.5055422 , 0.51962804])}"
      ]
     },
     "execution_count": 245,
     "metadata": {},
     "output_type": "execute_result"
    }
   ],
   "source": [
    "CV_compare(df,target,back_models)"
   ]
  },
  {
   "cell_type": "code",
   "execution_count": 206,
   "metadata": {},
   "outputs": [
    {
     "data": {
      "text/plain": [
       "[['sqft_living'],\n",
       " ['age', 'grade'],\n",
       " ['sqft_living', 'age', 'grade'],\n",
       " ['sqft_living', 'age', 'grade', 'x0_1.0'],\n",
       " ['sqft_living', 'age', 'view', 'grade', 'x0_1.0'],\n",
       " ['sqft_living', 'age', 'bathrooms', 'view', 'grade', 'x0_1.0'],\n",
       " ['sqft_living', 'age', 'bedrooms', 'bathrooms', 'view', 'grade', 'x0_1.0'],\n",
       " ['sqft_living',\n",
       "  'sqft_outside15',\n",
       "  'age',\n",
       "  'bedrooms',\n",
       "  'bathrooms',\n",
       "  'view',\n",
       "  'grade',\n",
       "  'x0_1.0'],\n",
       " ['sqft_living',\n",
       "  'sqft_living15',\n",
       "  'sqft_outside15',\n",
       "  'age',\n",
       "  'bedrooms',\n",
       "  'bathrooms',\n",
       "  'view',\n",
       "  'grade',\n",
       "  'x0_1.0'],\n",
       " ['sqft_living',\n",
       "  'sqft_living15',\n",
       "  'sqft_outside15',\n",
       "  'age',\n",
       "  'bedrooms',\n",
       "  'bathrooms',\n",
       "  'view',\n",
       "  'grade',\n",
       "  'condition',\n",
       "  'x0_1.0'],\n",
       " ['sqft_living',\n",
       "  'sqft_living15',\n",
       "  'sqft_outside15',\n",
       "  'age',\n",
       "  'bedrooms',\n",
       "  'bathrooms',\n",
       "  'floors',\n",
       "  'view',\n",
       "  'grade',\n",
       "  'condition',\n",
       "  'x0_1.0'],\n",
       " ['sqft_living',\n",
       "  'sqft_living15',\n",
       "  'sqft_outside15',\n",
       "  'age',\n",
       "  'bedrooms',\n",
       "  'bathrooms',\n",
       "  'floors',\n",
       "  'view',\n",
       "  'grade',\n",
       "  'condition',\n",
       "  'x0_Spring',\n",
       "  'x0_1.0'],\n",
       " ['sqft_living',\n",
       "  'percent_above',\n",
       "  'sqft_living15',\n",
       "  'sqft_outside15',\n",
       "  'age',\n",
       "  'bedrooms',\n",
       "  'bathrooms',\n",
       "  'floors',\n",
       "  'view',\n",
       "  'grade',\n",
       "  'condition',\n",
       "  'x0_Spring',\n",
       "  'x0_1.0'],\n",
       " ['sqft_living',\n",
       "  'sqft_outside',\n",
       "  'percent_above',\n",
       "  'sqft_living15',\n",
       "  'sqft_outside15',\n",
       "  'age',\n",
       "  'bedrooms',\n",
       "  'bathrooms',\n",
       "  'floors',\n",
       "  'view',\n",
       "  'grade',\n",
       "  'condition',\n",
       "  'x0_Spring',\n",
       "  'x0_1.0'],\n",
       " ['sqft_living',\n",
       "  'sqft_outside',\n",
       "  'percent_above',\n",
       "  'sqft_living15',\n",
       "  'sqft_outside15',\n",
       "  'age',\n",
       "  'bedrooms',\n",
       "  'bathrooms',\n",
       "  'floors',\n",
       "  'view',\n",
       "  'grade',\n",
       "  'condition',\n",
       "  'x0_Spring',\n",
       "  'x0_Summer',\n",
       "  'x0_1.0'],\n",
       " ['sqft_living',\n",
       "  'sqft_outside',\n",
       "  'percent_above',\n",
       "  'sqft_living15',\n",
       "  'sqft_outside15',\n",
       "  'age',\n",
       "  'bedrooms',\n",
       "  'bathrooms',\n",
       "  'floors',\n",
       "  'view',\n",
       "  'grade',\n",
       "  'condition',\n",
       "  'x0_Spring',\n",
       "  'x0_Summer',\n",
       "  'x0_Winter',\n",
       "  'x0_1.0']]"
      ]
     },
     "execution_count": 206,
     "metadata": {},
     "output_type": "execute_result"
    }
   ],
   "source": [
    "sub_models=subset_steps(df,target,dense_factors+sparse_factors+dummies)\n",
    "sub_models"
   ]
  },
  {
   "cell_type": "code",
   "execution_count": 207,
   "metadata": {},
   "outputs": [
    {
     "data": {
      "text/plain": [
       "{'sqft_living': array([0.48954724, 0.47173606, 0.48637814, 0.4781497 , 0.48278568]),\n",
       " 'age+grade': array([0.52398103, 0.5426704 , 0.52195019, 0.54760279, 0.54468306]),\n",
       " 'sqft_living+age+grade': array([0.60480582, 0.60444763, 0.60416392, 0.60982412, 0.61077437]),\n",
       " 'sqft_living+age+grade+x0_1.0': array([0.63270856, 0.62171146, 0.63447014, 0.64173792, 0.63797311]),\n",
       " 'sqft_living+age+view+grade+x0_1.0': array([0.64277672, 0.63442934, 0.64245736, 0.64913536, 0.64786991]),\n",
       " 'sqft_living+age+bathrooms+view+grade+x0_1.0': array([0.64434606, 0.63795305, 0.64658952, 0.65313416, 0.65085219]),\n",
       " 'sqft_living+age+bedrooms+bathrooms+view+grade+x0_1.0': array([0.64803539, 0.64182682, 0.65259991, 0.65780512, 0.65675365]),\n",
       " 'sqft_living+sqft_outside15+age+bedrooms+bathrooms+view+grade+x0_1.0': array([0.65002848, 0.64362097, 0.65392065, 0.65825334, 0.65919659]),\n",
       " 'sqft_living+sqft_living15+sqft_outside15+age+bedrooms+bathrooms+view+grade+x0_1.0': array([0.65195397, 0.64332645, 0.65682229, 0.65970873, 0.66083543]),\n",
       " 'sqft_living+sqft_living15+sqft_outside15+age+bedrooms+bathrooms+view+grade+condition+x0_1.0': array([0.65305826, 0.64495773, 0.65736548, 0.6610847 , 0.66127042]),\n",
       " 'sqft_living+sqft_living15+sqft_outside15+age+bedrooms+bathrooms+floors+view+grade+condition+x0_1.0': array([0.65466734, 0.64684987, 0.65829166, 0.66254154, 0.66153789]),\n",
       " 'sqft_living+sqft_living15+sqft_outside15+age+bedrooms+bathrooms+floors+view+grade+condition+x0_Spring+x0_1.0': array([0.65626545, 0.64750248, 0.65968366, 0.66307352, 0.66268345]),\n",
       " 'sqft_living+percent_above+sqft_living15+sqft_outside15+age+bedrooms+bathrooms+floors+view+grade+condition+x0_Spring+x0_1.0': array([0.65633227, 0.64760571, 0.65954736, 0.6631954 , 0.6629166 ]),\n",
       " 'sqft_living+sqft_outside+percent_above+sqft_living15+sqft_outside15+age+bedrooms+bathrooms+floors+view+grade+condition+x0_Spring+x0_1.0': array([0.65633885, 0.6474054 , 0.6596081 , 0.66325848, 0.66300665]),\n",
       " 'sqft_living+sqft_outside+percent_above+sqft_living15+sqft_outside15+age+bedrooms+bathrooms+floors+view+grade+condition+x0_Spring+x0_Summer+x0_1.0': array([0.6563185 , 0.64742044, 0.65952211, 0.66325577, 0.66301678]),\n",
       " 'sqft_living+sqft_outside+percent_above+sqft_living15+sqft_outside15+age+bedrooms+bathrooms+floors+view+grade+condition+x0_Spring+x0_Summer+x0_Winter+x0_1.0': array([0.65624208, 0.64740192, 0.65950797, 0.66314466, 0.66295782])}"
      ]
     },
     "execution_count": 207,
     "metadata": {},
     "output_type": "execute_result"
    }
   ],
   "source": [
    "sub_CV_scores=CV_compare(cats_df,target,sub_models)"
   ]
  },
  {
   "cell_type": "markdown",
   "metadata": {},
   "source": [
    "Having chosen our final model, we will want to look at the coefficients after training the model on the full set of training data."
   ]
  },
  {
   "cell_type": "code",
   "execution_count": 87,
   "metadata": {},
   "outputs": [],
   "source": [
    "final_model=max(models_cv_scores.items(),key=lambda i:i[1].mean())"
   ]
  },
  {
   "cell_type": "code",
   "execution_count": 88,
   "metadata": {},
   "outputs": [
    {
     "name": "stdout",
     "output_type": "stream",
     "text": [
      "0.6934257442410245\n"
     ]
    }
   ],
   "source": [
    "inputs=final_model[0].split('+')\n",
    "lr=LinearRegression()\n",
    "lr.fit(df[inputs],df[target])\n",
    "print(lr.score(df[inputs],df[target]))\n",
    "coeff={factor:coef for factor,coef in zip(inputs,np.nditer(lr.coef_))}"
   ]
  },
  {
   "cell_type": "code",
   "execution_count": 89,
   "metadata": {},
   "outputs": [
    {
     "data": {
      "text/plain": [
       "{'sqft_outside': array(-3676.12849244),\n",
       " 'percent_above': array(-11144.35379158),\n",
       " 'season_Spring': array(25105.34132229),\n",
       " 'sqft_living': array(-71037.34979749),\n",
       " 'condition': array(25845.54030586),\n",
       " 'floors': array(45841.57518048),\n",
       " 'sqft_living15': array(34944.89124991),\n",
       " 'sqft_outside15': array(-11505.44435252),\n",
       " 'bedrooms': array(-17941.41568102),\n",
       " 'bathrooms': array(49881.21765636),\n",
       " 'view': array(43525.00457395),\n",
       " 'Medina_True': array(923434.74925862),\n",
       " 'waterfront_1.0': array(532013.71145942),\n",
       " 'age': array(97762.67266804),\n",
       " 'grade': array(122409.20094861),\n",
       " 'sqft_living2': array(173983.30956098)}"
      ]
     },
     "execution_count": 89,
     "metadata": {},
     "output_type": "execute_result"
    }
   ],
   "source": [
    "coeff"
   ]
  },
  {
   "cell_type": "code",
   "execution_count": 71,
   "metadata": {},
   "outputs": [
    {
     "data": {
      "text/plain": [
       "18"
      ]
     },
     "execution_count": 71,
     "metadata": {},
     "output_type": "execute_result"
    }
   ],
   "source": [
    "len(dense_factors+sparse_factors+dummies)"
   ]
  },
  {
   "cell_type": "code",
   "execution_count": null,
   "metadata": {},
   "outputs": [],
   "source": []
  }
 ],
 "metadata": {
  "kernelspec": {
   "display_name": "Python 3",
   "language": "python",
   "name": "python3"
  },
  "language_info": {
   "codemirror_mode": {
    "name": "ipython",
    "version": 3
   },
   "file_extension": ".py",
   "mimetype": "text/x-python",
   "name": "python",
   "nbconvert_exporter": "python",
   "pygments_lexer": "ipython3",
   "version": "3.8.5"
  }
 },
 "nbformat": 4,
 "nbformat_minor": 4
}
