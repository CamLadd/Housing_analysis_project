{
 "cells": [
  {
   "cell_type": "code",
   "execution_count": 17,
   "metadata": {},
   "outputs": [],
   "source": [
    "import pandas as pd\n",
    "from geopy.distance import geodesic\n",
    "from geopy.geocoders import Nominatim\n",
    "import requests as re\n",
    "import json\n",
    "import geopandas\n",
    "import shapely\n",
    "from striprtf.striprtf import rtf_to_text"
   ]
  },
  {
   "cell_type": "code",
   "execution_count": 18,
   "metadata": {},
   "outputs": [],
   "source": [
    "link='https://data.wa.gov/resource/jjrr-uy75.json'\n",
    "token='VfAaN5yV9GkIulUGGM79nWYlN'"
   ]
  },
  {
   "cell_type": "code",
   "execution_count": 19,
   "metadata": {},
   "outputs": [],
   "source": [
    "schools=pd.read_csv('School_Data.csv',skiprows=11)"
   ]
  },
  {
   "cell_type": "code",
   "execution_count": 238,
   "metadata": {},
   "outputs": [
    {
     "name": "stdout",
     "output_type": "stream",
     "text": [
      "(525, 22)\n"
     ]
    },
    {
     "data": {
      "text/plain": [
       "Index(['NCES__School_ID', 'State_School_ID', 'NCES_District_ID',\n",
       "       'State_District_ID', 'Low_Grade', 'High_Grade', 'Name', 'District',\n",
       "       'County', 'Address', 'City', 'State', 'ZIP', 'Area_Type', 'Charter',\n",
       "       'Magnet', 'Students', 'Teachers', 'ST_Ratio', 'Free_Lunch',\n",
       "       'Reduced_Lunch', 'GPS'],\n",
       "      dtype='object')"
      ]
     },
     "execution_count": 238,
     "metadata": {},
     "output_type": "execute_result"
    }
   ],
   "source": [
    "print(schools.shape)\n",
    "schools.columns"
   ]
  },
  {
   "cell_type": "code",
   "execution_count": 5,
   "metadata": {},
   "outputs": [
    {
     "data": {
      "text/html": [
       "<div>\n",
       "<style scoped>\n",
       "    .dataframe tbody tr th:only-of-type {\n",
       "        vertical-align: middle;\n",
       "    }\n",
       "\n",
       "    .dataframe tbody tr th {\n",
       "        vertical-align: top;\n",
       "    }\n",
       "\n",
       "    .dataframe thead th {\n",
       "        text-align: right;\n",
       "    }\n",
       "</style>\n",
       "<table border=\"1\" class=\"dataframe\">\n",
       "  <thead>\n",
       "    <tr style=\"text-align: right;\">\n",
       "      <th></th>\n",
       "      <th>NCES School ID</th>\n",
       "      <th>State School ID</th>\n",
       "      <th>NCES District ID</th>\n",
       "      <th>State District ID</th>\n",
       "      <th>Low Grade*</th>\n",
       "      <th>High Grade*</th>\n",
       "      <th>School Name</th>\n",
       "      <th>District</th>\n",
       "      <th>County Name*</th>\n",
       "      <th>Street Address</th>\n",
       "      <th>...</th>\n",
       "      <th>Locale*</th>\n",
       "      <th>Charter</th>\n",
       "      <th>Magnet*</th>\n",
       "      <th>Title I School*</th>\n",
       "      <th>Title 1 School Wide*</th>\n",
       "      <th>Students*</th>\n",
       "      <th>Teachers*</th>\n",
       "      <th>Student Teacher Ratio*</th>\n",
       "      <th>Free Lunch*</th>\n",
       "      <th>Reduced Lunch*</th>\n",
       "    </tr>\n",
       "  </thead>\n",
       "  <tbody>\n",
       "    <tr>\n",
       "      <th>0</th>\n",
       "      <td>530771001127</td>\n",
       "      <td>WA-17001-2138</td>\n",
       "      <td>5307710</td>\n",
       "      <td>WA-17001</td>\n",
       "      <td>KG</td>\n",
       "      <td>05</td>\n",
       "      <td>Adams Elementary School</td>\n",
       "      <td>Seattle School District No. 1</td>\n",
       "      <td>King County</td>\n",
       "      <td>6110 28 AV NW</td>\n",
       "      <td>...</td>\n",
       "      <td>City: Large</td>\n",
       "      <td>No</td>\n",
       "      <td>No</td>\n",
       "      <td>No</td>\n",
       "      <td>†</td>\n",
       "      <td>498.0</td>\n",
       "      <td>30.07000</td>\n",
       "      <td>16.6000000</td>\n",
       "      <td>44.00000</td>\n",
       "      <td>11.00000</td>\n",
       "    </tr>\n",
       "    <tr>\n",
       "      <th>1</th>\n",
       "      <td>530282000430</td>\n",
       "      <td>WA-17210-3519</td>\n",
       "      <td>5302820</td>\n",
       "      <td>WA-17210</td>\n",
       "      <td>PK</td>\n",
       "      <td>05</td>\n",
       "      <td>Adelaide Elementary School</td>\n",
       "      <td>Federal Way School District</td>\n",
       "      <td>King County</td>\n",
       "      <td>1635 SW 304th ST</td>\n",
       "      <td>...</td>\n",
       "      <td>Suburb: Large</td>\n",
       "      <td>No</td>\n",
       "      <td>No</td>\n",
       "      <td>Yes</td>\n",
       "      <td>Yes</td>\n",
       "      <td>402.0</td>\n",
       "      <td>25.01000</td>\n",
       "      <td>16.1000000</td>\n",
       "      <td>208.00000</td>\n",
       "      <td>50.00000</td>\n",
       "    </tr>\n",
       "    <tr>\n",
       "      <th>2</th>\n",
       "      <td>530771001249</td>\n",
       "      <td>WA-17001-3774</td>\n",
       "      <td>5307710</td>\n",
       "      <td>WA-17001</td>\n",
       "      <td>06</td>\n",
       "      <td>08</td>\n",
       "      <td>Aki Kurose Middle School</td>\n",
       "      <td>Seattle School District No. 1</td>\n",
       "      <td>King County</td>\n",
       "      <td>3928 S GRAHAM ST</td>\n",
       "      <td>...</td>\n",
       "      <td>City: Large</td>\n",
       "      <td>No</td>\n",
       "      <td>No</td>\n",
       "      <td>Yes</td>\n",
       "      <td>Yes</td>\n",
       "      <td>657.0</td>\n",
       "      <td>41.68000</td>\n",
       "      <td>15.8000000</td>\n",
       "      <td>370.00000</td>\n",
       "      <td>102.00000</td>\n",
       "    </tr>\n",
       "    <tr>\n",
       "      <th>3</th>\n",
       "      <td>530792001297</td>\n",
       "      <td>WA-17412-3674</td>\n",
       "      <td>5307920</td>\n",
       "      <td>WA-17412</td>\n",
       "      <td>07</td>\n",
       "      <td>08</td>\n",
       "      <td>Albert Einstein Middle School</td>\n",
       "      <td>Shoreline School District</td>\n",
       "      <td>King County</td>\n",
       "      <td>19343 3rd Avenue N.W.</td>\n",
       "      <td>...</td>\n",
       "      <td>Suburb: Large</td>\n",
       "      <td>No</td>\n",
       "      <td>No</td>\n",
       "      <td>No</td>\n",
       "      <td>†</td>\n",
       "      <td>713.0</td>\n",
       "      <td>35.39000</td>\n",
       "      <td>20.1000000</td>\n",
       "      <td>136.00000</td>\n",
       "      <td>52.00000</td>\n",
       "    </tr>\n",
       "    <tr>\n",
       "      <th>4</th>\n",
       "      <td>530423002062</td>\n",
       "      <td>WA-17414-4256</td>\n",
       "      <td>5304230</td>\n",
       "      <td>WA-17414</td>\n",
       "      <td>KG</td>\n",
       "      <td>05</td>\n",
       "      <td>Alcott Elementary</td>\n",
       "      <td>Lake Washington School District</td>\n",
       "      <td>King County</td>\n",
       "      <td>4213 - 228th AVE NE</td>\n",
       "      <td>...</td>\n",
       "      <td>Suburb: Large</td>\n",
       "      <td>No</td>\n",
       "      <td>No</td>\n",
       "      <td>No</td>\n",
       "      <td>†</td>\n",
       "      <td>715.0</td>\n",
       "      <td>40.13000</td>\n",
       "      <td>17.8000000</td>\n",
       "      <td>16.00000</td>\n",
       "      <td>5.00000</td>\n",
       "    </tr>\n",
       "  </tbody>\n",
       "</table>\n",
       "<p>5 rows × 26 columns</p>\n",
       "</div>"
      ],
      "text/plain": [
       "   NCES School ID State School ID  NCES District ID State District ID  \\\n",
       "0    530771001127   WA-17001-2138           5307710          WA-17001   \n",
       "1    530282000430   WA-17210-3519           5302820          WA-17210   \n",
       "2    530771001249   WA-17001-3774           5307710          WA-17001   \n",
       "3    530792001297   WA-17412-3674           5307920          WA-17412   \n",
       "4    530423002062   WA-17414-4256           5304230          WA-17414   \n",
       "\n",
       "  Low Grade* High Grade*                    School Name  \\\n",
       "0         KG          05        Adams Elementary School   \n",
       "1         PK          05     Adelaide Elementary School   \n",
       "2         06          08       Aki Kurose Middle School   \n",
       "3         07          08  Albert Einstein Middle School   \n",
       "4         KG          05              Alcott Elementary   \n",
       "\n",
       "                          District County Name*         Street Address  ...  \\\n",
       "0    Seattle School District No. 1  King County          6110 28 AV NW  ...   \n",
       "1      Federal Way School District  King County       1635 SW 304th ST  ...   \n",
       "2    Seattle School District No. 1  King County       3928 S GRAHAM ST  ...   \n",
       "3        Shoreline School District  King County  19343 3rd Avenue N.W.  ...   \n",
       "4  Lake Washington School District  King County    4213 - 228th AVE NE  ...   \n",
       "\n",
       "         Locale* Charter  Magnet*  Title I School* Title 1 School Wide*  \\\n",
       "0    City: Large      No       No               No                    †   \n",
       "1  Suburb: Large      No       No              Yes                  Yes   \n",
       "2    City: Large      No       No              Yes                  Yes   \n",
       "3  Suburb: Large      No       No               No                    †   \n",
       "4  Suburb: Large      No       No               No                    †   \n",
       "\n",
       "   Students* Teachers* Student Teacher Ratio* Free Lunch* Reduced Lunch*  \n",
       "0      498.0  30.07000             16.6000000    44.00000       11.00000  \n",
       "1      402.0  25.01000             16.1000000   208.00000       50.00000  \n",
       "2      657.0  41.68000             15.8000000   370.00000      102.00000  \n",
       "3      713.0  35.39000             20.1000000   136.00000       52.00000  \n",
       "4      715.0  40.13000             17.8000000    16.00000        5.00000  \n",
       "\n",
       "[5 rows x 26 columns]"
      ]
     },
     "execution_count": 5,
     "metadata": {},
     "output_type": "execute_result"
    }
   ],
   "source": [
    "schools.head()"
   ]
  },
  {
   "cell_type": "code",
   "execution_count": 6,
   "metadata": {},
   "outputs": [],
   "source": [
    "schools.rename({'County Name*':'County','Street Address':'Address',\n",
    "                'School Name':'Name','NCES School ID':'NCES__School_ID',\n",
    "                'State School ID':'State_School_ID','NCES District ID':'NCES_District_ID',\n",
    "                'State District ID':'State_District_ID','Locale*':'Area_Type',\n",
    "                'Magnet*':'Magnet','Students*':'Students','Teachers*':'Teachers',\n",
    "                'Student Teacher Ratio*':'ST_Ratio','Free Lunch*':'Free_Lunch',\n",
    "                'Reduced Lunch*':'Reduced_Lunch','Low Grade*':'Low_Grade',\n",
    "                'High Grade*':'High_Grade'\n",
    "               },\n",
    "               inplace=True,\n",
    "               axis=1)"
   ]
  },
  {
   "cell_type": "code",
   "execution_count": 7,
   "metadata": {},
   "outputs": [],
   "source": [
    "schools=schools.drop(['Title I School*','Title 1 School Wide*','ZIP 4-digit','Phone','Locale Code*'],axis=1)"
   ]
  },
  {
   "cell_type": "code",
   "execution_count": 8,
   "metadata": {},
   "outputs": [
    {
     "data": {
      "text/html": [
       "<div>\n",
       "<style scoped>\n",
       "    .dataframe tbody tr th:only-of-type {\n",
       "        vertical-align: middle;\n",
       "    }\n",
       "\n",
       "    .dataframe tbody tr th {\n",
       "        vertical-align: top;\n",
       "    }\n",
       "\n",
       "    .dataframe thead th {\n",
       "        text-align: right;\n",
       "    }\n",
       "</style>\n",
       "<table border=\"1\" class=\"dataframe\">\n",
       "  <thead>\n",
       "    <tr style=\"text-align: right;\">\n",
       "      <th></th>\n",
       "      <th>Address</th>\n",
       "      <th>City</th>\n",
       "      <th>State</th>\n",
       "      <th>ZIP</th>\n",
       "    </tr>\n",
       "  </thead>\n",
       "  <tbody>\n",
       "    <tr>\n",
       "      <th>0</th>\n",
       "      <td>6110 28 AV NW</td>\n",
       "      <td>SEATTLE</td>\n",
       "      <td>WA</td>\n",
       "      <td>98107</td>\n",
       "    </tr>\n",
       "    <tr>\n",
       "      <th>1</th>\n",
       "      <td>1635 SW 304th ST</td>\n",
       "      <td>Federal Way</td>\n",
       "      <td>WA</td>\n",
       "      <td>98023</td>\n",
       "    </tr>\n",
       "    <tr>\n",
       "      <th>2</th>\n",
       "      <td>3928 S GRAHAM ST</td>\n",
       "      <td>Seattle</td>\n",
       "      <td>WA</td>\n",
       "      <td>98118</td>\n",
       "    </tr>\n",
       "    <tr>\n",
       "      <th>3</th>\n",
       "      <td>19343 3rd Avenue N.W.</td>\n",
       "      <td>Shoreline</td>\n",
       "      <td>WA</td>\n",
       "      <td>98177</td>\n",
       "    </tr>\n",
       "    <tr>\n",
       "      <th>4</th>\n",
       "      <td>4213 - 228th AVE NE</td>\n",
       "      <td>Redmond</td>\n",
       "      <td>WA</td>\n",
       "      <td>98053</td>\n",
       "    </tr>\n",
       "    <tr>\n",
       "      <th>...</th>\n",
       "      <td>...</td>\n",
       "      <td>...</td>\n",
       "      <td>...</td>\n",
       "      <td>...</td>\n",
       "    </tr>\n",
       "    <tr>\n",
       "      <th>520</th>\n",
       "      <td>19819 136 NE</td>\n",
       "      <td>Woodinville</td>\n",
       "      <td>WA</td>\n",
       "      <td>98072</td>\n",
       "    </tr>\n",
       "    <tr>\n",
       "      <th>521</th>\n",
       "      <td>26454 16TH AV S</td>\n",
       "      <td>DES MOINES</td>\n",
       "      <td>WA</td>\n",
       "      <td>98198</td>\n",
       "    </tr>\n",
       "    <tr>\n",
       "      <th>522</th>\n",
       "      <td>12225 NE 160</td>\n",
       "      <td>Bothell</td>\n",
       "      <td>WA</td>\n",
       "      <td>98011</td>\n",
       "    </tr>\n",
       "    <tr>\n",
       "      <th>523</th>\n",
       "      <td>12619 SE 20th Place</td>\n",
       "      <td>Bellevue</td>\n",
       "      <td>WA</td>\n",
       "      <td>98005</td>\n",
       "    </tr>\n",
       "    <tr>\n",
       "      <th>524</th>\n",
       "      <td>Tukwila School District</td>\n",
       "      <td>Tukwila</td>\n",
       "      <td>WA</td>\n",
       "      <td>98168</td>\n",
       "    </tr>\n",
       "  </tbody>\n",
       "</table>\n",
       "<p>525 rows × 4 columns</p>\n",
       "</div>"
      ],
      "text/plain": [
       "                     Address         City State    ZIP\n",
       "0              6110 28 AV NW      SEATTLE    WA  98107\n",
       "1           1635 SW 304th ST  Federal Way    WA  98023\n",
       "2           3928 S GRAHAM ST      Seattle    WA  98118\n",
       "3      19343 3rd Avenue N.W.    Shoreline    WA  98177\n",
       "4        4213 - 228th AVE NE      Redmond    WA  98053\n",
       "..                       ...          ...   ...    ...\n",
       "520             19819 136 NE  Woodinville    WA  98072\n",
       "521          26454 16TH AV S   DES MOINES    WA  98198\n",
       "522             12225 NE 160      Bothell    WA  98011\n",
       "523      12619 SE 20th Place     Bellevue    WA  98005\n",
       "524  Tukwila School District      Tukwila    WA  98168\n",
       "\n",
       "[525 rows x 4 columns]"
      ]
     },
     "execution_count": 8,
     "metadata": {},
     "output_type": "execute_result"
    }
   ],
   "source": [
    "schools[['Address','City','State','ZIP']]"
   ]
  },
  {
   "cell_type": "code",
   "execution_count": 236,
   "metadata": {},
   "outputs": [
    {
     "data": {
      "text/plain": [
       "NCES__School_ID                           530282000430\n",
       "State_School_ID                          WA-17210-3519\n",
       "NCES_District_ID                               5302820\n",
       "State_District_ID                             WA-17210\n",
       "Low_Grade                                           PK\n",
       "High_Grade                                          05\n",
       "Name                        Adelaide Elementary School\n",
       "District                   Federal Way School District\n",
       "County                                     King County\n",
       "Address                               1635 SW 304th ST\n",
       "City                                       Federal Way\n",
       "State                                               WA\n",
       "ZIP                                              98023\n",
       "Area_Type                                Suburb: Large\n",
       "Charter                                             No\n",
       "Magnet                                              No\n",
       "Students                                           402\n",
       "Teachers                                      25.01000\n",
       "ST_Ratio                                    16.1000000\n",
       "Free_Lunch                                   208.00000\n",
       "Reduced_Lunch                                 50.00000\n",
       "GPS                  (47.3286363, -122.35689453580943)\n",
       "Name: 1, dtype: object"
      ]
     },
     "execution_count": 236,
     "metadata": {},
     "output_type": "execute_result"
    }
   ],
   "source": [
    "schools.loc[1]"
   ]
  },
  {
   "cell_type": "code",
   "execution_count": 237,
   "metadata": {},
   "outputs": [
    {
     "data": {
      "text/plain": [
       "Seattle School District No. 1              110\n",
       "Lake Washington School District             56\n",
       "Federal Way School District                 46\n",
       "Kent School District                        44\n",
       "Highline School District                    41\n",
       "Bellevue School District                    31\n",
       "Renton School District                      29\n",
       "Issaquah School District                    28\n",
       "Northshore School District                  23\n",
       "Auburn School District                      23\n",
       "Shoreline School District                   19\n",
       "Snoqualmie Valley School District           14\n",
       "Enumclaw School District                    10\n",
       "Tahoma School District                      10\n",
       "Riverview School District                    9\n",
       "Tukwila School District                      8\n",
       "Mercer Island School District                6\n",
       "Vashon Island School District                5\n",
       "Lake Washington Institute of Technology      2\n",
       "Skykomish School District                    2\n",
       "Renton Technical College                     2\n",
       "Rainier Valley Leadership Academy            1\n",
       "Rainier Prep Charter School District         1\n",
       "Ashe Preparatory Academy                     1\n",
       "Impact Public Schools                        1\n",
       "Summit Public School: Sierra                 1\n",
       "Monroe School District                       1\n",
       "Summit Public School: Atlas                  1\n",
       "Name: District, dtype: int64"
      ]
     },
     "execution_count": 237,
     "metadata": {},
     "output_type": "execute_result"
    }
   ],
   "source": [
    "schools.District.value_counts()"
   ]
  },
  {
   "cell_type": "code",
   "execution_count": 10,
   "metadata": {},
   "outputs": [],
   "source": [
    "geolocater=Nominatim(user_agent='king_county_schools')\n",
    "def gps_lookup(r):\n",
    "    key=str(r.Name) +' '+ str(r.City)\n",
    "    try:\n",
    "        l=geolocater.geocode(key)\n",
    "        return l.point[0:2]\n",
    "    except:\n",
    "        return None"
   ]
  },
  {
   "cell_type": "code",
   "execution_count": 7,
   "metadata": {},
   "outputs": [],
   "source": [
    "geolocater=Nominatim(user_agent='king_county_schools')"
   ]
  },
  {
   "cell_type": "code",
   "execution_count": 14,
   "metadata": {},
   "outputs": [],
   "source": [
    "l=geolocater.reverse((47.6049412,-122.3326903))"
   ]
  },
  {
   "cell_type": "code",
   "execution_count": 15,
   "metadata": {},
   "outputs": [
    {
     "data": {
      "text/plain": [
       "Location(Central Building, 810, 3rd Avenue, West Edge, First Hill, Seattle, King County, Washington, 98104, United States, (47.6047466, -122.33280075780988, 0.0))"
      ]
     },
     "execution_count": 15,
     "metadata": {},
     "output_type": "execute_result"
    }
   ],
   "source": [
    "l"
   ]
  },
  {
   "cell_type": "code",
   "execution_count": 18,
   "metadata": {},
   "outputs": [],
   "source": [
    "schools.to_pickle('schools_data.pkl')"
   ]
  },
  {
   "cell_type": "code",
   "execution_count": 25,
   "metadata": {},
   "outputs": [
    {
     "data": {
      "text/plain": [
       "98003    19\n",
       "98052    14\n",
       "98042    14\n",
       "98034    14\n",
       "98030    14\n",
       "         ..\n",
       "98093     1\n",
       "98039     1\n",
       "98272     1\n",
       "98057     1\n",
       "98047     1\n",
       "Name: ZIP, Length: 81, dtype: int64"
      ]
     },
     "execution_count": 25,
     "metadata": {},
     "output_type": "execute_result"
    }
   ],
   "source": [
    "schools.ZIP.value_counts()"
   ]
  },
  {
   "cell_type": "code",
   "execution_count": 20,
   "metadata": {},
   "outputs": [],
   "source": [
    "d_parms={'schoolyear':'2014-15',\n",
    "       'organizationlevel':'District',\n",
    "       'gradelevel':'All Grades','testadministration':'SBAC',\n",
    "       'county':'King',\n",
    "       '$$app_token':token,'$limit':50000}\n",
    "\n",
    "s_parms={'schoolyear':'2014-15',\n",
    "       'organizationlevel':'School','currentschooltype':'P', #only public schools...\n",
    "       'gradelevel':'All Grades','testadministration':'SBAC',\n",
    "       'county':'King',\n",
    "       '$$app_token':token,'$limit':50000}"
   ]
  },
  {
   "cell_type": "code",
   "execution_count": 21,
   "metadata": {},
   "outputs": [
    {
     "data": {
      "text/plain": [
       "200"
      ]
     },
     "execution_count": 21,
     "metadata": {},
     "output_type": "execute_result"
    }
   ],
   "source": [
    "response=re.get(link,params=d_parms)\n",
    "response.status_code"
   ]
  },
  {
   "cell_type": "code",
   "execution_count": 22,
   "metadata": {},
   "outputs": [
    {
     "name": "stdout",
     "output_type": "stream",
     "text": [
      "(946, 27)\n"
     ]
    },
    {
     "data": {
      "text/plain": [
       "Index(['schoolyear', 'organizationlevel', 'county', 'esdname',\n",
       "       'esdorganizationid', 'districtcode', 'districtname',\n",
       "       'districtorganizationid', 'schoolname', 'studentgrouptype',\n",
       "       'studentgroup', 'gradelevel', 'test_administration_group',\n",
       "       'testadministration', 'testsubject', 'suppression',\n",
       "       'count_of_students_expected',\n",
       "       'count_of_students_expected_to_test_including_previously_passed',\n",
       "       'countmetstandard', 'percentmetstandard', 'percentlevel1',\n",
       "       'percentlevel2', 'percentlevel3', 'percentlevel4',\n",
       "       'percentmettestedonly', 'percent_no_score', 'dataasof'],\n",
       "      dtype='object')"
      ]
     },
     "execution_count": 22,
     "metadata": {},
     "output_type": "execute_result"
    }
   ],
   "source": [
    "district_grades=pd.read_json(response.text)\n",
    "print(district_grades.shape)\n",
    "district_grades.columns"
   ]
  },
  {
   "cell_type": "code",
   "execution_count": 24,
   "metadata": {},
   "outputs": [
    {
     "data": {
      "text/plain": [
       "100174    48\n",
       "100222    48\n",
       "100105    48\n",
       "100117    48\n",
       "100127    48\n",
       "100080    48\n",
       "100216    48\n",
       "100229    48\n",
       "100016    48\n",
       "100086    48\n",
       "100236    46\n",
       "100019    46\n",
       "100263    46\n",
       "100146    46\n",
       "100240    46\n",
       "100111    46\n",
       "100243    46\n",
       "100279    44\n",
       "105683    36\n",
       "104276    32\n",
       "100238    32\n",
       "Name: districtorganizationid, dtype: int64"
      ]
     },
     "execution_count": 24,
     "metadata": {},
     "output_type": "execute_result"
    }
   ],
   "source": [
    "district_grades.districtorganizationid.value_counts()"
   ]
  },
  {
   "cell_type": "code",
   "execution_count": 212,
   "metadata": {},
   "outputs": [
    {
     "data": {
      "text/plain": [
       "21"
      ]
     },
     "execution_count": 212,
     "metadata": {},
     "output_type": "execute_result"
    }
   ],
   "source": [
    "len(district_grades.districtname.unique())"
   ]
  },
  {
   "cell_type": "code",
   "execution_count": 233,
   "metadata": {},
   "outputs": [
    {
     "data": {
      "text/plain": [
       "200"
      ]
     },
     "execution_count": 233,
     "metadata": {},
     "output_type": "execute_result"
    }
   ],
   "source": [
    "response=re.get(link,params=s_parms)\n",
    "response.status_code"
   ]
  },
  {
   "cell_type": "code",
   "execution_count": 26,
   "metadata": {},
   "outputs": [
    {
     "name": "stdout",
     "output_type": "stream",
     "text": [
      "(946, 27)\n"
     ]
    },
    {
     "data": {
      "text/plain": [
       "Index(['schoolyear', 'organizationlevel', 'county', 'esdname',\n",
       "       'esdorganizationid', 'districtcode', 'districtname',\n",
       "       'districtorganizationid', 'schoolname', 'studentgrouptype',\n",
       "       'studentgroup', 'gradelevel', 'test_administration_group',\n",
       "       'testadministration', 'testsubject', 'suppression',\n",
       "       'count_of_students_expected',\n",
       "       'count_of_students_expected_to_test_including_previously_passed',\n",
       "       'countmetstandard', 'percentmetstandard', 'percentlevel1',\n",
       "       'percentlevel2', 'percentlevel3', 'percentlevel4',\n",
       "       'percentmettestedonly', 'percent_no_score', 'dataasof'],\n",
       "      dtype='object')"
      ]
     },
     "execution_count": 26,
     "metadata": {},
     "output_type": "execute_result"
    }
   ],
   "source": [
    "school_grades=pd.read_json(response.text)\n",
    "print(school_grades.shape)\n",
    "school_grades.columns"
   ]
  },
  {
   "cell_type": "code",
   "execution_count": 27,
   "metadata": {},
   "outputs": [
    {
     "data": {
      "text/plain": [
       "Lake Washington School District                 48\n",
       "Riverview School District                       48\n",
       "Northshore School District                      48\n",
       "Enumclaw School District                        48\n",
       "Highline School District                        48\n",
       "Kent School District                            48\n",
       "Renton School District                          48\n",
       "Seattle School District #1                      48\n",
       "Federal Way School District                     48\n",
       "Auburn School District                          48\n",
       "Mercer Island School District                   46\n",
       "Tukwila School District                         46\n",
       "Bellevue School District                        46\n",
       "Shoreline School District                       46\n",
       "Issaquah School District                        46\n",
       "Tahoma School District                          46\n",
       "Snoqualmie Valley School District               46\n",
       "Vashon Island School District                   44\n",
       "First Place Scholars Charter School District    36\n",
       "Skykomish School District                       32\n",
       "Lake Washington Institute of Technology         32\n",
       "Name: districtname, dtype: int64"
      ]
     },
     "execution_count": 27,
     "metadata": {},
     "output_type": "execute_result"
    }
   ],
   "source": [
    "school_grades.districtname.value_counts()"
   ]
  },
  {
   "cell_type": "code",
   "execution_count": 222,
   "metadata": {},
   "outputs": [
    {
     "data": {
      "text/plain": [
       "P    18182\n",
       "A     2080\n",
       "S      357\n",
       "R      244\n",
       "I       96\n",
       "5       72\n",
       "J       44\n",
       "Z       32\n",
       "Q       30\n",
       "Name: currentschooltype, dtype: int64"
      ]
     },
     "execution_count": 222,
     "metadata": {},
     "output_type": "execute_result"
    }
   ],
   "source": [
    "school_grades.currentschooltype.value_counts()"
   ]
  },
  {
   "cell_type": "code",
   "execution_count": 218,
   "metadata": {},
   "outputs": [
    {
     "data": {
      "text/plain": [
       "(21137, 30)"
      ]
     },
     "execution_count": 218,
     "metadata": {},
     "output_type": "execute_result"
    }
   ],
   "source": [
    "school_grades.dropna(subset=['percentmetstandard']).shape"
   ]
  },
  {
   "cell_type": "code",
   "execution_count": 192,
   "metadata": {},
   "outputs": [
    {
     "data": {
      "text/plain": [
       "English Language Arts    10569\n",
       "Math                     10568\n",
       "Name: testsubject, dtype: int64"
      ]
     },
     "execution_count": 192,
     "metadata": {},
     "output_type": "execute_result"
    }
   ],
   "source": [
    "school_grades[school_grades.testadministration=='SBAC'].testsubject.value_counts()"
   ]
  },
  {
   "cell_type": "code",
   "execution_count": 221,
   "metadata": {},
   "outputs": [
    {
     "data": {
      "text/plain": [
       "schoolyear                                                                                             2014-15\n",
       "organizationlevel                                                                                       School\n",
       "county                                                                                                    King\n",
       "esdname                                                           Puget Sound Educational Service District 121\n",
       "esdorganizationid                                                                                       100006\n",
       "districtcode                                                                                             17408\n",
       "districtname                                                                            Auburn School District\n",
       "districtorganizationid                                                                                  100016\n",
       "schoolcode                                                                                                3825\n",
       "schoolname                                                                             Alpac Elementary School\n",
       "schoolorganizationid                                                                                    101425\n",
       "currentschooltype                                                                                            P\n",
       "studentgrouptype                                                                     English Language Learners\n",
       "studentgroup                                                                         English Language Learners\n",
       "gradelevel                                                                                          All Grades\n",
       "test_administration_group                                                                              General\n",
       "testadministration                                                                                        SBAC\n",
       "testsubject                                                                              English Language Arts\n",
       "suppression                                                                                               None\n",
       "count_of_students_expected                                                                                  42\n",
       "count_of_students_expected_to_test_including_previously_passed                                              42\n",
       "countmetstandard                                                                                             8\n",
       "percentmetstandard                                                                                       19.0%\n",
       "percentlevel1                                                                                            38.1%\n",
       "percentlevel2                                                                                            40.5%\n",
       "percentlevel3                                                                                            14.3%\n",
       "percentlevel4                                                                                             4.8%\n",
       "percentmettestedonly                                                                                  0.195122\n",
       "percent_no_score                                                                                          2.4%\n",
       "dataasof                                                                               2019-09-27T00:00:00.000\n",
       "Name: 2, dtype: object"
      ]
     },
     "execution_count": 221,
     "metadata": {},
     "output_type": "execute_result"
    }
   ],
   "source": [
    "school_grades.loc[2]"
   ]
  },
  {
   "cell_type": "code",
   "execution_count": null,
   "metadata": {},
   "outputs": [],
   "source": []
  }
 ],
 "metadata": {
  "kernelspec": {
   "display_name": "Python 3",
   "language": "python",
   "name": "python3"
  },
  "language_info": {
   "codemirror_mode": {
    "name": "ipython",
    "version": 3
   },
   "file_extension": ".py",
   "mimetype": "text/x-python",
   "name": "python",
   "nbconvert_exporter": "python",
   "pygments_lexer": "ipython3",
   "version": "3.8.5"
  }
 },
 "nbformat": 4,
 "nbformat_minor": 4
}
