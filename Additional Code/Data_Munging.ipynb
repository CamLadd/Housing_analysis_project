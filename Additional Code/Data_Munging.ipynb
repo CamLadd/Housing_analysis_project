{
 "cells": [
  {
   "cell_type": "code",
   "execution_count": 107,
   "metadata": {},
   "outputs": [],
   "source": [
    "import pandas as pd\n",
    "import numpy as np\n",
    "from scipy import stats as stats\n",
    "from scipy import interpolate\n",
    "import sklearn\n",
    "from matplotlib import pyplot as plt\n",
    "import regex\n",
    "import datetime\n",
    "import pickle"
   ]
  },
  {
   "cell_type": "code",
   "execution_count": 108,
   "metadata": {},
   "outputs": [],
   "source": [
    "#%matplotlib inline\n",
    "#plt.ioff()\n",
    "#plt.ion()"
   ]
  },
  {
   "cell_type": "code",
   "execution_count": 109,
   "metadata": {},
   "outputs": [],
   "source": [
    "#df=pd.read_csv('kc_house_data_train.csv')\n",
    "df=pd.read_csv('data/kc_house_data.csv')"
   ]
  },
  {
   "cell_type": "code",
   "execution_count": 110,
   "metadata": {},
   "outputs": [
    {
     "data": {
      "text/plain": [
       "(21597, 21)"
      ]
     },
     "execution_count": 110,
     "metadata": {},
     "output_type": "execute_result"
    }
   ],
   "source": [
    "df.shape"
   ]
  },
  {
   "cell_type": "code",
   "execution_count": 111,
   "metadata": {},
   "outputs": [
    {
     "data": {
      "text/plain": [
       "Index(['id', 'date', 'price', 'bedrooms', 'bathrooms', 'sqft_living',\n",
       "       'sqft_lot', 'floors', 'waterfront', 'view', 'condition', 'grade',\n",
       "       'sqft_above', 'sqft_basement', 'yr_built', 'yr_renovated', 'zipcode',\n",
       "       'lat', 'long', 'sqft_living15', 'sqft_lot15'],\n",
       "      dtype='object')"
      ]
     },
     "execution_count": 111,
     "metadata": {},
     "output_type": "execute_result"
    }
   ],
   "source": [
    "df.columns"
   ]
  },
  {
   "cell_type": "markdown",
   "metadata": {},
   "source": [
    "Let's do an initial data exploration"
   ]
  },
  {
   "cell_type": "code",
   "execution_count": 112,
   "metadata": {},
   "outputs": [
    {
     "name": "stdout",
     "output_type": "stream",
     "text": [
      "<class 'pandas.core.frame.DataFrame'>\n",
      "RangeIndex: 21597 entries, 0 to 21596\n",
      "Data columns (total 21 columns):\n",
      " #   Column         Non-Null Count  Dtype  \n",
      "---  ------         --------------  -----  \n",
      " 0   id             21597 non-null  int64  \n",
      " 1   date           21597 non-null  object \n",
      " 2   price          21597 non-null  float64\n",
      " 3   bedrooms       21597 non-null  int64  \n",
      " 4   bathrooms      21597 non-null  float64\n",
      " 5   sqft_living    21597 non-null  int64  \n",
      " 6   sqft_lot       21597 non-null  int64  \n",
      " 7   floors         21597 non-null  float64\n",
      " 8   waterfront     19221 non-null  float64\n",
      " 9   view           21534 non-null  float64\n",
      " 10  condition      21597 non-null  int64  \n",
      " 11  grade          21597 non-null  int64  \n",
      " 12  sqft_above     21597 non-null  int64  \n",
      " 13  sqft_basement  21597 non-null  object \n",
      " 14  yr_built       21597 non-null  int64  \n",
      " 15  yr_renovated   17755 non-null  float64\n",
      " 16  zipcode        21597 non-null  int64  \n",
      " 17  lat            21597 non-null  float64\n",
      " 18  long           21597 non-null  float64\n",
      " 19  sqft_living15  21597 non-null  int64  \n",
      " 20  sqft_lot15     21597 non-null  int64  \n",
      "dtypes: float64(8), int64(11), object(2)\n",
      "memory usage: 3.5+ MB\n"
     ]
    }
   ],
   "source": [
    "df.info()"
   ]
  },
  {
   "cell_type": "code",
   "execution_count": 113,
   "metadata": {},
   "outputs": [
    {
     "data": {
      "text/html": [
       "<div>\n",
       "<style scoped>\n",
       "    .dataframe tbody tr th:only-of-type {\n",
       "        vertical-align: middle;\n",
       "    }\n",
       "\n",
       "    .dataframe tbody tr th {\n",
       "        vertical-align: top;\n",
       "    }\n",
       "\n",
       "    .dataframe thead th {\n",
       "        text-align: right;\n",
       "    }\n",
       "</style>\n",
       "<table border=\"1\" class=\"dataframe\">\n",
       "  <thead>\n",
       "    <tr style=\"text-align: right;\">\n",
       "      <th></th>\n",
       "      <th>id</th>\n",
       "      <th>date</th>\n",
       "      <th>price</th>\n",
       "      <th>bedrooms</th>\n",
       "      <th>bathrooms</th>\n",
       "      <th>sqft_living</th>\n",
       "      <th>sqft_lot</th>\n",
       "      <th>floors</th>\n",
       "      <th>waterfront</th>\n",
       "      <th>view</th>\n",
       "      <th>...</th>\n",
       "      <th>grade</th>\n",
       "      <th>sqft_above</th>\n",
       "      <th>sqft_basement</th>\n",
       "      <th>yr_built</th>\n",
       "      <th>yr_renovated</th>\n",
       "      <th>zipcode</th>\n",
       "      <th>lat</th>\n",
       "      <th>long</th>\n",
       "      <th>sqft_living15</th>\n",
       "      <th>sqft_lot15</th>\n",
       "    </tr>\n",
       "  </thead>\n",
       "  <tbody>\n",
       "    <tr>\n",
       "      <th>0</th>\n",
       "      <td>7129300520</td>\n",
       "      <td>10/13/2014</td>\n",
       "      <td>221900.0</td>\n",
       "      <td>3</td>\n",
       "      <td>1.00</td>\n",
       "      <td>1180</td>\n",
       "      <td>5650</td>\n",
       "      <td>1.0</td>\n",
       "      <td>NaN</td>\n",
       "      <td>0.0</td>\n",
       "      <td>...</td>\n",
       "      <td>7</td>\n",
       "      <td>1180</td>\n",
       "      <td>0.0</td>\n",
       "      <td>1955</td>\n",
       "      <td>0.0</td>\n",
       "      <td>98178</td>\n",
       "      <td>47.5112</td>\n",
       "      <td>-122.257</td>\n",
       "      <td>1340</td>\n",
       "      <td>5650</td>\n",
       "    </tr>\n",
       "    <tr>\n",
       "      <th>1</th>\n",
       "      <td>6414100192</td>\n",
       "      <td>12/9/2014</td>\n",
       "      <td>538000.0</td>\n",
       "      <td>3</td>\n",
       "      <td>2.25</td>\n",
       "      <td>2570</td>\n",
       "      <td>7242</td>\n",
       "      <td>2.0</td>\n",
       "      <td>0.0</td>\n",
       "      <td>0.0</td>\n",
       "      <td>...</td>\n",
       "      <td>7</td>\n",
       "      <td>2170</td>\n",
       "      <td>400.0</td>\n",
       "      <td>1951</td>\n",
       "      <td>1991.0</td>\n",
       "      <td>98125</td>\n",
       "      <td>47.7210</td>\n",
       "      <td>-122.319</td>\n",
       "      <td>1690</td>\n",
       "      <td>7639</td>\n",
       "    </tr>\n",
       "    <tr>\n",
       "      <th>2</th>\n",
       "      <td>5631500400</td>\n",
       "      <td>2/25/2015</td>\n",
       "      <td>180000.0</td>\n",
       "      <td>2</td>\n",
       "      <td>1.00</td>\n",
       "      <td>770</td>\n",
       "      <td>10000</td>\n",
       "      <td>1.0</td>\n",
       "      <td>0.0</td>\n",
       "      <td>0.0</td>\n",
       "      <td>...</td>\n",
       "      <td>6</td>\n",
       "      <td>770</td>\n",
       "      <td>0.0</td>\n",
       "      <td>1933</td>\n",
       "      <td>NaN</td>\n",
       "      <td>98028</td>\n",
       "      <td>47.7379</td>\n",
       "      <td>-122.233</td>\n",
       "      <td>2720</td>\n",
       "      <td>8062</td>\n",
       "    </tr>\n",
       "    <tr>\n",
       "      <th>3</th>\n",
       "      <td>2487200875</td>\n",
       "      <td>12/9/2014</td>\n",
       "      <td>604000.0</td>\n",
       "      <td>4</td>\n",
       "      <td>3.00</td>\n",
       "      <td>1960</td>\n",
       "      <td>5000</td>\n",
       "      <td>1.0</td>\n",
       "      <td>0.0</td>\n",
       "      <td>0.0</td>\n",
       "      <td>...</td>\n",
       "      <td>7</td>\n",
       "      <td>1050</td>\n",
       "      <td>910.0</td>\n",
       "      <td>1965</td>\n",
       "      <td>0.0</td>\n",
       "      <td>98136</td>\n",
       "      <td>47.5208</td>\n",
       "      <td>-122.393</td>\n",
       "      <td>1360</td>\n",
       "      <td>5000</td>\n",
       "    </tr>\n",
       "    <tr>\n",
       "      <th>4</th>\n",
       "      <td>1954400510</td>\n",
       "      <td>2/18/2015</td>\n",
       "      <td>510000.0</td>\n",
       "      <td>3</td>\n",
       "      <td>2.00</td>\n",
       "      <td>1680</td>\n",
       "      <td>8080</td>\n",
       "      <td>1.0</td>\n",
       "      <td>0.0</td>\n",
       "      <td>0.0</td>\n",
       "      <td>...</td>\n",
       "      <td>8</td>\n",
       "      <td>1680</td>\n",
       "      <td>0.0</td>\n",
       "      <td>1987</td>\n",
       "      <td>0.0</td>\n",
       "      <td>98074</td>\n",
       "      <td>47.6168</td>\n",
       "      <td>-122.045</td>\n",
       "      <td>1800</td>\n",
       "      <td>7503</td>\n",
       "    </tr>\n",
       "  </tbody>\n",
       "</table>\n",
       "<p>5 rows × 21 columns</p>\n",
       "</div>"
      ],
      "text/plain": [
       "           id        date     price  bedrooms  bathrooms  sqft_living  \\\n",
       "0  7129300520  10/13/2014  221900.0         3       1.00         1180   \n",
       "1  6414100192   12/9/2014  538000.0         3       2.25         2570   \n",
       "2  5631500400   2/25/2015  180000.0         2       1.00          770   \n",
       "3  2487200875   12/9/2014  604000.0         4       3.00         1960   \n",
       "4  1954400510   2/18/2015  510000.0         3       2.00         1680   \n",
       "\n",
       "   sqft_lot  floors  waterfront  view  ...  grade  sqft_above  sqft_basement  \\\n",
       "0      5650     1.0         NaN   0.0  ...      7        1180            0.0   \n",
       "1      7242     2.0         0.0   0.0  ...      7        2170          400.0   \n",
       "2     10000     1.0         0.0   0.0  ...      6         770            0.0   \n",
       "3      5000     1.0         0.0   0.0  ...      7        1050          910.0   \n",
       "4      8080     1.0         0.0   0.0  ...      8        1680            0.0   \n",
       "\n",
       "  yr_built  yr_renovated  zipcode      lat     long  sqft_living15  sqft_lot15  \n",
       "0     1955           0.0    98178  47.5112 -122.257           1340        5650  \n",
       "1     1951        1991.0    98125  47.7210 -122.319           1690        7639  \n",
       "2     1933           NaN    98028  47.7379 -122.233           2720        8062  \n",
       "3     1965           0.0    98136  47.5208 -122.393           1360        5000  \n",
       "4     1987           0.0    98074  47.6168 -122.045           1800        7503  \n",
       "\n",
       "[5 rows x 21 columns]"
      ]
     },
     "execution_count": 113,
     "metadata": {},
     "output_type": "execute_result"
    }
   ],
   "source": [
    "df.head()"
   ]
  },
  {
   "cell_type": "markdown",
   "metadata": {},
   "source": [
    "We can begin by setting the ID as the proper index."
   ]
  },
  {
   "cell_type": "code",
   "execution_count": 114,
   "metadata": {},
   "outputs": [],
   "source": [
    "df=df.set_index(['id'])"
   ]
  },
  {
   "cell_type": "markdown",
   "metadata": {},
   "source": [
    "Note that the date column is full of string objects.  From our initial look at the dataframe, it appears each entry is a particular pattern.  First, confirm this"
   ]
  },
  {
   "cell_type": "code",
   "execution_count": 115,
   "metadata": {},
   "outputs": [],
   "source": [
    "###IGNORE\n",
    "#date_patt='([0-9]{4})([0-9]{2})([0-9]{2})T'\n",
    "#rgx=regex.compile(date_patt)\n",
    "#confirm=df.date.apply(lambda x:bool(rgx.match(x)))\n",
    "##extract the data using this pattern.\n",
    "#df[['sale_yr','sale_month','day']]=df.date.str.extract(date_patt)\n",
    "#df[['sale_yr','sale_month','day']]=df[['sale_yr','sale_month','day']].applymap(int)\n",
    "#df.date=df.apply(lambda r:datetime.datetime(r.sale_yr,r.sale_month,r.day),axis=1)"
   ]
  },
  {
   "cell_type": "code",
   "execution_count": 116,
   "metadata": {},
   "outputs": [],
   "source": [
    "df.date=df.date.apply(lambda d:pd.to_datetime(d))"
   ]
  },
  {
   "cell_type": "markdown",
   "metadata": {},
   "source": [
    "It will be helpful to split this data up by year and by quarter."
   ]
  },
  {
   "cell_type": "code",
   "execution_count": 117,
   "metadata": {},
   "outputs": [],
   "source": [
    "df['sale_yr']=df.date.apply(lambda d:d.year)\n",
    "df['sale_month']=df.date.apply(lambda d:d.month)"
   ]
  },
  {
   "cell_type": "code",
   "execution_count": 118,
   "metadata": {},
   "outputs": [
    {
     "data": {
      "text/plain": [
       "2014    14622\n",
       "2015     6975\n",
       "Name: sale_yr, dtype: int64"
      ]
     },
     "execution_count": 118,
     "metadata": {},
     "output_type": "execute_result"
    }
   ],
   "source": [
    "#We note that all the sales occured in 2014 or 2015.  (We may later set this to a categorical variable.)\n",
    "df.sale_yr.value_counts()"
   ]
  },
  {
   "cell_type": "code",
   "execution_count": 119,
   "metadata": {},
   "outputs": [
    {
     "data": {
      "text/plain": [
       "Spring    6518\n",
       "Summer    6328\n",
       "Fall      5056\n",
       "Winter    3695\n",
       "Name: season, dtype: int64"
      ]
     },
     "execution_count": 119,
     "metadata": {},
     "output_type": "execute_result"
    }
   ],
   "source": [
    "#Now we want to add a factor for each quarter/season.  (We will later set this to a categorical variable as well.)\n",
    "quart_dict={\n",
    "            1:'Winter',\n",
    "            2:'Winter',\n",
    "            3:'Spring',\n",
    "            4:'Spring',\n",
    "            5:'Spring',\n",
    "            6:'Summer',\n",
    "            7:'Summer',\n",
    "            8:'Summer',\n",
    "            9:'Fall',\n",
    "            10:'Fall',\n",
    "            11:'Fall',\n",
    "            12:'Winter'\n",
    "            }\n",
    "df['season']=df.sale_month.map(quart_dict)\n",
    "df['season'].value_counts()"
   ]
  },
  {
   "cell_type": "markdown",
   "metadata": {},
   "source": [
    "We note that the prices are all at least $1k.  So for readability, lets divide by 1,000.  (This changes the datatype of this variable from int to float.)"
   ]
  },
  {
   "cell_type": "markdown",
   "metadata": {},
   "source": [
    "Check for duplicates"
   ]
  },
  {
   "cell_type": "code",
   "execution_count": 120,
   "metadata": {},
   "outputs": [
    {
     "data": {
      "text/plain": [
       "177"
      ]
     },
     "execution_count": 120,
     "metadata": {},
     "output_type": "execute_result"
    }
   ],
   "source": [
    "df.index.duplicated().sum()"
   ]
  },
  {
   "cell_type": "markdown",
   "metadata": {},
   "source": [
    "Interesting...Let's see what these entries look like."
   ]
  },
  {
   "cell_type": "code",
   "execution_count": 121,
   "metadata": {},
   "outputs": [
    {
     "data": {
      "text/html": [
       "<div>\n",
       "<style scoped>\n",
       "    .dataframe tbody tr th:only-of-type {\n",
       "        vertical-align: middle;\n",
       "    }\n",
       "\n",
       "    .dataframe tbody tr th {\n",
       "        vertical-align: top;\n",
       "    }\n",
       "\n",
       "    .dataframe thead th {\n",
       "        text-align: right;\n",
       "    }\n",
       "</style>\n",
       "<table border=\"1\" class=\"dataframe\">\n",
       "  <thead>\n",
       "    <tr style=\"text-align: right;\">\n",
       "      <th></th>\n",
       "      <th>date</th>\n",
       "      <th>price</th>\n",
       "      <th>bedrooms</th>\n",
       "      <th>bathrooms</th>\n",
       "      <th>sqft_living</th>\n",
       "      <th>sqft_lot</th>\n",
       "      <th>floors</th>\n",
       "      <th>waterfront</th>\n",
       "      <th>view</th>\n",
       "      <th>condition</th>\n",
       "      <th>...</th>\n",
       "      <th>yr_built</th>\n",
       "      <th>yr_renovated</th>\n",
       "      <th>zipcode</th>\n",
       "      <th>lat</th>\n",
       "      <th>long</th>\n",
       "      <th>sqft_living15</th>\n",
       "      <th>sqft_lot15</th>\n",
       "      <th>sale_yr</th>\n",
       "      <th>sale_month</th>\n",
       "      <th>season</th>\n",
       "    </tr>\n",
       "    <tr>\n",
       "      <th>id</th>\n",
       "      <th></th>\n",
       "      <th></th>\n",
       "      <th></th>\n",
       "      <th></th>\n",
       "      <th></th>\n",
       "      <th></th>\n",
       "      <th></th>\n",
       "      <th></th>\n",
       "      <th></th>\n",
       "      <th></th>\n",
       "      <th></th>\n",
       "      <th></th>\n",
       "      <th></th>\n",
       "      <th></th>\n",
       "      <th></th>\n",
       "      <th></th>\n",
       "      <th></th>\n",
       "      <th></th>\n",
       "      <th></th>\n",
       "      <th></th>\n",
       "      <th></th>\n",
       "    </tr>\n",
       "  </thead>\n",
       "  <tbody>\n",
       "    <tr>\n",
       "      <th>6021501535</th>\n",
       "      <td>2014-12-23</td>\n",
       "      <td>700000.0</td>\n",
       "      <td>3</td>\n",
       "      <td>1.50</td>\n",
       "      <td>1580</td>\n",
       "      <td>5000</td>\n",
       "      <td>1.0</td>\n",
       "      <td>0.0</td>\n",
       "      <td>0.0</td>\n",
       "      <td>3</td>\n",
       "      <td>...</td>\n",
       "      <td>1939</td>\n",
       "      <td>0.0</td>\n",
       "      <td>98117</td>\n",
       "      <td>47.6870</td>\n",
       "      <td>-122.386</td>\n",
       "      <td>1570</td>\n",
       "      <td>4500</td>\n",
       "      <td>2014</td>\n",
       "      <td>12</td>\n",
       "      <td>Winter</td>\n",
       "    </tr>\n",
       "    <tr>\n",
       "      <th>4139480200</th>\n",
       "      <td>2014-12-09</td>\n",
       "      <td>1400000.0</td>\n",
       "      <td>4</td>\n",
       "      <td>3.25</td>\n",
       "      <td>4290</td>\n",
       "      <td>12103</td>\n",
       "      <td>1.0</td>\n",
       "      <td>0.0</td>\n",
       "      <td>3.0</td>\n",
       "      <td>3</td>\n",
       "      <td>...</td>\n",
       "      <td>1997</td>\n",
       "      <td>0.0</td>\n",
       "      <td>98006</td>\n",
       "      <td>47.5503</td>\n",
       "      <td>-122.102</td>\n",
       "      <td>3860</td>\n",
       "      <td>11244</td>\n",
       "      <td>2014</td>\n",
       "      <td>12</td>\n",
       "      <td>Winter</td>\n",
       "    </tr>\n",
       "    <tr>\n",
       "      <th>7520000520</th>\n",
       "      <td>2015-03-11</td>\n",
       "      <td>240500.0</td>\n",
       "      <td>2</td>\n",
       "      <td>1.00</td>\n",
       "      <td>1240</td>\n",
       "      <td>12092</td>\n",
       "      <td>1.0</td>\n",
       "      <td>0.0</td>\n",
       "      <td>0.0</td>\n",
       "      <td>3</td>\n",
       "      <td>...</td>\n",
       "      <td>1922</td>\n",
       "      <td>1984.0</td>\n",
       "      <td>98146</td>\n",
       "      <td>47.4957</td>\n",
       "      <td>-122.352</td>\n",
       "      <td>1820</td>\n",
       "      <td>7460</td>\n",
       "      <td>2015</td>\n",
       "      <td>3</td>\n",
       "      <td>Spring</td>\n",
       "    </tr>\n",
       "    <tr>\n",
       "      <th>3969300030</th>\n",
       "      <td>2014-12-29</td>\n",
       "      <td>239900.0</td>\n",
       "      <td>4</td>\n",
       "      <td>1.00</td>\n",
       "      <td>1000</td>\n",
       "      <td>7134</td>\n",
       "      <td>1.0</td>\n",
       "      <td>0.0</td>\n",
       "      <td>0.0</td>\n",
       "      <td>3</td>\n",
       "      <td>...</td>\n",
       "      <td>1943</td>\n",
       "      <td>NaN</td>\n",
       "      <td>98178</td>\n",
       "      <td>47.4897</td>\n",
       "      <td>-122.240</td>\n",
       "      <td>1020</td>\n",
       "      <td>7138</td>\n",
       "      <td>2014</td>\n",
       "      <td>12</td>\n",
       "      <td>Winter</td>\n",
       "    </tr>\n",
       "    <tr>\n",
       "      <th>2231500030</th>\n",
       "      <td>2015-03-24</td>\n",
       "      <td>530000.0</td>\n",
       "      <td>4</td>\n",
       "      <td>2.25</td>\n",
       "      <td>2180</td>\n",
       "      <td>10754</td>\n",
       "      <td>1.0</td>\n",
       "      <td>0.0</td>\n",
       "      <td>0.0</td>\n",
       "      <td>5</td>\n",
       "      <td>...</td>\n",
       "      <td>1954</td>\n",
       "      <td>0.0</td>\n",
       "      <td>98133</td>\n",
       "      <td>47.7711</td>\n",
       "      <td>-122.341</td>\n",
       "      <td>1810</td>\n",
       "      <td>6929</td>\n",
       "      <td>2015</td>\n",
       "      <td>3</td>\n",
       "      <td>Spring</td>\n",
       "    </tr>\n",
       "    <tr>\n",
       "      <th>...</th>\n",
       "      <td>...</td>\n",
       "      <td>...</td>\n",
       "      <td>...</td>\n",
       "      <td>...</td>\n",
       "      <td>...</td>\n",
       "      <td>...</td>\n",
       "      <td>...</td>\n",
       "      <td>...</td>\n",
       "      <td>...</td>\n",
       "      <td>...</td>\n",
       "      <td>...</td>\n",
       "      <td>...</td>\n",
       "      <td>...</td>\n",
       "      <td>...</td>\n",
       "      <td>...</td>\n",
       "      <td>...</td>\n",
       "      <td>...</td>\n",
       "      <td>...</td>\n",
       "      <td>...</td>\n",
       "      <td>...</td>\n",
       "      <td>...</td>\n",
       "    </tr>\n",
       "    <tr>\n",
       "      <th>7853400250</th>\n",
       "      <td>2015-02-19</td>\n",
       "      <td>645000.0</td>\n",
       "      <td>4</td>\n",
       "      <td>3.50</td>\n",
       "      <td>2910</td>\n",
       "      <td>5260</td>\n",
       "      <td>2.0</td>\n",
       "      <td>0.0</td>\n",
       "      <td>0.0</td>\n",
       "      <td>3</td>\n",
       "      <td>...</td>\n",
       "      <td>2012</td>\n",
       "      <td>0.0</td>\n",
       "      <td>98065</td>\n",
       "      <td>47.5168</td>\n",
       "      <td>-121.883</td>\n",
       "      <td>2910</td>\n",
       "      <td>5260</td>\n",
       "      <td>2015</td>\n",
       "      <td>2</td>\n",
       "      <td>Winter</td>\n",
       "    </tr>\n",
       "    <tr>\n",
       "      <th>2724049222</th>\n",
       "      <td>2014-12-01</td>\n",
       "      <td>220000.0</td>\n",
       "      <td>2</td>\n",
       "      <td>2.50</td>\n",
       "      <td>1000</td>\n",
       "      <td>1092</td>\n",
       "      <td>2.0</td>\n",
       "      <td>0.0</td>\n",
       "      <td>0.0</td>\n",
       "      <td>3</td>\n",
       "      <td>...</td>\n",
       "      <td>2004</td>\n",
       "      <td>0.0</td>\n",
       "      <td>98118</td>\n",
       "      <td>47.5419</td>\n",
       "      <td>-122.271</td>\n",
       "      <td>1330</td>\n",
       "      <td>1466</td>\n",
       "      <td>2014</td>\n",
       "      <td>12</td>\n",
       "      <td>Winter</td>\n",
       "    </tr>\n",
       "    <tr>\n",
       "      <th>8564860270</th>\n",
       "      <td>2015-03-30</td>\n",
       "      <td>502000.0</td>\n",
       "      <td>4</td>\n",
       "      <td>2.50</td>\n",
       "      <td>2680</td>\n",
       "      <td>5539</td>\n",
       "      <td>2.0</td>\n",
       "      <td>NaN</td>\n",
       "      <td>0.0</td>\n",
       "      <td>3</td>\n",
       "      <td>...</td>\n",
       "      <td>2013</td>\n",
       "      <td>0.0</td>\n",
       "      <td>98045</td>\n",
       "      <td>47.4759</td>\n",
       "      <td>-121.734</td>\n",
       "      <td>2680</td>\n",
       "      <td>5992</td>\n",
       "      <td>2015</td>\n",
       "      <td>3</td>\n",
       "      <td>Spring</td>\n",
       "    </tr>\n",
       "    <tr>\n",
       "      <th>6300000226</th>\n",
       "      <td>2015-05-04</td>\n",
       "      <td>380000.0</td>\n",
       "      <td>4</td>\n",
       "      <td>1.00</td>\n",
       "      <td>1200</td>\n",
       "      <td>2171</td>\n",
       "      <td>1.5</td>\n",
       "      <td>0.0</td>\n",
       "      <td>0.0</td>\n",
       "      <td>3</td>\n",
       "      <td>...</td>\n",
       "      <td>1933</td>\n",
       "      <td>0.0</td>\n",
       "      <td>98133</td>\n",
       "      <td>47.7076</td>\n",
       "      <td>-122.342</td>\n",
       "      <td>1130</td>\n",
       "      <td>1598</td>\n",
       "      <td>2015</td>\n",
       "      <td>5</td>\n",
       "      <td>Spring</td>\n",
       "    </tr>\n",
       "    <tr>\n",
       "      <th>7853420110</th>\n",
       "      <td>2015-05-04</td>\n",
       "      <td>625000.0</td>\n",
       "      <td>3</td>\n",
       "      <td>3.00</td>\n",
       "      <td>2780</td>\n",
       "      <td>6000</td>\n",
       "      <td>2.0</td>\n",
       "      <td>0.0</td>\n",
       "      <td>0.0</td>\n",
       "      <td>3</td>\n",
       "      <td>...</td>\n",
       "      <td>2013</td>\n",
       "      <td>NaN</td>\n",
       "      <td>98065</td>\n",
       "      <td>47.5184</td>\n",
       "      <td>-121.886</td>\n",
       "      <td>2850</td>\n",
       "      <td>6000</td>\n",
       "      <td>2015</td>\n",
       "      <td>5</td>\n",
       "      <td>Spring</td>\n",
       "    </tr>\n",
       "  </tbody>\n",
       "</table>\n",
       "<p>177 rows × 23 columns</p>\n",
       "</div>"
      ],
      "text/plain": [
       "                 date      price  bedrooms  bathrooms  sqft_living  sqft_lot  \\\n",
       "id                                                                             \n",
       "6021501535 2014-12-23   700000.0         3       1.50         1580      5000   \n",
       "4139480200 2014-12-09  1400000.0         4       3.25         4290     12103   \n",
       "7520000520 2015-03-11   240500.0         2       1.00         1240     12092   \n",
       "3969300030 2014-12-29   239900.0         4       1.00         1000      7134   \n",
       "2231500030 2015-03-24   530000.0         4       2.25         2180     10754   \n",
       "...               ...        ...       ...        ...          ...       ...   \n",
       "7853400250 2015-02-19   645000.0         4       3.50         2910      5260   \n",
       "2724049222 2014-12-01   220000.0         2       2.50         1000      1092   \n",
       "8564860270 2015-03-30   502000.0         4       2.50         2680      5539   \n",
       "6300000226 2015-05-04   380000.0         4       1.00         1200      2171   \n",
       "7853420110 2015-05-04   625000.0         3       3.00         2780      6000   \n",
       "\n",
       "            floors  waterfront  view  condition  ...  yr_built  yr_renovated  \\\n",
       "id                                               ...                           \n",
       "6021501535     1.0         0.0   0.0          3  ...      1939           0.0   \n",
       "4139480200     1.0         0.0   3.0          3  ...      1997           0.0   \n",
       "7520000520     1.0         0.0   0.0          3  ...      1922        1984.0   \n",
       "3969300030     1.0         0.0   0.0          3  ...      1943           NaN   \n",
       "2231500030     1.0         0.0   0.0          5  ...      1954           0.0   \n",
       "...            ...         ...   ...        ...  ...       ...           ...   \n",
       "7853400250     2.0         0.0   0.0          3  ...      2012           0.0   \n",
       "2724049222     2.0         0.0   0.0          3  ...      2004           0.0   \n",
       "8564860270     2.0         NaN   0.0          3  ...      2013           0.0   \n",
       "6300000226     1.5         0.0   0.0          3  ...      1933           0.0   \n",
       "7853420110     2.0         0.0   0.0          3  ...      2013           NaN   \n",
       "\n",
       "           zipcode      lat     long  sqft_living15  sqft_lot15  sale_yr  \\\n",
       "id                                                                         \n",
       "6021501535   98117  47.6870 -122.386           1570        4500     2014   \n",
       "4139480200   98006  47.5503 -122.102           3860       11244     2014   \n",
       "7520000520   98146  47.4957 -122.352           1820        7460     2015   \n",
       "3969300030   98178  47.4897 -122.240           1020        7138     2014   \n",
       "2231500030   98133  47.7711 -122.341           1810        6929     2015   \n",
       "...            ...      ...      ...            ...         ...      ...   \n",
       "7853400250   98065  47.5168 -121.883           2910        5260     2015   \n",
       "2724049222   98118  47.5419 -122.271           1330        1466     2014   \n",
       "8564860270   98045  47.4759 -121.734           2680        5992     2015   \n",
       "6300000226   98133  47.7076 -122.342           1130        1598     2015   \n",
       "7853420110   98065  47.5184 -121.886           2850        6000     2015   \n",
       "\n",
       "            sale_month  season  \n",
       "id                              \n",
       "6021501535          12  Winter  \n",
       "4139480200          12  Winter  \n",
       "7520000520           3  Spring  \n",
       "3969300030          12  Winter  \n",
       "2231500030           3  Spring  \n",
       "...                ...     ...  \n",
       "7853400250           2  Winter  \n",
       "2724049222          12  Winter  \n",
       "8564860270           3  Spring  \n",
       "6300000226           5  Spring  \n",
       "7853420110           5  Spring  \n",
       "\n",
       "[177 rows x 23 columns]"
      ]
     },
     "execution_count": 121,
     "metadata": {},
     "output_type": "execute_result"
    }
   ],
   "source": [
    "df[df.index.duplicated()]"
   ]
  },
  {
   "cell_type": "code",
   "execution_count": 122,
   "metadata": {},
   "outputs": [
    {
     "data": {
      "text/plain": [
       "0"
      ]
     },
     "execution_count": 122,
     "metadata": {},
     "output_type": "execute_result"
    }
   ],
   "source": [
    "df.duplicated().sum()"
   ]
  },
  {
   "cell_type": "markdown",
   "metadata": {},
   "source": [
    "So there are duplicates by index but no entries are entire duplicates.  Let's look at specific example."
   ]
  },
  {
   "cell_type": "code",
   "execution_count": 123,
   "metadata": {},
   "outputs": [
    {
     "data": {
      "text/html": [
       "<div>\n",
       "<style scoped>\n",
       "    .dataframe tbody tr th:only-of-type {\n",
       "        vertical-align: middle;\n",
       "    }\n",
       "\n",
       "    .dataframe tbody tr th {\n",
       "        vertical-align: top;\n",
       "    }\n",
       "\n",
       "    .dataframe thead th {\n",
       "        text-align: right;\n",
       "    }\n",
       "</style>\n",
       "<table border=\"1\" class=\"dataframe\">\n",
       "  <thead>\n",
       "    <tr style=\"text-align: right;\">\n",
       "      <th></th>\n",
       "      <th>date</th>\n",
       "      <th>price</th>\n",
       "      <th>bedrooms</th>\n",
       "      <th>bathrooms</th>\n",
       "      <th>sqft_living</th>\n",
       "      <th>sqft_lot</th>\n",
       "      <th>floors</th>\n",
       "      <th>waterfront</th>\n",
       "      <th>view</th>\n",
       "      <th>condition</th>\n",
       "      <th>...</th>\n",
       "      <th>yr_built</th>\n",
       "      <th>yr_renovated</th>\n",
       "      <th>zipcode</th>\n",
       "      <th>lat</th>\n",
       "      <th>long</th>\n",
       "      <th>sqft_living15</th>\n",
       "      <th>sqft_lot15</th>\n",
       "      <th>sale_yr</th>\n",
       "      <th>sale_month</th>\n",
       "      <th>season</th>\n",
       "    </tr>\n",
       "    <tr>\n",
       "      <th>id</th>\n",
       "      <th></th>\n",
       "      <th></th>\n",
       "      <th></th>\n",
       "      <th></th>\n",
       "      <th></th>\n",
       "      <th></th>\n",
       "      <th></th>\n",
       "      <th></th>\n",
       "      <th></th>\n",
       "      <th></th>\n",
       "      <th></th>\n",
       "      <th></th>\n",
       "      <th></th>\n",
       "      <th></th>\n",
       "      <th></th>\n",
       "      <th></th>\n",
       "      <th></th>\n",
       "      <th></th>\n",
       "      <th></th>\n",
       "      <th></th>\n",
       "      <th></th>\n",
       "    </tr>\n",
       "  </thead>\n",
       "  <tbody>\n",
       "    <tr>\n",
       "      <th>7853420110</th>\n",
       "      <td>2014-10-03</td>\n",
       "      <td>594866.0</td>\n",
       "      <td>3</td>\n",
       "      <td>3.0</td>\n",
       "      <td>2780</td>\n",
       "      <td>6000</td>\n",
       "      <td>2.0</td>\n",
       "      <td>0.0</td>\n",
       "      <td>0.0</td>\n",
       "      <td>3</td>\n",
       "      <td>...</td>\n",
       "      <td>2013</td>\n",
       "      <td>0.0</td>\n",
       "      <td>98065</td>\n",
       "      <td>47.5184</td>\n",
       "      <td>-121.886</td>\n",
       "      <td>2850</td>\n",
       "      <td>6000</td>\n",
       "      <td>2014</td>\n",
       "      <td>10</td>\n",
       "      <td>Fall</td>\n",
       "    </tr>\n",
       "    <tr>\n",
       "      <th>7853420110</th>\n",
       "      <td>2015-05-04</td>\n",
       "      <td>625000.0</td>\n",
       "      <td>3</td>\n",
       "      <td>3.0</td>\n",
       "      <td>2780</td>\n",
       "      <td>6000</td>\n",
       "      <td>2.0</td>\n",
       "      <td>0.0</td>\n",
       "      <td>0.0</td>\n",
       "      <td>3</td>\n",
       "      <td>...</td>\n",
       "      <td>2013</td>\n",
       "      <td>NaN</td>\n",
       "      <td>98065</td>\n",
       "      <td>47.5184</td>\n",
       "      <td>-121.886</td>\n",
       "      <td>2850</td>\n",
       "      <td>6000</td>\n",
       "      <td>2015</td>\n",
       "      <td>5</td>\n",
       "      <td>Spring</td>\n",
       "    </tr>\n",
       "  </tbody>\n",
       "</table>\n",
       "<p>2 rows × 23 columns</p>\n",
       "</div>"
      ],
      "text/plain": [
       "                 date     price  bedrooms  bathrooms  sqft_living  sqft_lot  \\\n",
       "id                                                                            \n",
       "7853420110 2014-10-03  594866.0         3        3.0         2780      6000   \n",
       "7853420110 2015-05-04  625000.0         3        3.0         2780      6000   \n",
       "\n",
       "            floors  waterfront  view  condition  ...  yr_built  yr_renovated  \\\n",
       "id                                               ...                           \n",
       "7853420110     2.0         0.0   0.0          3  ...      2013           0.0   \n",
       "7853420110     2.0         0.0   0.0          3  ...      2013           NaN   \n",
       "\n",
       "           zipcode      lat     long  sqft_living15  sqft_lot15  sale_yr  \\\n",
       "id                                                                         \n",
       "7853420110   98065  47.5184 -121.886           2850        6000     2014   \n",
       "7853420110   98065  47.5184 -121.886           2850        6000     2015   \n",
       "\n",
       "            sale_month  season  \n",
       "id                              \n",
       "7853420110          10    Fall  \n",
       "7853420110           5  Spring  \n",
       "\n",
       "[2 rows x 23 columns]"
      ]
     },
     "execution_count": 123,
     "metadata": {},
     "output_type": "execute_result"
    }
   ],
   "source": [
    "df.loc[7853420110]"
   ]
  },
  {
   "cell_type": "markdown",
   "metadata": {},
   "source": [
    "It would appear that our dataset includes multiple sales of the same house!  (Might be worth looking at....)"
   ]
  },
  {
   "cell_type": "code",
   "execution_count": 124,
   "metadata": {},
   "outputs": [
    {
     "data": {
      "text/plain": [
       "42"
      ]
     },
     "execution_count": 124,
     "metadata": {},
     "output_type": "execute_result"
    }
   ],
   "source": [
    "#Try To Distinguish by adding year of sale to the id...\n",
    "df2=df.reset_index()\n",
    "df2.apply(lambda r:str(r.id)+str(r.sale_yr),axis=1).duplicated().sum()"
   ]
  },
  {
   "cell_type": "markdown",
   "metadata": {},
   "source": [
    "Need to be more specific..."
   ]
  },
  {
   "cell_type": "code",
   "execution_count": 125,
   "metadata": {},
   "outputs": [
    {
     "data": {
      "text/plain": [
       "0"
      ]
     },
     "execution_count": 125,
     "metadata": {},
     "output_type": "execute_result"
    }
   ],
   "source": [
    "df2=df.reset_index()\n",
    "df2.apply(lambda r:str(r.id)+str(r.sale_yr)+str(r.sale_month),axis=1).duplicated().sum()"
   ]
  },
  {
   "cell_type": "markdown",
   "metadata": {},
   "source": [
    "So we will adjust our dataframe's index to include_year & month."
   ]
  },
  {
   "cell_type": "code",
   "execution_count": 126,
   "metadata": {},
   "outputs": [],
   "source": [
    "df2=df.reset_index()\n",
    "df2['id']=df2.apply(lambda r:str(r.id)+str(r.sale_yr)[-2:]+str(r.sale_month),axis=1)\n",
    "df=df2.set_index(['id'])"
   ]
  },
  {
   "cell_type": "markdown",
   "metadata": {},
   "source": [
    "We need to check if there are any NA values."
   ]
  },
  {
   "cell_type": "code",
   "execution_count": 127,
   "metadata": {},
   "outputs": [
    {
     "data": {
      "text/plain": [
       "date                0\n",
       "price               0\n",
       "bedrooms            0\n",
       "bathrooms           0\n",
       "sqft_living         0\n",
       "sqft_lot            0\n",
       "floors              0\n",
       "waterfront       2376\n",
       "view               63\n",
       "condition           0\n",
       "grade               0\n",
       "sqft_above          0\n",
       "sqft_basement       0\n",
       "yr_built            0\n",
       "yr_renovated     3842\n",
       "zipcode             0\n",
       "lat                 0\n",
       "long                0\n",
       "sqft_living15       0\n",
       "sqft_lot15          0\n",
       "sale_yr             0\n",
       "sale_month          0\n",
       "season              0\n",
       "dtype: int64"
      ]
     },
     "execution_count": 127,
     "metadata": {},
     "output_type": "execute_result"
    }
   ],
   "source": [
    "df.isna().sum()"
   ]
  },
  {
   "cell_type": "markdown",
   "metadata": {},
   "source": [
    "We notice that there are three columns which have missing values.  For waterfront and year renovated, we will assume that missing values represent negative answers (i.e., no waterfront view and no renovations) so we replace this missing values w/ '0'.  However, no such intuition exists for view count and since only 63 (of 21.5k) observations do not have a value for missing, we will simply drop these values."
   ]
  },
  {
   "cell_type": "code",
   "execution_count": 128,
   "metadata": {},
   "outputs": [],
   "source": [
    "df.waterfront=df.waterfront.fillna(0)\n",
    "df.yr_renovated=df.yr_renovated.fillna(0)\n",
    "df=df.dropna(subset=['view'])"
   ]
  },
  {
   "cell_type": "code",
   "execution_count": 129,
   "metadata": {},
   "outputs": [
    {
     "data": {
      "text/plain": [
       "(21534, 23)"
      ]
     },
     "execution_count": 129,
     "metadata": {},
     "output_type": "execute_result"
    }
   ],
   "source": [
    "df.shape"
   ]
  },
  {
   "cell_type": "code",
   "execution_count": 130,
   "metadata": {},
   "outputs": [
    {
     "data": {
      "text/plain": [
       "date             0\n",
       "price            0\n",
       "bedrooms         0\n",
       "bathrooms        0\n",
       "sqft_living      0\n",
       "sqft_lot         0\n",
       "floors           0\n",
       "waterfront       0\n",
       "view             0\n",
       "condition        0\n",
       "grade            0\n",
       "sqft_above       0\n",
       "sqft_basement    0\n",
       "yr_built         0\n",
       "yr_renovated     0\n",
       "zipcode          0\n",
       "lat              0\n",
       "long             0\n",
       "sqft_living15    0\n",
       "sqft_lot15       0\n",
       "sale_yr          0\n",
       "sale_month       0\n",
       "season           0\n",
       "dtype: int64"
      ]
     },
     "execution_count": 130,
     "metadata": {},
     "output_type": "execute_result"
    }
   ],
   "source": [
    "df.isna().sum()"
   ]
  },
  {
   "cell_type": "markdown",
   "metadata": {},
   "source": [
    "For later programming conveniuence, and as a part of the initial data exploration, we wish to organize the dataset by our target variable and different types of factors (numerical, categorical, and other).  We further divided the numerical factors into two types: dense & sparse.  The latter include factors which have limited # of different values.  Such variables, like # of bedrooms, will be modeled as continous variables but purposes of data exploration, etc. should be treated as categorical.  We also need to divide the categorical variables into binary and ordinal.  This distinction will be important in the regression stage as categorical variables will eventually be split into dummies.\n",
    "\n",
    "For the most parts, the factors proper designation was self-evident.  However, the variables yr_built and yr_renovated are both a bit murkier.  Let's dive a bit deeper into these two variables."
   ]
  },
  {
   "cell_type": "code",
   "execution_count": 131,
   "metadata": {},
   "outputs": [
    {
     "data": {
      "text/plain": [
       "1900     87\n",
       "1901     29\n",
       "1902     27\n",
       "1903     46\n",
       "1904     45\n",
       "       ... \n",
       "2011    130\n",
       "2012    170\n",
       "2013    200\n",
       "2014    558\n",
       "2015     38\n",
       "Name: yr_built, Length: 116, dtype: int64"
      ]
     },
     "execution_count": 131,
     "metadata": {},
     "output_type": "execute_result"
    }
   ],
   "source": [
    "#What years were these houses built and how many houses were built in each year?\n",
    "yrs=df.yr_built.value_counts().sort_index()\n",
    "yrs"
   ]
  },
  {
   "cell_type": "code",
   "execution_count": 132,
   "metadata": {},
   "outputs": [
    {
     "data": {
      "text/plain": [
       "1934    21\n",
       "1935    24\n",
       "1902    27\n",
       "1901    29\n",
       "1933    30\n",
       "1932    38\n",
       "2015    38\n",
       "1936    40\n",
       "1904    45\n",
       "1903    46\n",
       "Name: yr_built, dtype: int64"
      ]
     },
     "execution_count": 132,
     "metadata": {},
     "output_type": "execute_result"
    }
   ],
   "source": [
    "yrs.nsmallest(10)"
   ]
  },
  {
   "cell_type": "code",
   "execution_count": 133,
   "metadata": {},
   "outputs": [
    {
     "data": {
      "text/plain": [
       "<AxesSubplot:>"
      ]
     },
     "execution_count": 133,
     "metadata": {},
     "output_type": "execute_result"
    },
    {
     "data": {
      "image/png": "[encoded data removed]",
      "text/plain": [
       "<Figure size 432x288 with 1 Axes>"
      ]
     },
     "metadata": {
      "needs_background": "light"
     },
     "output_type": "display_data"
    }
   ],
   "source": [
    "fig,ax=plt.subplots()\n",
    "yrs.plot(ax=ax)"
   ]
  },
  {
   "cell_type": "markdown",
   "metadata": {},
   "source": [
    "The dataset appears to be fairly robust wrt yr_built so it probably makes sense to treat it as a continous factor.  At this point, it is also worth noting that we should adjust this data to be relative to the year of sale.   We are interested in how old the house was at time of sale not the year it was built.\n",
    "\n",
    "It may later be of interest to create a categorical variable that captures what year (or years) a house was built"
   ]
  },
  {
   "cell_type": "code",
   "execution_count": 134,
   "metadata": {},
   "outputs": [
    {
     "data": {
      "text/plain": [
       " 9      470\n",
       " 8      443\n",
       " 0      429\n",
       " 11     428\n",
       " 10     428\n",
       "       ... \n",
       " 113     28\n",
       " 115     26\n",
       " 81      23\n",
       " 80      21\n",
       "-1       12\n",
       "Name: age, Length: 117, dtype: int64"
      ]
     },
     "execution_count": 134,
     "metadata": {},
     "output_type": "execute_result"
    }
   ],
   "source": [
    "df['age']=df.sale_yr-df.yr_built\n",
    "df.age.value_counts()"
   ]
  },
  {
   "cell_type": "markdown",
   "metadata": {},
   "source": [
    "Odd that we have 12 observations that, it would appear, were sold before they were built.  Let's look at these observations:"
   ]
  },
  {
   "cell_type": "code",
   "execution_count": 135,
   "metadata": {},
   "outputs": [
    {
     "data": {
      "text/html": [
       "<div>\n",
       "<style scoped>\n",
       "    .dataframe tbody tr th:only-of-type {\n",
       "        vertical-align: middle;\n",
       "    }\n",
       "\n",
       "    .dataframe tbody tr th {\n",
       "        vertical-align: top;\n",
       "    }\n",
       "\n",
       "    .dataframe thead th {\n",
       "        text-align: right;\n",
       "    }\n",
       "</style>\n",
       "<table border=\"1\" class=\"dataframe\">\n",
       "  <thead>\n",
       "    <tr style=\"text-align: right;\">\n",
       "      <th></th>\n",
       "      <th>date</th>\n",
       "      <th>sale_yr</th>\n",
       "      <th>yr_built</th>\n",
       "    </tr>\n",
       "    <tr>\n",
       "      <th>id</th>\n",
       "      <th></th>\n",
       "      <th></th>\n",
       "      <th></th>\n",
       "    </tr>\n",
       "  </thead>\n",
       "  <tbody>\n",
       "    <tr>\n",
       "      <th>1832100030146</th>\n",
       "      <td>2014-06-25</td>\n",
       "      <td>2014</td>\n",
       "      <td>2015</td>\n",
       "    </tr>\n",
       "    <tr>\n",
       "      <th>30765008301410</th>\n",
       "      <td>2014-10-29</td>\n",
       "      <td>2014</td>\n",
       "      <td>2015</td>\n",
       "    </tr>\n",
       "    <tr>\n",
       "      <th>95209002101412</th>\n",
       "      <td>2014-12-31</td>\n",
       "      <td>2014</td>\n",
       "      <td>2015</td>\n",
       "    </tr>\n",
       "    <tr>\n",
       "      <th>1250200495146</th>\n",
       "      <td>2014-06-24</td>\n",
       "      <td>2014</td>\n",
       "      <td>2015</td>\n",
       "    </tr>\n",
       "    <tr>\n",
       "      <th>2770601530148</th>\n",
       "      <td>2014-08-26</td>\n",
       "      <td>2014</td>\n",
       "      <td>2015</td>\n",
       "    </tr>\n",
       "    <tr>\n",
       "      <th>9126100346146</th>\n",
       "      <td>2014-06-17</td>\n",
       "      <td>2014</td>\n",
       "      <td>2015</td>\n",
       "    </tr>\n",
       "    <tr>\n",
       "      <th>9126100765148</th>\n",
       "      <td>2014-08-01</td>\n",
       "      <td>2014</td>\n",
       "      <td>2015</td>\n",
       "    </tr>\n",
       "    <tr>\n",
       "      <th>9310300160148</th>\n",
       "      <td>2014-08-28</td>\n",
       "      <td>2014</td>\n",
       "      <td>2015</td>\n",
       "    </tr>\n",
       "    <tr>\n",
       "      <th>1257201420147</th>\n",
       "      <td>2014-07-09</td>\n",
       "      <td>2014</td>\n",
       "      <td>2015</td>\n",
       "    </tr>\n",
       "    <tr>\n",
       "      <th>6058600220147</th>\n",
       "      <td>2014-07-31</td>\n",
       "      <td>2014</td>\n",
       "      <td>2015</td>\n",
       "    </tr>\n",
       "    <tr>\n",
       "      <th>56945008401411</th>\n",
       "      <td>2014-11-25</td>\n",
       "      <td>2014</td>\n",
       "      <td>2015</td>\n",
       "    </tr>\n",
       "    <tr>\n",
       "      <th>6169901185145</th>\n",
       "      <td>2014-05-20</td>\n",
       "      <td>2014</td>\n",
       "      <td>2015</td>\n",
       "    </tr>\n",
       "  </tbody>\n",
       "</table>\n",
       "</div>"
      ],
      "text/plain": [
       "                     date  sale_yr  yr_built\n",
       "id                                          \n",
       "1832100030146  2014-06-25     2014      2015\n",
       "30765008301410 2014-10-29     2014      2015\n",
       "95209002101412 2014-12-31     2014      2015\n",
       "1250200495146  2014-06-24     2014      2015\n",
       "2770601530148  2014-08-26     2014      2015\n",
       "9126100346146  2014-06-17     2014      2015\n",
       "9126100765148  2014-08-01     2014      2015\n",
       "9310300160148  2014-08-28     2014      2015\n",
       "1257201420147  2014-07-09     2014      2015\n",
       "6058600220147  2014-07-31     2014      2015\n",
       "56945008401411 2014-11-25     2014      2015\n",
       "6169901185145  2014-05-20     2014      2015"
      ]
     },
     "execution_count": 135,
     "metadata": {},
     "output_type": "execute_result"
    }
   ],
   "source": [
    "df.loc[df.age==-1][['date','sale_yr','yr_built']]"
   ]
  },
  {
   "cell_type": "markdown",
   "metadata": {},
   "source": [
    "It would in fact appear that these observations have a year of sale that occurs prior to the year built.  Is this an error or is there a qualitative explanation (e.g. our dataset could include purchases of empty lots and/or incomplete homes.)  How should we handle these observations?"
   ]
  },
  {
   "cell_type": "code",
   "execution_count": 136,
   "metadata": {},
   "outputs": [
    {
     "data": {
      "text/plain": [
       "0      441\n",
       "1      284\n",
       "2      174\n",
       "3      165\n",
       "4      117\n",
       "      ... \n",
       "111     50\n",
       "112     33\n",
       "113     28\n",
       "114     69\n",
       "115     26\n",
       "Name: age, Length: 116, dtype: int64"
      ]
     },
     "execution_count": 136,
     "metadata": {},
     "output_type": "execute_result"
    }
   ],
   "source": [
    "#For now, just set them equal to zero\n",
    "df.age=df.age.replace(-1,0)\n",
    "df.age.value_counts().sort_index()"
   ]
  },
  {
   "cell_type": "code",
   "execution_count": 137,
   "metadata": {},
   "outputs": [
    {
     "data": {
      "text/plain": [
       "0.0       20791\n",
       "1934.0        1\n",
       "1940.0        2\n",
       "1944.0        1\n",
       "1945.0        3\n",
       "          ...  \n",
       "2011.0        9\n",
       "2012.0        8\n",
       "2013.0       31\n",
       "2014.0       73\n",
       "2015.0       14\n",
       "Name: yr_renovated, Length: 70, dtype: int64"
      ]
     },
     "execution_count": 137,
     "metadata": {},
     "output_type": "execute_result"
    }
   ],
   "source": [
    "#What years were these houses renovated and how many houses were built in each year?\n",
    "yrs=df.yr_renovated.value_counts().sort_index()\n",
    "yrs"
   ]
  },
  {
   "cell_type": "code",
   "execution_count": 138,
   "metadata": {},
   "outputs": [
    {
     "data": {
      "text/plain": [
       "1934.0    1\n",
       "1944.0    1\n",
       "1946.0    1\n",
       "1948.0    1\n",
       "1950.0    1\n",
       "1951.0    1\n",
       "1953.0    1\n",
       "1954.0    1\n",
       "1959.0    1\n",
       "1971.0    1\n",
       "Name: yr_renovated, dtype: int64"
      ]
     },
     "execution_count": 138,
     "metadata": {},
     "output_type": "execute_result"
    }
   ],
   "source": [
    "yrs.nsmallest(10)"
   ]
  },
  {
   "cell_type": "code",
   "execution_count": 139,
   "metadata": {},
   "outputs": [
    {
     "data": {
      "text/plain": [
       "<AxesSubplot:>"
      ]
     },
     "execution_count": 139,
     "metadata": {},
     "output_type": "execute_result"
    },
    {
     "data": {
      "image/png": "[encoded data removed]",
      "text/plain": [
       "<Figure size 432x288 with 1 Axes>"
      ]
     },
     "metadata": {
      "needs_background": "light"
     },
     "output_type": "display_data"
    }
   ],
   "source": [
    "#For purposes of graphing this data, we need to drop the observations that were never renovated.\n",
    "fig,ax=plt.subplots()\n",
    "yrs.drop([0]).plot(ax=ax)"
   ]
  },
  {
   "cell_type": "markdown",
   "metadata": {},
   "source": [
    "This variable is not as clear-cut.  For the years between 1930 and 2015, we have at least one observation that was renovated in that year.  But the data is heavily, heaviliy weighted in more recent years.  We also have to account for houses which were sold before ever being renovated.  Therefore, it may make more sense to actually categorize this data, after again adjusting for when the sale occured."
   ]
  },
  {
   "cell_type": "code",
   "execution_count": 140,
   "metadata": {},
   "outputs": [],
   "source": [
    "df['last_renovation']=df.apply(lambda r:r.sale_yr-r.yr_renovated if r.yr_renovated>0 else -1,axis=1)"
   ]
  },
  {
   "cell_type": "code",
   "execution_count": 141,
   "metadata": {},
   "outputs": [],
   "source": [
    "#Building a function to categorize as follows:\n",
    "####No Renovation\n",
    "####Renovation 25+years prior sale (prior to 1989 for 2014 sales and 1990 for 2015 sales)\n",
    "####Renovation 10-24 years prior to sale (1990-2004 for 2014 sales & 1991-2005 for 2015 sales)\n",
    "####Renovation 5-9 years prior to sale (2005-2009 for 2014 sales & 2006-2010 for 2015 sales)\n",
    "####Renovation 2-4 years prior to sale (2010-2012 for 2014 sales & 2011-2013 for 2015 sales)\n",
    "####Renovation within a year of the sale (2013 & 2014 for 2014 sales & 2014 & 2015 for 2015 sales)\n",
    "def renovation_status(obs):\n",
    "    s=''\n",
    "    x=obs.last_renovation\n",
    "    if(x==-1):\n",
    "        s='Never'\n",
    "    elif(x>24):\n",
    "        s='25+'\n",
    "    elif(x>9):\n",
    "        s='10-24'\n",
    "    elif(x>4):\n",
    "        s='5-9'\n",
    "    elif(x>1):\n",
    "        s='2-4'\n",
    "    elif(x==1 or x==0):\n",
    "        s='Recent'\n",
    "    return s\n",
    "\n",
    "df['renovation_status']=df.apply(renovation_status,axis=1)"
   ]
  },
  {
   "cell_type": "code",
   "execution_count": 142,
   "metadata": {},
   "outputs": [
    {
     "data": {
      "text/plain": [
       "Never     20797\n",
       "10-24       260\n",
       "25+         229\n",
       "5-9         108\n",
       "Recent      105\n",
       "2-4          35\n",
       "Name: renovation_status, dtype: int64"
      ]
     },
     "execution_count": 142,
     "metadata": {},
     "output_type": "execute_result"
    }
   ],
   "source": [
    "df.renovation_status.value_counts()"
   ]
  },
  {
   "cell_type": "markdown",
   "metadata": {},
   "source": [
    "...Odd:  only 105 \"Recent\"s and more (6) \"Never\"s than expected.  Is there something wrong with the data?  Let's explore:"
   ]
  },
  {
   "cell_type": "code",
   "execution_count": 143,
   "metadata": {},
   "outputs": [
    {
     "data": {
      "text/plain": [
       "-1.0     20797\n",
       " 0.0        68\n",
       " 1.0        37\n",
       " 2.0        13\n",
       " 3.0         9\n",
       "         ...  \n",
       " 66.0        1\n",
       " 69.0        3\n",
       " 70.0        2\n",
       " 74.0        2\n",
       " 80.0        1\n",
       "Name: last_renovation, Length: 70, dtype: int64"
      ]
     },
     "execution_count": 143,
     "metadata": {},
     "output_type": "execute_result"
    }
   ],
   "source": [
    "#Is there an issue with the calculation between year of sale and year of renovation?\n",
    "df.last_renovation.value_counts().sort_index()"
   ]
  },
  {
   "cell_type": "code",
   "execution_count": 144,
   "metadata": {},
   "outputs": [
    {
     "data": {
      "text/html": [
       "<div>\n",
       "<style scoped>\n",
       "    .dataframe tbody tr th:only-of-type {\n",
       "        vertical-align: middle;\n",
       "    }\n",
       "\n",
       "    .dataframe tbody tr th {\n",
       "        vertical-align: top;\n",
       "    }\n",
       "\n",
       "    .dataframe thead th {\n",
       "        text-align: right;\n",
       "    }\n",
       "</style>\n",
       "<table border=\"1\" class=\"dataframe\">\n",
       "  <thead>\n",
       "    <tr style=\"text-align: right;\">\n",
       "      <th></th>\n",
       "      <th>date</th>\n",
       "      <th>yr_renovated</th>\n",
       "      <th>sale_yr</th>\n",
       "    </tr>\n",
       "    <tr>\n",
       "      <th>id</th>\n",
       "      <th></th>\n",
       "      <th></th>\n",
       "      <th></th>\n",
       "    </tr>\n",
       "  </thead>\n",
       "  <tbody>\n",
       "    <tr>\n",
       "      <th>8712100320147</th>\n",
       "      <td>2014-07-28</td>\n",
       "      <td>2015.0</td>\n",
       "      <td>2014</td>\n",
       "    </tr>\n",
       "    <tr>\n",
       "      <th>91411000051410</th>\n",
       "      <td>2014-10-28</td>\n",
       "      <td>2015.0</td>\n",
       "      <td>2014</td>\n",
       "    </tr>\n",
       "    <tr>\n",
       "      <th>7284900030145</th>\n",
       "      <td>2014-05-22</td>\n",
       "      <td>2015.0</td>\n",
       "      <td>2014</td>\n",
       "    </tr>\n",
       "    <tr>\n",
       "      <th>3585900665146</th>\n",
       "      <td>2014-06-06</td>\n",
       "      <td>2015.0</td>\n",
       "      <td>2014</td>\n",
       "    </tr>\n",
       "    <tr>\n",
       "      <th>35859001901410</th>\n",
       "      <td>2014-10-06</td>\n",
       "      <td>2015.0</td>\n",
       "      <td>2014</td>\n",
       "    </tr>\n",
       "    <tr>\n",
       "      <th>8935100100147</th>\n",
       "      <td>2014-07-01</td>\n",
       "      <td>2015.0</td>\n",
       "      <td>2014</td>\n",
       "    </tr>\n",
       "  </tbody>\n",
       "</table>\n",
       "</div>"
      ],
      "text/plain": [
       "                     date  yr_renovated  sale_yr\n",
       "id                                              \n",
       "8712100320147  2014-07-28        2015.0     2014\n",
       "91411000051410 2014-10-28        2015.0     2014\n",
       "7284900030145  2014-05-22        2015.0     2014\n",
       "3585900665146  2014-06-06        2015.0     2014\n",
       "35859001901410 2014-10-06        2015.0     2014\n",
       "8935100100147  2014-07-01        2015.0     2014"
      ]
     },
     "execution_count": 144,
     "metadata": {},
     "output_type": "execute_result"
    }
   ],
   "source": [
    "#From the values with -1, it would appear so.  Let's see what those data entries look like:\n",
    "df.loc[(df.last_renovation==-1)&(df.yr_renovated!=0)][['date','yr_renovated','sale_yr']]"
   ]
  },
  {
   "cell_type": "markdown",
   "metadata": {},
   "source": [
    "Renovations that occured AFTER the sale....Similar issue to what we saw with year built.  Is there a qualitative explanation?  What should be done with the observations? Either way, we will need to adjust how df.last_rennovation flags observations w/ no renovations.  It is also probably worthwhile to make it a constant variable and have our function use it as well:"
   ]
  },
  {
   "cell_type": "code",
   "execution_count": 145,
   "metadata": {},
   "outputs": [
    {
     "data": {
      "text/plain": [
       "Never     20791\n",
       "10-24       260\n",
       "25+         229\n",
       "Recent      111\n",
       "5-9         108\n",
       "2-4          35\n",
       "Name: renovation_status, dtype: int64"
      ]
     },
     "execution_count": 145,
     "metadata": {},
     "output_type": "execute_result"
    }
   ],
   "source": [
    "NO_RENO=-100\n",
    "df['last_renovation']=df.apply(lambda r:r.sale_yr-r.yr_renovated if r.yr_renovated>0 else NO_RENO,axis=1)\n",
    "def renovation_status(obs):\n",
    "    s=''\n",
    "    x=obs.last_renovation\n",
    "    if(x==NO_RENO):\n",
    "        s='Never'\n",
    "    elif(x>24):\n",
    "        s='25+'\n",
    "    elif(x>9):\n",
    "        s='10-24'\n",
    "    elif(x>4):\n",
    "        s='5-9'\n",
    "    elif(x>1):\n",
    "        s='2-4'\n",
    "    elif(x==1 or x==0 or x==-1):\n",
    "        s='Recent'\n",
    "    return s\n",
    "\n",
    "df['renovation_status']=df.apply(renovation_status,axis=1)\n",
    "df.renovation_status.value_counts()"
   ]
  },
  {
   "cell_type": "markdown",
   "metadata": {},
   "source": [
    "Next, we want to figure out the square footage factors which will likely overlap with eachother (multicollinearity...).\n",
    "First, let's deal with sqft living and sqft lot--the latter obviously includes the former so it is duplicative information.  However, we can calculate the square footage of the outside area (\"the yard\"):"
   ]
  },
  {
   "cell_type": "code",
   "execution_count": 146,
   "metadata": {},
   "outputs": [],
   "source": [
    "df['sqft_outside']=df['sqft_lot']-df['sqft_living']\n",
    "df['sqft_outside15']=df['sqft_lot15']-df['sqft_living15']"
   ]
  },
  {
   "cell_type": "markdown",
   "metadata": {},
   "source": [
    "Next, the square footage of above and basement are obviously included in the square footage of living (sqft_living = sqft_above + sqft_basement). To isolate these variables, let's look at a ration--percentage above."
   ]
  },
  {
   "cell_type": "code",
   "execution_count": 147,
   "metadata": {},
   "outputs": [],
   "source": [
    "df['percent_above']=df.sqft_above/df.sqft_living"
   ]
  },
  {
   "cell_type": "markdown",
   "metadata": {},
   "source": [
    "What do the grade and condition factors look like?  Should they be treated as a sparse continuous factor, an ordinal factor or a categorical factor?"
   ]
  },
  {
   "cell_type": "code",
   "execution_count": 148,
   "metadata": {},
   "outputs": [
    {
     "data": {
      "text/plain": [
       "7     8948\n",
       "8     6053\n",
       "9     2604\n",
       "6     2031\n",
       "10    1130\n",
       "11     397\n",
       "5      242\n",
       "12      88\n",
       "4       27\n",
       "13      13\n",
       "3        1\n",
       "Name: grade, dtype: int64"
      ]
     },
     "execution_count": 148,
     "metadata": {},
     "output_type": "execute_result"
    }
   ],
   "source": [
    "df.grade.value_counts()"
   ]
  },
  {
   "cell_type": "code",
   "execution_count": 149,
   "metadata": {},
   "outputs": [
    {
     "data": {
      "text/plain": [
       "3    13981\n",
       "4     5657\n",
       "5     1697\n",
       "2      170\n",
       "1       29\n",
       "Name: condition, dtype: int64"
      ]
     },
     "execution_count": 149,
     "metadata": {},
     "output_type": "execute_result"
    }
   ],
   "source": [
    "df.condition.value_counts()"
   ]
  },
  {
   "cell_type": "markdown",
   "metadata": {},
   "source": [
    "It appears that for both, we can treat the data as ordinal (there is a clear ordering between each category)."
   ]
  },
  {
   "cell_type": "markdown",
   "metadata": {},
   "source": [
    "We can finally organize this data as desired."
   ]
  },
  {
   "cell_type": "code",
   "execution_count": 150,
   "metadata": {},
   "outputs": [],
   "source": [
    "#splitting up the dataframe between target and factors, further organized by type.\n",
    "target=['price']\n",
    "dense_factors=['sqft_living','sqft_outside','percent_above','sqft_living15','sqft_outside15','age']\n",
    "sparse_factors=['bedrooms','bathrooms','floors','view','grade','condition']\n",
    "ordinal_factors=['renovation_status']\n",
    "category_factors=['season','waterfront']\n",
    "other=['zipcode','lat','long','month','day','sale_yr']"
   ]
  },
  {
   "cell_type": "code",
   "execution_count": 151,
   "metadata": {},
   "outputs": [],
   "source": [
    "#Lets set the category_factors to datatype category....\n",
    "df.sale_yr=df.sale_yr.astype('category')\n",
    "df.waterfront=df.waterfront.astype('category')\n",
    "df.condition=df.condition.astype('category')\n",
    "df.season=df.season.astype('category')"
   ]
  },
  {
   "cell_type": "code",
   "execution_count": 152,
   "metadata": {},
   "outputs": [
    {
     "data": {
      "text/plain": [
       "Index(['date', 'price', 'bedrooms', 'bathrooms', 'sqft_living', 'sqft_lot',\n",
       "       'floors', 'waterfront', 'view', 'condition', 'grade', 'sqft_above',\n",
       "       'sqft_basement', 'yr_built', 'yr_renovated', 'zipcode', 'lat', 'long',\n",
       "       'sqft_living15', 'sqft_lot15', 'sale_yr', 'sale_month', 'season', 'age',\n",
       "       'last_renovation', 'renovation_status', 'sqft_outside',\n",
       "       'sqft_outside15', 'percent_above'],\n",
       "      dtype='object')"
      ]
     },
     "execution_count": 152,
     "metadata": {},
     "output_type": "execute_result"
    }
   ],
   "source": [
    "df.columns"
   ]
  },
  {
   "cell_type": "markdown",
   "metadata": {},
   "source": [
    "Outlier Analysis"
   ]
  },
  {
   "cell_type": "code",
   "execution_count": 153,
   "metadata": {},
   "outputs": [],
   "source": [
    "#Want to look at variables which are not categorical.\n",
    "df_quant=df[target+dense_factors+sparse_factors]"
   ]
  },
  {
   "cell_type": "code",
   "execution_count": 154,
   "metadata": {},
   "outputs": [
    {
     "data": {
      "text/html": [
       "<div>\n",
       "<style scoped>\n",
       "    .dataframe tbody tr th:only-of-type {\n",
       "        vertical-align: middle;\n",
       "    }\n",
       "\n",
       "    .dataframe tbody tr th {\n",
       "        vertical-align: top;\n",
       "    }\n",
       "\n",
       "    .dataframe thead th {\n",
       "        text-align: right;\n",
       "    }\n",
       "</style>\n",
       "<table border=\"1\" class=\"dataframe\">\n",
       "  <thead>\n",
       "    <tr style=\"text-align: right;\">\n",
       "      <th></th>\n",
       "      <th>price</th>\n",
       "      <th>sqft_living</th>\n",
       "      <th>sqft_outside</th>\n",
       "      <th>percent_above</th>\n",
       "      <th>sqft_living15</th>\n",
       "      <th>sqft_outside15</th>\n",
       "      <th>age</th>\n",
       "      <th>bedrooms</th>\n",
       "      <th>bathrooms</th>\n",
       "      <th>floors</th>\n",
       "      <th>view</th>\n",
       "      <th>grade</th>\n",
       "      <th>condition</th>\n",
       "    </tr>\n",
       "    <tr>\n",
       "      <th>id</th>\n",
       "      <th></th>\n",
       "      <th></th>\n",
       "      <th></th>\n",
       "      <th></th>\n",
       "      <th></th>\n",
       "      <th></th>\n",
       "      <th></th>\n",
       "      <th></th>\n",
       "      <th></th>\n",
       "      <th></th>\n",
       "      <th></th>\n",
       "      <th></th>\n",
       "      <th></th>\n",
       "    </tr>\n",
       "  </thead>\n",
       "  <tbody>\n",
       "    <tr>\n",
       "      <th>71293005201410</th>\n",
       "      <td>-0.869162</td>\n",
       "      <td>-0.980819</td>\n",
       "      <td>-0.207151</td>\n",
       "      <td>0.728030</td>\n",
       "      <td>-0.943359</td>\n",
       "      <td>-0.237857</td>\n",
       "      <td>0.533731</td>\n",
       "      <td>-0.402680</td>\n",
       "      <td>-1.451646</td>\n",
       "      <td>-0.915398</td>\n",
       "      <td>-0.305436</td>\n",
       "      <td>-0.560649</td>\n",
       "      <td>-0.629726</td>\n",
       "    </tr>\n",
       "    <tr>\n",
       "      <th>64141001921412</th>\n",
       "      <td>-0.005621</td>\n",
       "      <td>0.534291</td>\n",
       "      <td>-0.202251</td>\n",
       "      <td>-0.182470</td>\n",
       "      <td>-0.432488</td>\n",
       "      <td>-0.177461</td>\n",
       "      <td>0.669894</td>\n",
       "      <td>-0.402680</td>\n",
       "      <td>0.174721</td>\n",
       "      <td>0.937163</td>\n",
       "      <td>-0.305436</td>\n",
       "      <td>-0.560649</td>\n",
       "      <td>-0.629726</td>\n",
       "    </tr>\n",
       "    <tr>\n",
       "      <th>5631500400152</th>\n",
       "      <td>-0.983627</td>\n",
       "      <td>-1.427722</td>\n",
       "      <td>-0.091700</td>\n",
       "      <td>0.728030</td>\n",
       "      <td>1.070931</td>\n",
       "      <td>-0.199828</td>\n",
       "      <td>1.316669</td>\n",
       "      <td>-1.482141</td>\n",
       "      <td>-1.451646</td>\n",
       "      <td>-0.915398</td>\n",
       "      <td>-0.305436</td>\n",
       "      <td>-1.413443</td>\n",
       "      <td>-0.629726</td>\n",
       "    </tr>\n",
       "    <tr>\n",
       "      <th>24872008751412</th>\n",
       "      <td>0.174681</td>\n",
       "      <td>-0.130613</td>\n",
       "      <td>-0.241834</td>\n",
       "      <td>-1.988023</td>\n",
       "      <td>-0.914166</td>\n",
       "      <td>-0.262547</td>\n",
       "      <td>0.193323</td>\n",
       "      <td>0.676781</td>\n",
       "      <td>1.150541</td>\n",
       "      <td>-0.915398</td>\n",
       "      <td>-0.305436</td>\n",
       "      <td>-0.560649</td>\n",
       "      <td>2.444177</td>\n",
       "    </tr>\n",
       "    <tr>\n",
       "      <th>1954400510152</th>\n",
       "      <td>-0.082113</td>\n",
       "      <td>-0.435815</td>\n",
       "      <td>-0.160340</td>\n",
       "      <td>0.728030</td>\n",
       "      <td>-0.271929</td>\n",
       "      <td>-0.186526</td>\n",
       "      <td>-0.521533</td>\n",
       "      <td>-0.402680</td>\n",
       "      <td>-0.150553</td>\n",
       "      <td>-0.915398</td>\n",
       "      <td>-0.305436</td>\n",
       "      <td>0.292146</td>\n",
       "      <td>-0.629726</td>\n",
       "    </tr>\n",
       "  </tbody>\n",
       "</table>\n",
       "</div>"
      ],
      "text/plain": [
       "                   price  sqft_living  sqft_outside  percent_above  \\\n",
       "id                                                                   \n",
       "71293005201410 -0.869162    -0.980819     -0.207151       0.728030   \n",
       "64141001921412 -0.005621     0.534291     -0.202251      -0.182470   \n",
       "5631500400152  -0.983627    -1.427722     -0.091700       0.728030   \n",
       "24872008751412  0.174681    -0.130613     -0.241834      -1.988023   \n",
       "1954400510152  -0.082113    -0.435815     -0.160340       0.728030   \n",
       "\n",
       "                sqft_living15  sqft_outside15       age  bedrooms  bathrooms  \\\n",
       "id                                                                             \n",
       "71293005201410      -0.943359       -0.237857  0.533731 -0.402680  -1.451646   \n",
       "64141001921412      -0.432488       -0.177461  0.669894 -0.402680   0.174721   \n",
       "5631500400152        1.070931       -0.199828  1.316669 -1.482141  -1.451646   \n",
       "24872008751412      -0.914166       -0.262547  0.193323  0.676781   1.150541   \n",
       "1954400510152       -0.271929       -0.186526 -0.521533 -0.402680  -0.150553   \n",
       "\n",
       "                  floors      view     grade  condition  \n",
       "id                                                       \n",
       "71293005201410 -0.915398 -0.305436 -0.560649  -0.629726  \n",
       "64141001921412  0.937163 -0.305436 -0.560649  -0.629726  \n",
       "5631500400152  -0.915398 -0.305436 -1.413443  -0.629726  \n",
       "24872008751412 -0.915398 -0.305436 -0.560649   2.444177  \n",
       "1954400510152  -0.915398 -0.305436  0.292146  -0.629726  "
      ]
     },
     "execution_count": 154,
     "metadata": {},
     "output_type": "execute_result"
    }
   ],
   "source": [
    "#Calculate Z_Scores for all the quantitative columns.\n",
    "df_zScores=df_quant.apply(stats.zscore)\n",
    "df_zScores.head()"
   ]
  },
  {
   "cell_type": "code",
   "execution_count": 155,
   "metadata": {},
   "outputs": [
    {
     "data": {
      "text/plain": [
       "price             10\n",
       "sqft_living        2\n",
       "sqft_outside      35\n",
       "percent_above      0\n",
       "sqft_living15      0\n",
       "sqft_outside15    28\n",
       "age                0\n",
       "bedrooms           1\n",
       "bathrooms          0\n",
       "floors             0\n",
       "view               0\n",
       "grade              0\n",
       "condition          0\n",
       "totals            76\n",
       "dtype: int64"
      ]
     },
     "execution_count": 155,
     "metadata": {},
     "output_type": "execute_result"
    }
   ],
   "source": [
    "#Define an extreme threshold.  Z-Scores above this threshold will be flagged.\n",
    "threshold=10\n",
    "out_bool=df_zScores.apply(lambda x:abs(x)>threshold)\n",
    "out_bool['totals']=out_bool.apply(sum,axis=1)\n",
    "out_bool.sum()"
   ]
  },
  {
   "cell_type": "code",
   "execution_count": 156,
   "metadata": {},
   "outputs": [
    {
     "data": {
      "text/plain": [
       "0    21467\n",
       "1       58\n",
       "2        9\n",
       "Name: totals, dtype: int64"
      ]
     },
     "execution_count": 156,
     "metadata": {},
     "output_type": "execute_result"
    }
   ],
   "source": [
    "out_bool.totals.value_counts().sort_index()"
   ]
  },
  {
   "cell_type": "code",
   "execution_count": 157,
   "metadata": {},
   "outputs": [
    {
     "data": {
      "text/plain": [
       "(21467, 29)"
      ]
     },
     "execution_count": 157,
     "metadata": {},
     "output_type": "execute_result"
    }
   ],
   "source": [
    "#We can choose to drop all observations which have 1 or two extreme values.\n",
    "outliers=out_bool.totals.nlargest(67)\n",
    "df_clean=df.drop(outliers.index.values,axis=0)\n",
    "df_clean.shape"
   ]
  },
  {
   "cell_type": "code",
   "execution_count": 159,
   "metadata": {},
   "outputs": [],
   "source": [
    "variable_types={\n",
    "    'target':target,\n",
    "    'dense':dense_factors,\n",
    "    'sparse':sparse_factors,\n",
    "    'categorical':category_factors,\n",
    "    'ordinal':ordinal_factors,\n",
    "    'other':other\n",
    "}\n",
    "with open('variable_org','wb') as f:\n",
    "    pickle.dump(variable_types,f)\n",
    "df_clean.to_pickle('Clean_Train.pkl')"
   ]
  },
  {
   "cell_type": "code",
   "execution_count": null,
   "metadata": {},
   "outputs": [],
   "source": []
  }
 ],
 "metadata": {
  "kernelspec": {
   "display_name": "Python 3",
   "language": "python",
   "name": "python3"
  },
  "language_info": {
   "codemirror_mode": {
    "name": "ipython",
    "version": 3
   },
   "file_extension": ".py",
   "mimetype": "text/x-python",
   "name": "python",
   "nbconvert_exporter": "python",
   "pygments_lexer": "ipython3",
   "version": "3.8.5"
  }
 },
 "nbformat": 4,
 "nbformat_minor": 4
}
